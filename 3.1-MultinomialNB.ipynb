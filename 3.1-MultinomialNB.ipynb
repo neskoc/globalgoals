{
 "cells": [
  {
   "cell_type": "code",
   "execution_count": 50,
   "metadata": {},
   "outputs": [],
   "source": [
    "import pandas as pd\n",
    "import pprint as pp"
   ]
  },
  {
   "cell_type": "code",
   "execution_count": 51,
   "metadata": {},
   "outputs": [],
   "source": [
    "from inc import stop_words as sw\n",
    "from inc import extra_stopwords as esw"
   ]
  },
  {
   "cell_type": "code",
   "execution_count": 52,
   "metadata": {},
   "outputs": [],
   "source": [
    "import numpy as np\n",
    "import matplotlib.pyplot as plt\n",
    "import seaborn as sns; sns.set()"
   ]
  },
  {
   "cell_type": "code",
   "execution_count": 53,
   "metadata": {},
   "outputs": [],
   "source": [
    "import torch\n",
    "import torch.nn.functional as F\n",
    "import torch.nn as nn\n",
    "import torch.optim as optim\n",
    "from torch.utils.data import DataLoader, Dataset\n",
    "from sklearn.feature_extraction.text import CountVectorizer\n",
    "from sklearn.feature_extraction.text import TfidfVectorizer\n",
    "from sklearn.naive_bayes import MultinomialNB\n",
    "from sklearn.pipeline import make_pipeline"
   ]
  },
  {
   "cell_type": "code",
   "execution_count": 54,
   "metadata": {},
   "outputs": [
    {
     "data": {
      "text/plain": [
       "device(type='cuda')"
      ]
     },
     "execution_count": 54,
     "metadata": {},
     "output_type": "execute_result"
    }
   ],
   "source": [
    "device = torch.device('cuda' if torch.cuda.is_available() else 'cpu')\n",
    "device"
   ]
  },
  {
   "cell_type": "code",
   "execution_count": 55,
   "metadata": {},
   "outputs": [],
   "source": [
    "from inc import stop_words as sw\n",
    "from inc import extra_stopwords as esw\n",
    "sw.STOP_WORDS = sw.STOP_WORDS.union(esw.common_stopwords)\n",
    "sw.STOP_WORDS = sw.STOP_WORDS.union(esw.extra_stopwords)"
   ]
  },
  {
   "cell_type": "code",
   "execution_count": 57,
   "metadata": {},
   "outputs": [],
   "source": [
    "model = make_pipeline(TfidfVectorizer(stop_words=sw.STOP_WORDS), MultinomialNB())"
   ]
  },
  {
   "cell_type": "code",
   "execution_count": 58,
   "metadata": {},
   "outputs": [],
   "source": [
    "from sqlalchemy import create_engine\n",
    "table_name = 'Training_set'\n",
    "db_path = 'db/training.sqlite'\n",
    "db_path = 'sqlite:///' + db_path\n",
    "engine = create_engine(db_path, echo=True)"
   ]
  },
  {
   "cell_type": "code",
   "execution_count": 59,
   "metadata": {},
   "outputs": [
    {
     "name": "stdout",
     "output_type": "stream",
     "text": [
      "2020-12-17 01:40:04,370 INFO sqlalchemy.engine.base.Engine SELECT CAST('test plain returns' AS VARCHAR(60)) AS anon_1\n",
      "2020-12-17 01:40:04,371 INFO sqlalchemy.engine.base.Engine ()\n",
      "2020-12-17 01:40:04,372 INFO sqlalchemy.engine.base.Engine SELECT CAST('test unicode returns' AS VARCHAR(60)) AS anon_1\n",
      "2020-12-17 01:40:04,373 INFO sqlalchemy.engine.base.Engine ()\n",
      "2020-12-17 01:40:04,374 INFO sqlalchemy.engine.base.Engine SELECT name FROM sqlite_master WHERE type='table' ORDER BY name\n",
      "2020-12-17 01:40:04,375 INFO sqlalchemy.engine.base.Engine ()\n",
      "2020-12-17 01:40:04,377 INFO sqlalchemy.engine.base.Engine SELECT name FROM sqlite_master WHERE type='view' ORDER BY name\n",
      "2020-12-17 01:40:04,378 INFO sqlalchemy.engine.base.Engine ()\n",
      "2020-12-17 01:40:04,379 INFO sqlalchemy.engine.base.Engine PRAGMA main.table_xinfo(\"Training_set\")\n",
      "2020-12-17 01:40:04,380 INFO sqlalchemy.engine.base.Engine ()\n",
      "2020-12-17 01:40:04,382 INFO sqlalchemy.engine.base.Engine SELECT sql FROM  (SELECT * FROM sqlite_master UNION ALL   SELECT * FROM sqlite_temp_master) WHERE name = ? AND type = 'table'\n",
      "2020-12-17 01:40:04,383 INFO sqlalchemy.engine.base.Engine ('Training_set',)\n",
      "2020-12-17 01:40:04,385 INFO sqlalchemy.engine.base.Engine PRAGMA main.foreign_key_list(\"Training_set\")\n",
      "2020-12-17 01:40:04,386 INFO sqlalchemy.engine.base.Engine ()\n",
      "2020-12-17 01:40:04,387 INFO sqlalchemy.engine.base.Engine PRAGMA temp.foreign_key_list(\"Training_set\")\n",
      "2020-12-17 01:40:04,387 INFO sqlalchemy.engine.base.Engine ()\n",
      "2020-12-17 01:40:04,389 INFO sqlalchemy.engine.base.Engine SELECT sql FROM  (SELECT * FROM sqlite_master UNION ALL   SELECT * FROM sqlite_temp_master) WHERE name = ? AND type = 'table'\n",
      "2020-12-17 01:40:04,389 INFO sqlalchemy.engine.base.Engine ('Training_set',)\n",
      "2020-12-17 01:40:04,391 INFO sqlalchemy.engine.base.Engine PRAGMA main.index_list(\"Training_set\")\n",
      "2020-12-17 01:40:04,391 INFO sqlalchemy.engine.base.Engine ()\n",
      "2020-12-17 01:40:04,393 INFO sqlalchemy.engine.base.Engine PRAGMA main.index_info(\"ix_Training_set_index\")\n",
      "2020-12-17 01:40:04,393 INFO sqlalchemy.engine.base.Engine ()\n",
      "2020-12-17 01:40:04,394 INFO sqlalchemy.engine.base.Engine PRAGMA main.index_list(\"Training_set\")\n",
      "2020-12-17 01:40:04,395 INFO sqlalchemy.engine.base.Engine ()\n",
      "2020-12-17 01:40:04,397 INFO sqlalchemy.engine.base.Engine PRAGMA main.index_info(\"ix_Training_set_index\")\n",
      "2020-12-17 01:40:04,398 INFO sqlalchemy.engine.base.Engine ()\n",
      "2020-12-17 01:40:04,399 INFO sqlalchemy.engine.base.Engine SELECT sql FROM  (SELECT * FROM sqlite_master UNION ALL   SELECT * FROM sqlite_temp_master) WHERE name = ? AND type = 'table'\n",
      "2020-12-17 01:40:04,400 INFO sqlalchemy.engine.base.Engine ('Training_set',)\n",
      "2020-12-17 01:40:04,403 INFO sqlalchemy.engine.base.OptionEngine SELECT \"Training_set\".\"index\", \"Training_set\".abstract, \"Training_set\".class \n",
      "FROM \"Training_set\"\n",
      "2020-12-17 01:40:04,404 INFO sqlalchemy.engine.base.OptionEngine ()\n"
     ]
    }
   ],
   "source": [
    "df = pd.read_sql_table(table_name, engine)"
   ]
  },
  {
   "cell_type": "code",
   "execution_count": 60,
   "metadata": {},
   "outputs": [],
   "source": [
    "df = df.rename(columns={\"class\": \"label\"})"
   ]
  },
  {
   "cell_type": "code",
   "execution_count": 61,
   "metadata": {},
   "outputs": [],
   "source": [
    "df = df.sample(frac=1).reset_index(drop=True) # randomize"
   ]
  },
  {
   "cell_type": "code",
   "execution_count": 62,
   "metadata": {},
   "outputs": [],
   "source": [
    "train = df.sample(frac=0.8,random_state=200) #random state is a seed value\n",
    "test = df.drop(train.index)"
   ]
  },
  {
   "cell_type": "code",
   "execution_count": 63,
   "metadata": {},
   "outputs": [
    {
     "data": {
      "text/plain": [
       "Pipeline(steps=[('tfidfvectorizer',\n",
       "                 TfidfVectorizer(stop_words={'aderton', 'adertonde', 'adjö',\n",
       "                                             'aldrig', 'allas', 'allt',\n",
       "                                             'alltid', 'alltså', 'andra',\n",
       "                                             'andras', 'annan', 'annat',\n",
       "                                             'ansökan', 'arton', 'artonde',\n",
       "                                             'att', 'av', 'avhandling',\n",
       "                                             'bakgrund', 'bakom', 'bara',\n",
       "                                             'behöva', 'behövas', 'behövde',\n",
       "                                             'behövt', 'beslut', 'beslutat',\n",
       "                                             'beslutit', 'bland', 'blev', ...})),\n",
       "                ('multinomialnb', MultinomialNB())])"
      ]
     },
     "execution_count": 63,
     "metadata": {},
     "output_type": "execute_result"
    }
   ],
   "source": [
    "model.fit(train.abstract, train.label)"
   ]
  },
  {
   "cell_type": "code",
   "execution_count": 64,
   "metadata": {},
   "outputs": [],
   "source": [
    "labels = model.predict(test.abstract)"
   ]
  },
  {
   "cell_type": "code",
   "execution_count": 65,
   "metadata": {},
   "outputs": [
    {
     "name": "stdout",
     "output_type": "stream",
     "text": [
      "array([ 9, 15, 17,  9, 17, 17, 11, 14, 16, 11,  9, 10, 15,  9,  8, 13, 10,\n",
      "        8, 11, 15, 10, 15, 15, 10,  9,  6,  9, 13,  9, 11,  7, 13,  8,  8,\n",
      "       17,  7, 11,  7,  3,  9,  8,  9,  2,  9,  9, 13, 16, 11, 13,  2,  9,\n",
      "       13, 14,  9, 16,  2, 11, 15,  9,  9, 13,  8, 14, 12, 17, 11,  9, 10,\n",
      "        9,  8,  2, 11,  9, 17,  7, 15, 14, 16, 14, 16, 16,  9,  9,  9, 17,\n",
      "        8, 12,  8, 14,  2, 16,  9,  3, 17,  2, 14, 13, 10, 12, 13, 10,  9,\n",
      "       11, 12,  9,  2,  7,  9,  9, 11, 12, 10, 15, 15, 16, 12, 13, 16, 10,\n",
      "       10, 10,  3,  6,  8,  9,  2, 15, 15,  8, 11,  2,  9, 12, 14, 10, 14,\n",
      "       16,  9, 11, 10,  8, 15,  9, 15,  7,  8, 16, 14, 11, 13,  9,  8,  9,\n",
      "       17, 11, 15,  2, 15,  2,  2,  9, 13, 10, 12,  9, 13, 17, 14,  7, 17,\n",
      "       14, 11,  9,  9, 14,  7, 15,  6, 10,  9, 14,  9,  9, 17,  9,  9, 14,\n",
      "        9,  8, 15,  2, 10, 11, 11,  9, 11, 11, 15,  9,  8, 10, 13,  8,  9,\n",
      "        9,  3, 15, 12, 16,  8, 14, 17,  6, 11, 15, 17,  2, 14,  9, 10,  9,\n",
      "       16, 12,  2, 15,  9, 10,  4,  9,  2, 11, 15,  2, 11, 10,  9,  2, 10,\n",
      "       13,  9,  9, 15, 10,  2,  9, 10,  9, 15,  2,  2,  3, 15, 15, 12, 17,\n",
      "       14, 10, 10, 10, 12,  2,  9, 10,  9, 11,  8, 16,  9,  8,  8, 17,  8,\n",
      "       15,  7,  9,  9,  7, 13, 11, 15, 12, 11,  9,  6, 11,  2,  9, 15, 15,\n",
      "       10, 17,  9,  9, 11, 12, 15,  2,  9,  3, 10, 11, 13,  9, 11,  9,  3,\n",
      "        9])\n"
     ]
    }
   ],
   "source": [
    "pp.pprint(labels)"
   ]
  },
  {
   "cell_type": "code",
   "execution_count": 66,
   "metadata": {},
   "outputs": [],
   "source": [
    "test = test.drop(columns=['index'])"
   ]
  },
  {
   "cell_type": "code",
   "execution_count": 67,
   "metadata": {},
   "outputs": [],
   "source": [
    "test = test.reset_index(drop=True)"
   ]
  },
  {
   "cell_type": "code",
   "execution_count": 68,
   "metadata": {},
   "outputs": [
    {
     "data": {
      "text/html": [
       "<div>\n",
       "<style scoped>\n",
       "    .dataframe tbody tr th:only-of-type {\n",
       "        vertical-align: middle;\n",
       "    }\n",
       "\n",
       "    .dataframe tbody tr th {\n",
       "        vertical-align: top;\n",
       "    }\n",
       "\n",
       "    .dataframe thead th {\n",
       "        text-align: right;\n",
       "    }\n",
       "</style>\n",
       "<table border=\"1\" class=\"dataframe\">\n",
       "  <thead>\n",
       "    <tr style=\"text-align: right;\">\n",
       "      <th></th>\n",
       "      <th>abstract</th>\n",
       "      <th>label</th>\n",
       "    </tr>\n",
       "  </thead>\n",
       "  <tbody>\n",
       "    <tr>\n",
       "      <th>0</th>\n",
       "      <td>kunskapslyfte leda digital transformationkunsk...</td>\n",
       "      <td>9</td>\n",
       "    </tr>\n",
       "    <tr>\n",
       "      <th>1</th>\n",
       "      <td>utbyte av resurs mellan habitat vara viktig ko...</td>\n",
       "      <td>6</td>\n",
       "    </tr>\n",
       "    <tr>\n",
       "      <th>2</th>\n",
       "      <td>et med var att representera svensk processin...</td>\n",
       "      <td>8</td>\n",
       "    </tr>\n",
       "    <tr>\n",
       "      <th>3</th>\n",
       "      <td>att presentera vi idé under ge vi möjlighet ...</td>\n",
       "      <td>9</td>\n",
       "    </tr>\n",
       "    <tr>\n",
       "      <th>4</th>\n",
       "      <td>av resa vara att träffa svensk och internati...</td>\n",
       "      <td>17</td>\n",
       "    </tr>\n",
       "    <tr>\n",
       "      <th>...</th>\n",
       "      <td>...</td>\n",
       "      <td>...</td>\n",
       "    </tr>\n",
       "    <tr>\n",
       "      <th>302</th>\n",
       "      <td>vi ha transformerat vi healthtech accelerato...</td>\n",
       "      <td>3</td>\n",
       "    </tr>\n",
       "    <tr>\n",
       "      <th>303</th>\n",
       "      <td>ämna beforsk teknologium och teknologisk pre...</td>\n",
       "      <td>16</td>\n",
       "    </tr>\n",
       "    <tr>\n",
       "      <th>304</th>\n",
       "      <td>sättning med denna vara att göra vi plattfor...</td>\n",
       "      <td>4</td>\n",
       "    </tr>\n",
       "    <tr>\n",
       "      <th>305</th>\n",
       "      <td>vedkamin underlätta övergång till en hållbar s...</td>\n",
       "      <td>7</td>\n",
       "    </tr>\n",
       "    <tr>\n",
       "      <th>306</th>\n",
       "      <td>syfta till att utveckla validera samt demonstr...</td>\n",
       "      <td>11</td>\n",
       "    </tr>\n",
       "  </tbody>\n",
       "</table>\n",
       "<p>307 rows × 2 columns</p>\n",
       "</div>"
      ],
      "text/plain": [
       "                                              abstract  label\n",
       "0    kunskapslyfte leda digital transformationkunsk...      9\n",
       "1    utbyte av resurs mellan habitat vara viktig ko...      6\n",
       "2      et med var att representera svensk processin...      8\n",
       "3      att presentera vi idé under ge vi möjlighet ...      9\n",
       "4      av resa vara att träffa svensk och internati...     17\n",
       "..                                                 ...    ...\n",
       "302    vi ha transformerat vi healthtech accelerato...      3\n",
       "303    ämna beforsk teknologium och teknologisk pre...     16\n",
       "304    sättning med denna vara att göra vi plattfor...      4\n",
       "305  vedkamin underlätta övergång till en hållbar s...      7\n",
       "306  syfta till att utveckla validera samt demonstr...     11\n",
       "\n",
       "[307 rows x 2 columns]"
      ]
     },
     "execution_count": 68,
     "metadata": {},
     "output_type": "execute_result"
    }
   ],
   "source": [
    "test"
   ]
  },
  {
   "cell_type": "code",
   "execution_count": 69,
   "metadata": {},
   "outputs": [],
   "source": [
    "confusion_mx = {}\n",
    "for ix, label in enumerate(labels):\n",
    "    # print(ix, label, test.label[ix])\n",
    "    # test.iloc[ix].values\n",
    "    if label == test.label[ix]:\n",
    "        if label in confusion_mx:\n",
    "            confusion_mx[label] += 1\n",
    "        else:\n",
    "            confusion_mx[label] = 1"
   ]
  },
  {
   "cell_type": "code",
   "execution_count": 70,
   "metadata": {},
   "outputs": [],
   "source": [
    "conf_labels = list(range(2,18))"
   ]
  },
  {
   "cell_type": "code",
   "execution_count": 71,
   "metadata": {},
   "outputs": [],
   "source": [
    "from sklearn.metrics import confusion_matrix\n",
    "mat = confusion_matrix(test.label, labels, labels=conf_labels)"
   ]
  },
  {
   "cell_type": "code",
   "execution_count": 72,
   "metadata": {},
   "outputs": [
    {
     "name": "stdout",
     "output_type": "stream",
     "text": [
      "array([[14,  1,  0,  0,  0,  0,  0,  0,  0,  0,  0,  1,  0,  0,  0,  1],\n",
      "       [ 5,  5,  0,  0,  1,  0,  2,  4,  1,  0,  0,  0,  2,  0,  0,  3],\n",
      "       [ 0,  0,  1,  0,  0,  0,  4,  9,  6,  3,  0,  1,  1,  1,  2,  1],\n",
      "       [ 0,  0,  0,  0,  0,  0,  1,  3,  4,  1,  0,  0,  1,  0,  0,  1],\n",
      "       [ 0,  0,  0,  0,  4,  0,  2,  1,  0,  1,  0,  1,  2,  6,  0,  0],\n",
      "       [ 3,  1,  0,  0,  0,  4,  2,  2,  1,  4,  1,  1,  0,  1,  1,  1],\n",
      "       [ 0,  0,  0,  0,  0,  1,  2,  8,  5,  0,  0,  1,  0,  1,  1,  1],\n",
      "       [ 0,  0,  0,  0,  0,  0,  3,  7,  0,  1,  0,  0,  1,  1,  0,  0],\n",
      "       [ 0,  0,  0,  0,  0,  1,  2,  8,  5,  3,  0,  0,  1,  0,  2,  2],\n",
      "       [ 0,  0,  0,  0,  0,  0,  0,  6,  1,  8,  0,  2,  0,  2,  0,  0],\n",
      "       [ 0,  0,  0,  0,  0,  0,  0,  4,  0,  2, 11,  0,  1,  1,  0,  0],\n",
      "       [ 0,  0,  0,  0,  0,  0,  1,  1,  1,  3,  0,  6,  0,  4,  0,  0],\n",
      "       [ 1,  0,  0,  0,  0,  0,  0,  2,  1,  0,  2,  1,  7,  0,  0,  1],\n",
      "       [ 1,  0,  0,  0,  0,  2,  0,  0,  0,  0,  0,  2,  0, 14,  0,  0],\n",
      "       [ 0,  0,  0,  0,  0,  1,  2,  6,  3,  3,  0,  1,  1,  0,  3,  1],\n",
      "       [ 0,  0,  0,  0,  0,  1,  1,  7,  1,  1,  0,  0,  1,  0,  5,  5]])\n"
     ]
    }
   ],
   "source": [
    "pp.pprint(mat)"
   ]
  },
  {
   "cell_type": "code",
   "execution_count": 73,
   "metadata": {},
   "outputs": [],
   "source": [
    "sorted_dict = dict(sorted(confusion_mx.items()))"
   ]
  },
  {
   "cell_type": "code",
   "execution_count": 74,
   "metadata": {},
   "outputs": [
    {
     "data": {
      "image/png": "[encoded data removed]",
      "text/plain": [
       "<Figure size 720x720 with 1 Axes>"
      ]
     },
     "metadata": {},
     "output_type": "display_data"
    }
   ],
   "source": [
    "sns.set(style=\"white\", color_codes=True)\n",
    "plt.subplots(figsize=(10,10))\n",
    "ax = sns.heatmap(mat.T, square=True, annot=True, fmt='d', cbar=False,\n",
    "            xticklabels=conf_labels, yticklabels=conf_labels,cmap=\"YlGnBu\")\n",
    "ax.xaxis.tick_top() # x axis on top\n",
    "ax.xaxis.set_label_position('top')\n",
    "\n",
    "plt.xlabel('true label')\n",
    "plt.ylabel('predicted label');"
   ]
  },
  {
   "cell_type": "code",
   "execution_count": 75,
   "metadata": {},
   "outputs": [
    {
     "data": {
      "image/png": "[encoded data removed]",
      "text/plain": [
       "<Figure size 720x720 with 1 Axes>"
      ]
     },
     "metadata": {},
     "output_type": "display_data"
    }
   ],
   "source": [
    "plt.subplots(figsize=(10,10))\n",
    "ax = sns.heatmap(mat.T, square=True, annot=True, fmt='d', cbar=False,\n",
    "            xticklabels=conf_labels, yticklabels=conf_labels,cmap=\"Blues\")\n",
    "ax.xaxis.tick_top() # x axis on top\n",
    "ax.xaxis.set_label_position('top')\n",
    "\n",
    "plt.xlabel('true label')\n",
    "plt.ylabel('predicted label');"
   ]
  }
 ],
 "metadata": {
  "kernelspec": {
   "display_name": "Python 3",
   "language": "python",
   "name": "python3"
  },
  "language_info": {
   "codemirror_mode": {
    "name": "ipython",
    "version": 3
   },
   "file_extension": ".py",
   "mimetype": "text/x-python",
   "name": "python",
   "nbconvert_exporter": "python",
   "pygments_lexer": "ipython3",
   "version": "3.8.5"
  }
 },
 "nbformat": 4,
 "nbformat_minor": 4
}
