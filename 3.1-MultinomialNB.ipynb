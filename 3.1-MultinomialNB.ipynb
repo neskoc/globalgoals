{
 "cells": [
  {
   "cell_type": "code",
   "execution_count": 1,
   "metadata": {},
   "outputs": [],
   "source": [
    "import pandas as pd\n",
    "import pprint as pp"
   ]
  },
  {
   "cell_type": "code",
   "execution_count": 6,
   "metadata": {},
   "outputs": [],
   "source": [
    "import numpy as np\n",
    "import matplotlib.pyplot as plt\n",
    "import seaborn as sns; sns.set()"
   ]
  },
  {
   "cell_type": "code",
   "execution_count": 7,
   "metadata": {},
   "outputs": [],
   "source": [
    "from sklearn.feature_extraction.text import CountVectorizer\n",
    "from sklearn.feature_extraction.text import TfidfVectorizer\n",
    "from sklearn.naive_bayes import MultinomialNB\n",
    "from sklearn.pipeline import make_pipeline"
   ]
  },
  {
   "cell_type": "code",
   "execution_count": 8,
   "metadata": {},
   "outputs": [],
   "source": [
    "# device = torch.device('cuda' if torch.cuda.is_available() else 'cpu')\n",
    "# device"
   ]
  },
  {
   "cell_type": "code",
   "execution_count": 9,
   "metadata": {},
   "outputs": [],
   "source": [
    "from inc import stop_words as sw\n",
    "from inc import extra_stopwords as esw\n",
    "sw.STOP_WORDS = sw.STOP_WORDS.union(esw.common_stopwords)\n",
    "sw.STOP_WORDS = sw.STOP_WORDS.union(esw.extra_stopwords)"
   ]
  },
  {
   "cell_type": "code",
   "execution_count": 10,
   "metadata": {},
   "outputs": [],
   "source": [
    "model = make_pipeline(TfidfVectorizer(stop_words=sw.STOP_WORDS), MultinomialNB())"
   ]
  },
  {
   "cell_type": "code",
   "execution_count": 11,
   "metadata": {},
   "outputs": [],
   "source": [
    "from sqlalchemy import create_engine\n",
    "table_name = 'Training_set'\n",
    "db_path = 'db/training.sqlite'\n",
    "db_path = 'sqlite:///' + db_path\n",
    "engine = create_engine(db_path, echo=True)"
   ]
  },
  {
   "cell_type": "code",
   "execution_count": 57,
   "metadata": {},
   "outputs": [
    {
     "name": "stdout",
     "output_type": "stream",
     "text": [
      "2020-12-19 00:15:12,868 INFO sqlalchemy.engine.base.Engine SELECT name FROM sqlite_master WHERE type='table' ORDER BY name\n",
      "2020-12-19 00:15:12,869 INFO sqlalchemy.engine.base.Engine ()\n",
      "2020-12-19 00:15:12,871 INFO sqlalchemy.engine.base.Engine SELECT name FROM sqlite_master WHERE type='view' ORDER BY name\n",
      "2020-12-19 00:15:12,871 INFO sqlalchemy.engine.base.Engine ()\n",
      "2020-12-19 00:15:12,873 INFO sqlalchemy.engine.base.Engine PRAGMA main.table_xinfo(\"Training_set\")\n",
      "2020-12-19 00:15:12,874 INFO sqlalchemy.engine.base.Engine ()\n",
      "2020-12-19 00:15:12,876 INFO sqlalchemy.engine.base.Engine SELECT sql FROM  (SELECT * FROM sqlite_master UNION ALL   SELECT * FROM sqlite_temp_master) WHERE name = ? AND type = 'table'\n",
      "2020-12-19 00:15:12,876 INFO sqlalchemy.engine.base.Engine ('Training_set',)\n",
      "2020-12-19 00:15:12,878 INFO sqlalchemy.engine.base.Engine PRAGMA main.foreign_key_list(\"Training_set\")\n",
      "2020-12-19 00:15:12,879 INFO sqlalchemy.engine.base.Engine ()\n",
      "2020-12-19 00:15:12,880 INFO sqlalchemy.engine.base.Engine PRAGMA temp.foreign_key_list(\"Training_set\")\n",
      "2020-12-19 00:15:12,881 INFO sqlalchemy.engine.base.Engine ()\n",
      "2020-12-19 00:15:12,882 INFO sqlalchemy.engine.base.Engine SELECT sql FROM  (SELECT * FROM sqlite_master UNION ALL   SELECT * FROM sqlite_temp_master) WHERE name = ? AND type = 'table'\n",
      "2020-12-19 00:15:12,883 INFO sqlalchemy.engine.base.Engine ('Training_set',)\n",
      "2020-12-19 00:15:12,884 INFO sqlalchemy.engine.base.Engine PRAGMA main.index_list(\"Training_set\")\n",
      "2020-12-19 00:15:12,885 INFO sqlalchemy.engine.base.Engine ()\n",
      "2020-12-19 00:15:12,886 INFO sqlalchemy.engine.base.Engine PRAGMA main.index_info(\"ix_Training_set_index\")\n",
      "2020-12-19 00:15:12,887 INFO sqlalchemy.engine.base.Engine ()\n",
      "2020-12-19 00:15:12,888 INFO sqlalchemy.engine.base.Engine PRAGMA main.index_list(\"Training_set\")\n",
      "2020-12-19 00:15:12,889 INFO sqlalchemy.engine.base.Engine ()\n",
      "2020-12-19 00:15:12,890 INFO sqlalchemy.engine.base.Engine PRAGMA main.index_info(\"ix_Training_set_index\")\n",
      "2020-12-19 00:15:12,891 INFO sqlalchemy.engine.base.Engine ()\n",
      "2020-12-19 00:15:12,892 INFO sqlalchemy.engine.base.Engine SELECT sql FROM  (SELECT * FROM sqlite_master UNION ALL   SELECT * FROM sqlite_temp_master) WHERE name = ? AND type = 'table'\n",
      "2020-12-19 00:15:12,893 INFO sqlalchemy.engine.base.Engine ('Training_set',)\n",
      "2020-12-19 00:15:12,895 INFO sqlalchemy.engine.base.OptionEngine SELECT \"Training_set\".\"index\", \"Training_set\".abstract, \"Training_set\".class \n",
      "FROM \"Training_set\"\n",
      "2020-12-19 00:15:12,896 INFO sqlalchemy.engine.base.OptionEngine ()\n"
     ]
    }
   ],
   "source": [
    "df = pd.read_sql_table(table_name, engine)"
   ]
  },
  {
   "cell_type": "code",
   "execution_count": 58,
   "metadata": {},
   "outputs": [],
   "source": [
    "df = df.rename(columns={\"class\": \"label\"})"
   ]
  },
  {
   "cell_type": "code",
   "execution_count": 59,
   "metadata": {},
   "outputs": [],
   "source": [
    "df = df.sample(frac=1).reset_index(drop=True) # randomize"
   ]
  },
  {
   "cell_type": "code",
   "execution_count": 60,
   "metadata": {},
   "outputs": [],
   "source": [
    "train = df.sample(frac=0.8,random_state=200) #random state is a seed value\n",
    "test = df.drop(train.index)"
   ]
  },
  {
   "cell_type": "code",
   "execution_count": 61,
   "metadata": {},
   "outputs": [
    {
     "data": {
      "text/plain": [
       "Pipeline(steps=[('tfidfvectorizer',\n",
       "                 TfidfVectorizer(stop_words={'aderton', 'adertonde', 'adjö',\n",
       "                                             'aldrig', 'allas', 'allt',\n",
       "                                             'alltid', 'alltså', 'andra',\n",
       "                                             'andras', 'annan', 'annat',\n",
       "                                             'ansökan', 'arton', 'artonde',\n",
       "                                             'att', 'av', 'avhandling',\n",
       "                                             'bakgrund', 'bakom', 'bara',\n",
       "                                             'behöva', 'behövas', 'behövde',\n",
       "                                             'behövt', 'beslut', 'beslutat',\n",
       "                                             'beslutit', 'bland', 'blev', ...})),\n",
       "                ('multinomialnb', MultinomialNB())])"
      ]
     },
     "execution_count": 61,
     "metadata": {},
     "output_type": "execute_result"
    }
   ],
   "source": [
    "model.fit(train.abstract, train.label)"
   ]
  },
  {
   "cell_type": "code",
   "execution_count": 62,
   "metadata": {},
   "outputs": [],
   "source": [
    "labels = model.predict(test.abstract)"
   ]
  },
  {
   "cell_type": "code",
   "execution_count": 63,
   "metadata": {},
   "outputs": [
    {
     "name": "stdout",
     "output_type": "stream",
     "text": [
      "array([16, 15, 16,  8,  8, 10,  8, 16,  9, 10,  2, 17,  4,  8, 17,  9,  7,\n",
      "        9,  6, 10,  8, 16, 12,  2, 15, 11, 14, 10, 17, 12, 13,  4, 11, 11,\n",
      "        9,  4, 12, 10,  8, 10, 10,  3,  6,  7,  4,  7,  2,  2, 12,  8,  9,\n",
      "       15, 14, 16, 10,  4, 12, 11,  3,  2, 16, 10, 16, 10,  6, 10, 10,  7,\n",
      "       16, 16, 16,  8, 15,  8,  8, 12,  2, 15, 10, 15, 11, 12,  3, 16, 16,\n",
      "        9, 16, 12,  4, 12, 17, 11,  4, 15,  9, 11,  8, 10,  8,  4, 16, 15,\n",
      "       10, 13,  6, 11,  3, 12, 10,  2,  9,  2, 17, 12, 14, 16,  8,  2, 15,\n",
      "        7, 15,  2, 10, 16, 13,  2,  3, 17, 12,  8, 12,  4,  8, 16,  8, 12,\n",
      "       15, 12, 10,  2, 16, 15,  8, 15,  8,  8, 16,  4, 10, 17,  7,  9,  8,\n",
      "        9,  2,  8,  9, 14, 13, 10,  9,  4, 17,  2, 11,  7,  7, 14, 10,  4,\n",
      "       16, 16, 15, 11, 17,  8, 11,  8, 13,  9, 10, 15, 13, 15,  6, 12, 10,\n",
      "        3, 16,  6,  6,  9, 10, 16,  3,  2,  8, 16, 13, 10,  8,  2, 12,  3,\n",
      "       14, 15, 10,  8,  6,  4,  4, 10,  9, 10, 10, 12, 10, 15,  2,  7, 11,\n",
      "        9, 11, 15, 12, 16,  8, 16,  8, 10, 15, 16,  8, 12, 13,  2, 15,  2,\n",
      "       12, 17,  8, 15, 10,  9, 14,  8, 16, 17, 16, 10,  9,  2,  3,  8, 11,\n",
      "        8,  2, 12,  8,  2,  4, 14,  9,  7, 10,  4, 15, 11, 17, 13,  2, 16,\n",
      "       11, 15,  8, 16,  6,  9,  8, 12, 11, 15,  4, 10, 10, 12, 10, 10,  3,\n",
      "       15, 11, 14, 11, 12, 10,  8, 16, 12, 12, 17, 13, 15,  7, 17,  8, 11,\n",
      "        2])\n"
     ]
    }
   ],
   "source": [
    "pp.pprint(labels)"
   ]
  },
  {
   "cell_type": "code",
   "execution_count": 64,
   "metadata": {},
   "outputs": [],
   "source": [
    "test = test.drop(columns=['index'])"
   ]
  },
  {
   "cell_type": "code",
   "execution_count": 65,
   "metadata": {},
   "outputs": [],
   "source": [
    "test = test.reset_index(drop=True)"
   ]
  },
  {
   "cell_type": "code",
   "execution_count": 66,
   "metadata": {},
   "outputs": [
    {
     "data": {
      "text/html": [
       "<div>\n",
       "<style scoped>\n",
       "    .dataframe tbody tr th:only-of-type {\n",
       "        vertical-align: middle;\n",
       "    }\n",
       "\n",
       "    .dataframe tbody tr th {\n",
       "        vertical-align: top;\n",
       "    }\n",
       "\n",
       "    .dataframe thead th {\n",
       "        text-align: right;\n",
       "    }\n",
       "</style>\n",
       "<table border=\"1\" class=\"dataframe\">\n",
       "  <thead>\n",
       "    <tr style=\"text-align: right;\">\n",
       "      <th></th>\n",
       "      <th>abstract</th>\n",
       "      <th>label</th>\n",
       "    </tr>\n",
       "  </thead>\n",
       "  <tbody>\n",
       "    <tr>\n",
       "      <th>0</th>\n",
       "      <td>med lansering av climatevisualizer gå koldio...</td>\n",
       "      <td>13</td>\n",
       "    </tr>\n",
       "    <tr>\n",
       "      <th>1</th>\n",
       "      <td>minskande salthalt i norra ishav länka till en...</td>\n",
       "      <td>14</td>\n",
       "    </tr>\n",
       "    <tr>\n",
       "      <th>2</th>\n",
       "      <td>en god resultat från verifiering hos fraunho...</td>\n",
       "      <td>13</td>\n",
       "    </tr>\n",
       "    <tr>\n",
       "      <th>3</th>\n",
       "      <td>denna skola utveckla och verifiera en ny kon...</td>\n",
       "      <td>14</td>\n",
       "    </tr>\n",
       "    <tr>\n",
       "      <th>4</th>\n",
       "      <td>eureka vara verkligen en bra innovation even...</td>\n",
       "      <td>5</td>\n",
       "    </tr>\n",
       "    <tr>\n",
       "      <th>...</th>\n",
       "      <td>...</td>\n",
       "      <td>...</td>\n",
       "    </tr>\n",
       "    <tr>\n",
       "      <th>302</th>\n",
       "      <td>ha studera inflöde av material till en indus...</td>\n",
       "      <td>16</td>\n",
       "    </tr>\n",
       "    <tr>\n",
       "      <th>303</th>\n",
       "      <td>med resa vara att knyta kontakt och att få e...</td>\n",
       "      <td>17</td>\n",
       "    </tr>\n",
       "    <tr>\n",
       "      <th>304</th>\n",
       "      <td>med vara lansera strainlabs produkt hitta ea...</td>\n",
       "      <td>9</td>\n",
       "    </tr>\n",
       "    <tr>\n",
       "      <th>305</th>\n",
       "      <td>med dag hota klimatförändring ha vi en behov a...</td>\n",
       "      <td>11</td>\n",
       "    </tr>\n",
       "    <tr>\n",
       "      <th>306</th>\n",
       "      <td>trots stor forskning och informationsinsats ha...</td>\n",
       "      <td>2</td>\n",
       "    </tr>\n",
       "  </tbody>\n",
       "</table>\n",
       "<p>307 rows × 2 columns</p>\n",
       "</div>"
      ],
      "text/plain": [
       "                                              abstract  label\n",
       "0      med lansering av climatevisualizer gå koldio...     13\n",
       "1    minskande salthalt i norra ishav länka till en...     14\n",
       "2      en god resultat från verifiering hos fraunho...     13\n",
       "3      denna skola utveckla och verifiera en ny kon...     14\n",
       "4      eureka vara verkligen en bra innovation even...      5\n",
       "..                                                 ...    ...\n",
       "302    ha studera inflöde av material till en indus...     16\n",
       "303    med resa vara att knyta kontakt och att få e...     17\n",
       "304    med vara lansera strainlabs produkt hitta ea...      9\n",
       "305  med dag hota klimatförändring ha vi en behov a...     11\n",
       "306  trots stor forskning och informationsinsats ha...      2\n",
       "\n",
       "[307 rows x 2 columns]"
      ]
     },
     "execution_count": 66,
     "metadata": {},
     "output_type": "execute_result"
    }
   ],
   "source": [
    "test"
   ]
  },
  {
   "cell_type": "code",
   "execution_count": 67,
   "metadata": {},
   "outputs": [],
   "source": [
    "confusion_mx = {}\n",
    "for ix, label in enumerate(labels):\n",
    "    # print(ix, label, test.label[ix])\n",
    "    # test.iloc[ix].values\n",
    "    if label == test.label[ix]:\n",
    "        if label in confusion_mx:\n",
    "            confusion_mx[label] += 1\n",
    "        else:\n",
    "            confusion_mx[label] = 1"
   ]
  },
  {
   "cell_type": "code",
   "execution_count": 68,
   "metadata": {},
   "outputs": [],
   "source": [
    "conf_labels = list(range(2,18))"
   ]
  },
  {
   "cell_type": "code",
   "execution_count": 69,
   "metadata": {},
   "outputs": [],
   "source": [
    "from sklearn.metrics import confusion_matrix\n",
    "mat = confusion_matrix(test.label, labels, labels=conf_labels)"
   ]
  },
  {
   "cell_type": "code",
   "execution_count": 70,
   "metadata": {},
   "outputs": [
    {
     "name": "stdout",
     "output_type": "stream",
     "text": [
      "array([[17,  0,  0,  0,  0,  0,  0,  0,  1,  1,  2,  0,  0,  3,  0,  0],\n",
      "       [ 3,  7,  0,  0,  3,  0,  4,  0,  1,  0,  1,  0,  0,  1,  3,  3],\n",
      "       [ 0,  0,  7,  0,  0,  0,  2,  0,  4,  0,  0,  0,  0,  0,  0,  2],\n",
      "       [ 0,  0,  2,  0,  0,  0,  2,  0,  4,  0,  0,  0,  0,  0,  2,  0],\n",
      "       [ 2,  0,  0,  0,  4,  0,  0,  0,  0,  0,  2,  0,  0,  2,  0,  0],\n",
      "       [ 1,  0,  0,  0,  0,  6,  1,  1,  2,  2,  5,  0,  0,  2,  2,  1],\n",
      "       [ 0,  0,  1,  0,  0,  0,  5,  4,  4,  0,  0,  0,  0,  0,  3,  0],\n",
      "       [ 0,  0,  0,  0,  0,  0,  5,  8,  2,  0,  1,  1,  0,  0,  2,  0],\n",
      "       [ 0,  0,  2,  0,  0,  1,  4,  0,  8,  0,  0,  0,  0,  0,  3,  2],\n",
      "       [ 0,  2,  0,  0,  0,  0,  2,  1,  0, 13,  1,  0,  0,  0,  0,  1],\n",
      "       [ 1,  0,  0,  0,  0,  1,  0,  1,  0,  1, 10,  0,  0,  0,  1,  0],\n",
      "       [ 0,  0,  1,  0,  0,  1,  3,  1,  4,  1,  0,  8,  0,  1,  2,  0],\n",
      "       [ 0,  0,  0,  0,  1,  0,  4,  0,  2,  0,  2,  0,  9,  2,  3,  1],\n",
      "       [ 0,  0,  1,  0,  1,  1,  0,  0,  0,  2,  1,  1,  0, 15,  1,  0],\n",
      "       [ 0,  1,  3,  0,  0,  1,  1,  0,  5,  0,  0,  0,  0,  1,  3,  2],\n",
      "       [ 0,  0,  0,  0,  0,  0,  5,  4,  2,  0,  2,  0,  0,  0,  7,  2]])\n"
     ]
    }
   ],
   "source": [
    "pp.pprint(mat)"
   ]
  },
  {
   "cell_type": "code",
   "execution_count": 71,
   "metadata": {},
   "outputs": [],
   "source": [
    "sorted_dict = dict(sorted(confusion_mx.items()))"
   ]
  },
  {
   "cell_type": "code",
   "execution_count": 104,
   "metadata": {},
   "outputs": [
    {
     "data": {
      "image/png": "[encoded data removed]",
      "text/plain": [
       "<Figure size 720x720 with 1 Axes>"
      ]
     },
     "metadata": {},
     "output_type": "display_data"
    }
   ],
   "source": [
    "sns.set(style=\"white\", color_codes=True)\n",
    "fig, ax = plt.subplots(figsize=(10,10))\n",
    "ax = sns.heatmap(mat.T, square=True, annot=True, fmt='d', cbar=False,\n",
    "            xticklabels=conf_labels, yticklabels=conf_labels,cmap=\"YlGnBu\")\n",
    "ax.xaxis.tick_top() # x axis on top\n",
    "ax.xaxis.set_label_position('top')\n",
    "\n",
    "plt.xlabel('true label')\n",
    "plt.ylabel('predicted label');"
   ]
  },
  {
   "cell_type": "code",
   "execution_count": 102,
   "metadata": {},
   "outputs": [
    {
     "data": {
      "image/png": "[encoded data removed]",
      "text/plain": [
       "<Figure size 720x720 with 1 Axes>"
      ]
     },
     "metadata": {},
     "output_type": "display_data"
    }
   ],
   "source": [
    "fig, ax = plt.subplots(figsize=(10,10))\n",
    "ax = sns.heatmap(mat.T, square=True, annot=True, fmt='d', cbar=False,\n",
    "            xticklabels=conf_labels, yticklabels=conf_labels,cmap=\"Blues\")\n",
    "ax.xaxis.tick_top() # x axis on top\n",
    "ax.xaxis.set_label_position('top')\n",
    "\n",
    "plt.xlabel('true label')\n",
    "plt.ylabel('predicted label');"
   ]
  },
  {
   "cell_type": "code",
   "execution_count": 103,
   "metadata": {},
   "outputs": [],
   "source": [
    "fig.savefig('img/heat_map.png')"
   ]
  },
  {
   "cell_type": "code",
   "execution_count": 74,
   "metadata": {},
   "outputs": [],
   "source": [
    "from sklearn.metrics import classification_report"
   ]
  },
  {
   "cell_type": "code",
   "execution_count": 75,
   "metadata": {},
   "outputs": [
    {
     "name": "stdout",
     "output_type": "stream",
     "text": [
      "              precision    recall  f1-score   support\n",
      "\n",
      "           2       0.71      0.71      0.71        24\n",
      "           3       0.70      0.27      0.39        26\n",
      "           4       0.41      0.47      0.44        15\n",
      "           5       0.00      0.00      0.00        10\n",
      "           6       0.44      0.40      0.42        10\n",
      "           7       0.55      0.26      0.35        23\n",
      "           8       0.13      0.29      0.18        17\n",
      "           9       0.40      0.42      0.41        19\n",
      "          10       0.21      0.40      0.27        20\n",
      "          11       0.65      0.65      0.65        20\n",
      "          12       0.37      0.67      0.48        15\n",
      "          13       0.80      0.36      0.50        22\n",
      "          14       1.00      0.38      0.55        24\n",
      "          15       0.56      0.65      0.60        23\n",
      "          16       0.09      0.18      0.12        17\n",
      "          17       0.14      0.09      0.11        22\n",
      "\n",
      "    accuracy                           0.40       307\n",
      "   macro avg       0.45      0.39      0.39       307\n",
      "weighted avg       0.49      0.40      0.41       307\n",
      "\n"
     ]
    }
   ],
   "source": [
    "report = classification_report(test.label, labels, zero_division=0)\n",
    "print(report)"
   ]
  },
  {
   "cell_type": "code",
   "execution_count": 89,
   "metadata": {},
   "outputs": [],
   "source": [
    "report_dict = classification_report(test.label, labels, zero_division=0, output_dict=True)"
   ]
  },
  {
   "cell_type": "code",
   "execution_count": 90,
   "metadata": {},
   "outputs": [],
   "source": [
    "report_df = pd.DataFrame.from_records(report_dict)"
   ]
  },
  {
   "cell_type": "code",
   "execution_count": 91,
   "metadata": {},
   "outputs": [],
   "source": [
    "report_T = report_df.T.sort_index(na_position={'2', '17'})"
   ]
  },
  {
   "cell_type": "code",
   "execution_count": 92,
   "metadata": {},
   "outputs": [],
   "source": [
    "report_T.to_csv (r'db/report_MultinomialNB.csv', index = True, header=True)"
   ]
  }
 ],
 "metadata": {
  "kernelspec": {
   "display_name": "gpu",
   "language": "python",
   "name": "gpu"
  },
  "language_info": {
   "codemirror_mode": {
    "name": "ipython",
    "version": 3
   },
   "file_extension": ".py",
   "mimetype": "text/x-python",
   "name": "python",
   "nbconvert_exporter": "python",
   "pygments_lexer": "ipython3",
   "version": "3.8.5"
  }
 },
 "nbformat": 4,
 "nbformat_minor": 4
}
