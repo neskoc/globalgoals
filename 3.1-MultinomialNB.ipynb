{
 "cells": [
  {
   "cell_type": "code",
   "execution_count": 1,
   "metadata": {},
   "outputs": [],
   "source": [
    "import pandas as pd\n",
    "import pprint as pp"
   ]
  },
  {
   "cell_type": "code",
   "execution_count": 2,
   "metadata": {},
   "outputs": [],
   "source": [
    "import numpy as np\n",
    "import matplotlib.pyplot as plt\n",
    "import seaborn as sns; sns.set()"
   ]
  },
  {
   "cell_type": "code",
   "execution_count": 3,
   "metadata": {},
   "outputs": [],
   "source": [
    "from sklearn.feature_extraction.text import CountVectorizer\n",
    "from sklearn.feature_extraction.text import TfidfVectorizer\n",
    "from sklearn.naive_bayes import MultinomialNB\n",
    "from sklearn.pipeline import make_pipeline"
   ]
  },
  {
   "cell_type": "code",
   "execution_count": 4,
   "metadata": {},
   "outputs": [],
   "source": [
    "from inc import stop_words as sw\n",
    "from inc import extra_stopwords as esw\n",
    "sw.STOP_WORDS = sw.STOP_WORDS.union(esw.common_stopwords)\n",
    "sw.STOP_WORDS = sw.STOP_WORDS.union(esw.extra_stopwords)"
   ]
  },
  {
   "cell_type": "code",
   "execution_count": 5,
   "metadata": {},
   "outputs": [],
   "source": [
    "from sqlalchemy import create_engine\n",
    "table_name = 'Training_set'\n",
    "db_path = 'db/training.sqlite'\n",
    "db_path = 'sqlite:///' + db_path\n",
    "engine = create_engine(db_path, echo=True)"
   ]
  },
  {
   "cell_type": "code",
   "execution_count": 6,
   "metadata": {},
   "outputs": [
    {
     "name": "stdout",
     "output_type": "stream",
     "text": [
      "2020-12-19 02:08:29,365 INFO sqlalchemy.engine.base.Engine SELECT CAST('test plain returns' AS VARCHAR(60)) AS anon_1\n",
      "2020-12-19 02:08:29,366 INFO sqlalchemy.engine.base.Engine ()\n",
      "2020-12-19 02:08:29,368 INFO sqlalchemy.engine.base.Engine SELECT CAST('test unicode returns' AS VARCHAR(60)) AS anon_1\n",
      "2020-12-19 02:08:29,369 INFO sqlalchemy.engine.base.Engine ()\n",
      "2020-12-19 02:08:29,371 INFO sqlalchemy.engine.base.Engine SELECT name FROM sqlite_master WHERE type='table' ORDER BY name\n",
      "2020-12-19 02:08:29,372 INFO sqlalchemy.engine.base.Engine ()\n",
      "2020-12-19 02:08:29,374 INFO sqlalchemy.engine.base.Engine SELECT name FROM sqlite_master WHERE type='view' ORDER BY name\n",
      "2020-12-19 02:08:29,374 INFO sqlalchemy.engine.base.Engine ()\n",
      "2020-12-19 02:08:29,376 INFO sqlalchemy.engine.base.Engine PRAGMA main.table_xinfo(\"Training_set\")\n",
      "2020-12-19 02:08:29,377 INFO sqlalchemy.engine.base.Engine ()\n",
      "2020-12-19 02:08:29,379 INFO sqlalchemy.engine.base.Engine SELECT sql FROM  (SELECT * FROM sqlite_master UNION ALL   SELECT * FROM sqlite_temp_master) WHERE name = ? AND type = 'table'\n",
      "2020-12-19 02:08:29,380 INFO sqlalchemy.engine.base.Engine ('Training_set',)\n",
      "2020-12-19 02:08:29,382 INFO sqlalchemy.engine.base.Engine PRAGMA main.foreign_key_list(\"Training_set\")\n",
      "2020-12-19 02:08:29,383 INFO sqlalchemy.engine.base.Engine ()\n",
      "2020-12-19 02:08:29,384 INFO sqlalchemy.engine.base.Engine PRAGMA temp.foreign_key_list(\"Training_set\")\n",
      "2020-12-19 02:08:29,385 INFO sqlalchemy.engine.base.Engine ()\n",
      "2020-12-19 02:08:29,386 INFO sqlalchemy.engine.base.Engine SELECT sql FROM  (SELECT * FROM sqlite_master UNION ALL   SELECT * FROM sqlite_temp_master) WHERE name = ? AND type = 'table'\n",
      "2020-12-19 02:08:29,387 INFO sqlalchemy.engine.base.Engine ('Training_set',)\n",
      "2020-12-19 02:08:29,390 INFO sqlalchemy.engine.base.Engine PRAGMA main.index_list(\"Training_set\")\n",
      "2020-12-19 02:08:29,391 INFO sqlalchemy.engine.base.Engine ()\n",
      "2020-12-19 02:08:29,393 INFO sqlalchemy.engine.base.Engine PRAGMA main.index_info(\"ix_Training_set_index\")\n",
      "2020-12-19 02:08:29,394 INFO sqlalchemy.engine.base.Engine ()\n",
      "2020-12-19 02:08:29,395 INFO sqlalchemy.engine.base.Engine PRAGMA main.index_list(\"Training_set\")\n",
      "2020-12-19 02:08:29,396 INFO sqlalchemy.engine.base.Engine ()\n",
      "2020-12-19 02:08:29,397 INFO sqlalchemy.engine.base.Engine PRAGMA main.index_info(\"ix_Training_set_index\")\n",
      "2020-12-19 02:08:29,398 INFO sqlalchemy.engine.base.Engine ()\n",
      "2020-12-19 02:08:29,399 INFO sqlalchemy.engine.base.Engine SELECT sql FROM  (SELECT * FROM sqlite_master UNION ALL   SELECT * FROM sqlite_temp_master) WHERE name = ? AND type = 'table'\n",
      "2020-12-19 02:08:29,400 INFO sqlalchemy.engine.base.Engine ('Training_set',)\n",
      "2020-12-19 02:08:29,406 INFO sqlalchemy.engine.base.OptionEngine SELECT \"Training_set\".\"index\", \"Training_set\".abstract, \"Training_set\".class \n",
      "FROM \"Training_set\"\n",
      "2020-12-19 02:08:29,407 INFO sqlalchemy.engine.base.OptionEngine ()\n"
     ]
    }
   ],
   "source": [
    "df = pd.read_sql_table(table_name, engine)"
   ]
  },
  {
   "cell_type": "code",
   "execution_count": 7,
   "metadata": {},
   "outputs": [],
   "source": [
    "df = df.rename(columns={\"class\": \"label\"})"
   ]
  },
  {
   "cell_type": "code",
   "execution_count": 8,
   "metadata": {},
   "outputs": [],
   "source": [
    "df = df.sample(frac=1).reset_index(drop=True) # randomize"
   ]
  },
  {
   "cell_type": "code",
   "execution_count": 9,
   "metadata": {},
   "outputs": [],
   "source": [
    "train = df.sample(frac=0.8,random_state=200) #random state is a seed value\n",
    "test = df.drop(train.index)"
   ]
  },
  {
   "cell_type": "code",
   "execution_count": 10,
   "metadata": {},
   "outputs": [],
   "source": [
    "model = make_pipeline(TfidfVectorizer(stop_words=sw.STOP_WORDS), MultinomialNB())"
   ]
  },
  {
   "cell_type": "code",
   "execution_count": 11,
   "metadata": {},
   "outputs": [
    {
     "data": {
      "text/plain": [
       "Pipeline(steps=[('tfidfvectorizer',\n",
       "                 TfidfVectorizer(stop_words={'aderton', 'adertonde', 'adjö',\n",
       "                                             'aldrig', 'allas', 'allt',\n",
       "                                             'alltid', 'alltså', 'andra',\n",
       "                                             'andras', 'annan', 'annat',\n",
       "                                             'ansökan', 'arton', 'artonde',\n",
       "                                             'att', 'av', 'avhandling',\n",
       "                                             'bakgrund', 'bakom', 'bara',\n",
       "                                             'behöva', 'behövas', 'behövde',\n",
       "                                             'behövt', 'beslut', 'beslutat',\n",
       "                                             'beslutit', 'bland', 'blev', ...})),\n",
       "                ('multinomialnb', MultinomialNB())])"
      ]
     },
     "execution_count": 11,
     "metadata": {},
     "output_type": "execute_result"
    }
   ],
   "source": [
    "model.fit(train.abstract, train.label)"
   ]
  },
  {
   "cell_type": "code",
   "execution_count": 12,
   "metadata": {},
   "outputs": [],
   "source": [
    "labels = model.predict(test.abstract)"
   ]
  },
  {
   "cell_type": "code",
   "execution_count": 13,
   "metadata": {},
   "outputs": [
    {
     "name": "stdout",
     "output_type": "stream",
     "text": [
      "array([ 7, 17,  9, 15, 11,  4, 12, 12,  9, 17, 12,  4, 15, 11,  9,  4,  3,\n",
      "        7, 10,  8, 17, 17, 17, 17,  3,  2,  2,  9,  2, 10, 14, 17, 13,  6,\n",
      "       17, 12,  3, 10, 17, 11, 10,  9, 15,  4, 17,  9, 17, 12, 15,  2, 14,\n",
      "        3,  7, 17, 17,  3,  8, 15, 10, 14, 14, 15, 17, 12, 17, 17,  6,  3,\n",
      "       17, 12, 13,  2, 15, 11,  9, 17, 11, 15, 12, 11, 14, 14, 17, 17, 17,\n",
      "       10,  9, 10, 13,  4,  9, 17, 17,  8, 17, 10,  3,  9,  7, 10, 17, 17,\n",
      "       17, 14, 17,  3,  2,  9,  3,  2, 11, 17, 15,  3,  2,  9, 17, 17, 17,\n",
      "       16,  6, 10,  2, 10,  3, 17,  4, 15,  3,  2,  2, 13, 17, 10, 10, 12,\n",
      "       10,  3, 11, 15, 16, 17,  8,  3,  9, 14,  9, 17, 13,  8, 11, 17, 12,\n",
      "       14,  9, 17,  3, 12, 17, 11, 17, 10, 10,  2,  7,  6,  2, 10, 14, 17,\n",
      "       15, 10,  7,  4,  9,  3, 14, 11, 11, 14,  9,  2,  9, 17, 17,  9, 16,\n",
      "        7, 14,  2, 17, 11,  8, 14,  9, 17,  4, 11,  3, 17,  8,  4,  3, 17,\n",
      "       17, 17, 15,  4, 17,  9, 11, 17,  3,  4, 17, 15, 14, 15, 15,  9, 15,\n",
      "        2, 14,  4, 14,  9,  9,  9, 17,  2,  8,  9, 15,  8, 11, 17,  9, 17,\n",
      "       15,  4,  9, 17,  9, 15, 16,  2,  9, 17, 12,  6,  9,  2,  2, 17,  4,\n",
      "       12, 10, 17,  9, 12, 10, 11,  3, 15,  7,  9,  4, 17,  2, 17,  2, 14,\n",
      "       14, 17,  9, 15, 16,  9, 17, 17, 17, 14, 11,  9,  3, 12, 17,  9,  9,\n",
      "       13, 15, 11, 15, 17, 15,  4,  9, 17, 10, 14, 16, 17, 15, 10, 11, 12,\n",
      "        9])\n"
     ]
    }
   ],
   "source": [
    "pp.pprint(labels)"
   ]
  },
  {
   "cell_type": "code",
   "execution_count": 14,
   "metadata": {},
   "outputs": [],
   "source": [
    "test = test.drop(columns=['index'])"
   ]
  },
  {
   "cell_type": "code",
   "execution_count": 15,
   "metadata": {},
   "outputs": [],
   "source": [
    "test = test.reset_index(drop=True)"
   ]
  },
  {
   "cell_type": "code",
   "execution_count": 16,
   "metadata": {},
   "outputs": [
    {
     "data": {
      "text/html": [
       "<div>\n",
       "<style scoped>\n",
       "    .dataframe tbody tr th:only-of-type {\n",
       "        vertical-align: middle;\n",
       "    }\n",
       "\n",
       "    .dataframe tbody tr th {\n",
       "        vertical-align: top;\n",
       "    }\n",
       "\n",
       "    .dataframe thead th {\n",
       "        text-align: right;\n",
       "    }\n",
       "</style>\n",
       "<table border=\"1\" class=\"dataframe\">\n",
       "  <thead>\n",
       "    <tr style=\"text-align: right;\">\n",
       "      <th></th>\n",
       "      <th>abstract</th>\n",
       "      <th>label</th>\n",
       "    </tr>\n",
       "  </thead>\n",
       "  <tbody>\n",
       "    <tr>\n",
       "      <th>0</th>\n",
       "      <td>projekt vara att ta fram kunskap om hur byggna...</td>\n",
       "      <td>7</td>\n",
       "    </tr>\n",
       "    <tr>\n",
       "      <th>1</th>\n",
       "      <td>med vara att möjliggöra distansundervisning ...</td>\n",
       "      <td>4</td>\n",
       "    </tr>\n",
       "    <tr>\n",
       "      <th>2</th>\n",
       "      <td>biocell analytica leverera analys som ge kun...</td>\n",
       "      <td>6</td>\n",
       "    </tr>\n",
       "    <tr>\n",
       "      <th>3</th>\n",
       "      <td>inom en snar framtid förvänta en global uppvär...</td>\n",
       "      <td>15</td>\n",
       "    </tr>\n",
       "    <tr>\n",
       "      <th>4</th>\n",
       "      <td>många flerfamiljshus komma att renovera en när...</td>\n",
       "      <td>11</td>\n",
       "    </tr>\n",
       "    <tr>\n",
       "      <th>...</th>\n",
       "      <td>...</td>\n",
       "      <td>...</td>\n",
       "    </tr>\n",
       "    <tr>\n",
       "      <th>302</th>\n",
       "      <td>gran vara central för svensk bioekonomi som kä...</td>\n",
       "      <td>15</td>\n",
       "    </tr>\n",
       "    <tr>\n",
       "      <th>303</th>\n",
       "      <td>under initieringsfas ha vara att skapa förut...</td>\n",
       "      <td>16</td>\n",
       "    </tr>\n",
       "    <tr>\n",
       "      <th>304</th>\n",
       "      <td>den finnas en växa medvetenhet om en många tjä...</td>\n",
       "      <td>11</td>\n",
       "    </tr>\n",
       "    <tr>\n",
       "      <th>305</th>\n",
       "      <td>beständighet hos betong som en av en mycket an...</td>\n",
       "      <td>12</td>\n",
       "    </tr>\n",
       "    <tr>\n",
       "      <th>306</th>\n",
       "      <td>vara att studera genomförbarhet i två idé av...</td>\n",
       "      <td>17</td>\n",
       "    </tr>\n",
       "  </tbody>\n",
       "</table>\n",
       "<p>307 rows × 2 columns</p>\n",
       "</div>"
      ],
      "text/plain": [
       "                                              abstract  label\n",
       "0    projekt vara att ta fram kunskap om hur byggna...      7\n",
       "1      med vara att möjliggöra distansundervisning ...      4\n",
       "2      biocell analytica leverera analys som ge kun...      6\n",
       "3    inom en snar framtid förvänta en global uppvär...     15\n",
       "4    många flerfamiljshus komma att renovera en när...     11\n",
       "..                                                 ...    ...\n",
       "302  gran vara central för svensk bioekonomi som kä...     15\n",
       "303    under initieringsfas ha vara att skapa förut...     16\n",
       "304  den finnas en växa medvetenhet om en många tjä...     11\n",
       "305  beständighet hos betong som en av en mycket an...     12\n",
       "306    vara att studera genomförbarhet i två idé av...     17\n",
       "\n",
       "[307 rows x 2 columns]"
      ]
     },
     "execution_count": 16,
     "metadata": {},
     "output_type": "execute_result"
    }
   ],
   "source": [
    "test"
   ]
  },
  {
   "cell_type": "code",
   "execution_count": 17,
   "metadata": {},
   "outputs": [],
   "source": [
    "confusion_mx = {}\n",
    "for ix, label in enumerate(labels):\n",
    "    if label == test.label[ix]:\n",
    "        if label in confusion_mx:\n",
    "            confusion_mx[label] += 1\n",
    "        else:\n",
    "            confusion_mx[label] = 1"
   ]
  },
  {
   "cell_type": "code",
   "execution_count": 18,
   "metadata": {},
   "outputs": [],
   "source": [
    "conf_labels = list(range(2,18))"
   ]
  },
  {
   "cell_type": "code",
   "execution_count": 19,
   "metadata": {},
   "outputs": [],
   "source": [
    "from sklearn.metrics import confusion_matrix\n",
    "mat = confusion_matrix(test.label, labels, labels=conf_labels)"
   ]
  },
  {
   "cell_type": "code",
   "execution_count": 20,
   "metadata": {},
   "outputs": [
    {
     "name": "stdout",
     "output_type": "stream",
     "text": [
      "array([[17,  0,  0,  0,  0,  1,  0,  0,  0,  1,  0,  0,  0,  0,  0,  0],\n",
      "       [ 1, 13,  0,  0,  0,  0,  0,  1,  2,  0,  0,  0,  0,  0,  1,  2],\n",
      "       [ 0,  0,  7,  0,  0,  0,  0,  1,  0,  0,  0,  0,  1,  0,  0,  3],\n",
      "       [ 0,  0,  0,  0,  0,  0,  1,  0,  1,  0,  0,  0,  0,  0,  0,  4],\n",
      "       [ 1,  2,  0,  0,  5,  1,  0,  1,  0,  1,  0,  0,  3,  1,  2,  2],\n",
      "       [ 2,  1,  0,  0,  0,  5,  1,  4,  1,  0,  0,  0,  1,  1,  1,  4],\n",
      "       [ 0,  0,  2,  0,  0,  0,  2,  6,  4,  0,  1,  0,  0,  0,  0,  8],\n",
      "       [ 0,  0,  2,  0,  0,  1,  1,  4,  0,  0,  0,  0,  0,  0,  0,  6],\n",
      "       [ 0,  1,  2,  0,  0,  0,  2,  3,  6,  1,  1,  0,  0,  0,  1,  4],\n",
      "       [ 0,  1,  0,  0,  0,  0,  1,  3,  1,  9,  0,  0,  0,  0,  0,  5],\n",
      "       [ 1,  2,  0,  0,  0,  0,  0,  4,  0,  3, 13,  0,  2,  0,  0,  1],\n",
      "       [ 0,  0,  2,  0,  0,  0,  0,  3,  1,  4,  0,  5,  1,  2,  1,  8],\n",
      "       [ 0,  0,  0,  0,  0,  0,  0,  1,  1,  0,  0,  0, 11,  0,  0,  1],\n",
      "       [ 0,  1,  1,  0,  0,  0,  0,  0,  0,  1,  1,  0,  0, 22,  0,  2],\n",
      "       [ 0,  0,  0,  0,  0,  0,  0,  6,  5,  0,  0,  1,  0,  0,  0, 11],\n",
      "       [ 0,  0,  0,  0,  0,  0,  1,  3,  0,  0,  0,  0,  2,  0,  0,  8]])\n"
     ]
    }
   ],
   "source": [
    "pp.pprint(mat)"
   ]
  },
  {
   "cell_type": "code",
   "execution_count": 21,
   "metadata": {},
   "outputs": [],
   "source": [
    "sorted_dict = dict(sorted(confusion_mx.items()))"
   ]
  },
  {
   "cell_type": "code",
   "execution_count": 22,
   "metadata": {},
   "outputs": [
    {
     "data": {
      "image/png": "[encoded data removed]",
      "text/plain": [
       "<Figure size 720x720 with 1 Axes>"
      ]
     },
     "metadata": {},
     "output_type": "display_data"
    }
   ],
   "source": [
    "sns.set(style=\"white\", color_codes=True)\n",
    "fig, ax = plt.subplots(figsize=(10,10))\n",
    "ax = sns.heatmap(mat.T, square=True, annot=True, fmt='d', cbar=False,\n",
    "            xticklabels=conf_labels, yticklabels=conf_labels,cmap=\"YlGnBu\")\n",
    "ax.xaxis.tick_top() # x axis on top\n",
    "ax.xaxis.set_label_position('top')\n",
    "\n",
    "plt.xlabel('true label')\n",
    "plt.ylabel('predicted label');"
   ]
  },
  {
   "cell_type": "code",
   "execution_count": 23,
   "metadata": {},
   "outputs": [
    {
     "data": {
      "image/png": "[encoded data removed]",
      "text/plain": [
       "<Figure size 720x720 with 1 Axes>"
      ]
     },
     "metadata": {},
     "output_type": "display_data"
    }
   ],
   "source": [
    "fig, ax = plt.subplots(figsize=(10,10))\n",
    "ax = sns.heatmap(mat.T, square=True, annot=True, fmt='d', cbar=False,\n",
    "            xticklabels=conf_labels, yticklabels=conf_labels,cmap=\"Blues\")\n",
    "ax.xaxis.tick_top() # x axis on top\n",
    "ax.xaxis.set_label_position('top')\n",
    "\n",
    "plt.xlabel('true label')\n",
    "plt.ylabel('predicted label');"
   ]
  },
  {
   "cell_type": "code",
   "execution_count": 31,
   "metadata": {},
   "outputs": [],
   "source": [
    "fig.savefig('img/heat_map_MultinomialNB.png')"
   ]
  },
  {
   "cell_type": "code",
   "execution_count": 25,
   "metadata": {},
   "outputs": [],
   "source": [
    "from sklearn.metrics import classification_report"
   ]
  },
  {
   "cell_type": "code",
   "execution_count": 26,
   "metadata": {},
   "outputs": [
    {
     "name": "stdout",
     "output_type": "stream",
     "text": [
      "              precision    recall  f1-score   support\n",
      "\n",
      "           2       0.77      0.89      0.83        19\n",
      "           3       0.62      0.65      0.63        20\n",
      "           4       0.44      0.58      0.50        12\n",
      "           5       0.00      0.00      0.00         6\n",
      "           6       1.00      0.26      0.42        19\n",
      "           7       0.62      0.24      0.34        21\n",
      "           8       0.22      0.09      0.12        23\n",
      "           9       0.10      0.29      0.15        14\n",
      "          10       0.27      0.29      0.28        21\n",
      "          11       0.45      0.45      0.45        20\n",
      "          12       0.81      0.50      0.62        26\n",
      "          13       0.83      0.19      0.30        27\n",
      "          14       0.52      0.79      0.63        14\n",
      "          15       0.85      0.79      0.81        28\n",
      "          16       0.00      0.00      0.00        23\n",
      "          17       0.12      0.57      0.19        14\n",
      "\n",
      "    accuracy                           0.41       307\n",
      "   macro avg       0.48      0.41      0.39       307\n",
      "weighted avg       0.53      0.41      0.42       307\n",
      "\n"
     ]
    }
   ],
   "source": [
    "report = classification_report(test.label, labels, zero_division=0)\n",
    "print(report)"
   ]
  },
  {
   "cell_type": "code",
   "execution_count": 27,
   "metadata": {},
   "outputs": [],
   "source": [
    "report_dict = classification_report(test.label, labels, zero_division=0, output_dict=True)"
   ]
  },
  {
   "cell_type": "code",
   "execution_count": 28,
   "metadata": {},
   "outputs": [],
   "source": [
    "report_df = pd.DataFrame.from_records(report_dict)"
   ]
  },
  {
   "cell_type": "code",
   "execution_count": 29,
   "metadata": {},
   "outputs": [],
   "source": [
    "report_T = report_df.T.sort_index(na_position={'2', '17'})"
   ]
  },
  {
   "cell_type": "code",
   "execution_count": 30,
   "metadata": {},
   "outputs": [],
   "source": [
    "report_T.to_csv (r'db/report_MultinomialNB.csv', index = True, header=True)"
   ]
  }
 ],
 "metadata": {
  "kernelspec": {
   "display_name": "gpu",
   "language": "python",
   "name": "gpu"
  },
  "language_info": {
   "codemirror_mode": {
    "name": "ipython",
    "version": 3
   },
   "file_extension": ".py",
   "mimetype": "text/x-python",
   "name": "python",
   "nbconvert_exporter": "python",
   "pygments_lexer": "ipython3",
   "version": "3.8.5"
  }
 },
 "nbformat": 4,
 "nbformat_minor": 4
}
