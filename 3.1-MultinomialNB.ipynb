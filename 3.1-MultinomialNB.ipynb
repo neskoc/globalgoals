{
 "cells": [
  {
   "cell_type": "code",
   "execution_count": 1,
   "metadata": {},
   "outputs": [],
   "source": [
    "import pandas as pd\n",
    "import pprint as pp"
   ]
  },
  {
   "cell_type": "code",
   "execution_count": 2,
   "metadata": {},
   "outputs": [],
   "source": [
    "import numpy as np\n",
    "import matplotlib.pyplot as plt\n",
    "import seaborn as sns; sns.set()"
   ]
  },
  {
   "cell_type": "code",
   "execution_count": 3,
   "metadata": {},
   "outputs": [],
   "source": [
    "from sklearn.feature_extraction.text import CountVectorizer\n",
    "from sklearn.feature_extraction.text import TfidfVectorizer\n",
    "from sklearn.naive_bayes import MultinomialNB\n",
    "from sklearn.pipeline import make_pipeline"
   ]
  },
  {
   "cell_type": "code",
   "execution_count": 4,
   "metadata": {},
   "outputs": [],
   "source": [
    "from inc import stop_words as sw\n",
    "from inc import extra_stopwords as esw\n",
    "sw.STOP_WORDS = sw.STOP_WORDS.union(esw.common_stopwords)\n",
    "sw.STOP_WORDS = sw.STOP_WORDS.union(esw.extra_stopwords)"
   ]
  },
  {
   "cell_type": "code",
   "execution_count": 5,
   "metadata": {},
   "outputs": [],
   "source": [
    "from sqlalchemy import create_engine\n",
    "table_name = 'Training_set_new'\n",
    "db_path = 'db/training.sqlite'\n",
    "db_path = 'sqlite:///' + db_path\n",
    "engine = create_engine(db_path, echo=True)"
   ]
  },
  {
   "cell_type": "code",
   "execution_count": 6,
   "metadata": {},
   "outputs": [
    {
     "name": "stdout",
     "output_type": "stream",
     "text": [
      "2020-12-19 17:27:36,047 INFO sqlalchemy.engine.base.Engine SELECT CAST('test plain returns' AS VARCHAR(60)) AS anon_1\n",
      "2020-12-19 17:27:36,048 INFO sqlalchemy.engine.base.Engine ()\n",
      "2020-12-19 17:27:36,049 INFO sqlalchemy.engine.base.Engine SELECT CAST('test unicode returns' AS VARCHAR(60)) AS anon_1\n",
      "2020-12-19 17:27:36,050 INFO sqlalchemy.engine.base.Engine ()\n",
      "2020-12-19 17:27:36,052 INFO sqlalchemy.engine.base.Engine SELECT name FROM sqlite_master WHERE type='table' ORDER BY name\n",
      "2020-12-19 17:27:36,053 INFO sqlalchemy.engine.base.Engine ()\n",
      "2020-12-19 17:27:36,054 INFO sqlalchemy.engine.base.Engine SELECT name FROM sqlite_master WHERE type='view' ORDER BY name\n",
      "2020-12-19 17:27:36,055 INFO sqlalchemy.engine.base.Engine ()\n",
      "2020-12-19 17:27:36,057 INFO sqlalchemy.engine.base.Engine PRAGMA main.table_xinfo(\"Training_set_new\")\n",
      "2020-12-19 17:27:36,057 INFO sqlalchemy.engine.base.Engine ()\n",
      "2020-12-19 17:27:36,060 INFO sqlalchemy.engine.base.Engine SELECT sql FROM  (SELECT * FROM sqlite_master UNION ALL   SELECT * FROM sqlite_temp_master) WHERE name = ? AND type = 'table'\n",
      "2020-12-19 17:27:36,060 INFO sqlalchemy.engine.base.Engine ('Training_set_new',)\n",
      "2020-12-19 17:27:36,062 INFO sqlalchemy.engine.base.Engine PRAGMA main.foreign_key_list(\"Training_set_new\")\n",
      "2020-12-19 17:27:36,063 INFO sqlalchemy.engine.base.Engine ()\n",
      "2020-12-19 17:27:36,064 INFO sqlalchemy.engine.base.Engine PRAGMA temp.foreign_key_list(\"Training_set_new\")\n",
      "2020-12-19 17:27:36,064 INFO sqlalchemy.engine.base.Engine ()\n",
      "2020-12-19 17:27:36,065 INFO sqlalchemy.engine.base.Engine SELECT sql FROM  (SELECT * FROM sqlite_master UNION ALL   SELECT * FROM sqlite_temp_master) WHERE name = ? AND type = 'table'\n",
      "2020-12-19 17:27:36,066 INFO sqlalchemy.engine.base.Engine ('Training_set_new',)\n",
      "2020-12-19 17:27:36,069 INFO sqlalchemy.engine.base.Engine PRAGMA main.index_list(\"Training_set_new\")\n",
      "2020-12-19 17:27:36,069 INFO sqlalchemy.engine.base.Engine ()\n",
      "2020-12-19 17:27:36,071 INFO sqlalchemy.engine.base.Engine PRAGMA main.index_info(\"ix_Training_set_new_index\")\n",
      "2020-12-19 17:27:36,071 INFO sqlalchemy.engine.base.Engine ()\n",
      "2020-12-19 17:27:36,073 INFO sqlalchemy.engine.base.Engine PRAGMA main.index_list(\"Training_set_new\")\n",
      "2020-12-19 17:27:36,074 INFO sqlalchemy.engine.base.Engine ()\n",
      "2020-12-19 17:27:36,075 INFO sqlalchemy.engine.base.Engine PRAGMA main.index_info(\"ix_Training_set_new_index\")\n",
      "2020-12-19 17:27:36,075 INFO sqlalchemy.engine.base.Engine ()\n",
      "2020-12-19 17:27:36,076 INFO sqlalchemy.engine.base.Engine SELECT sql FROM  (SELECT * FROM sqlite_master UNION ALL   SELECT * FROM sqlite_temp_master) WHERE name = ? AND type = 'table'\n",
      "2020-12-19 17:27:36,077 INFO sqlalchemy.engine.base.Engine ('Training_set_new',)\n",
      "2020-12-19 17:27:36,082 INFO sqlalchemy.engine.base.OptionEngine SELECT \"Training_set_new\".\"index\", \"Training_set_new\".abstract, \"Training_set_new\".class, \"Training_set_new\".len \n",
      "FROM \"Training_set_new\"\n",
      "2020-12-19 17:27:36,083 INFO sqlalchemy.engine.base.OptionEngine ()\n"
     ]
    }
   ],
   "source": [
    "df = pd.read_sql_table(table_name, engine)"
   ]
  },
  {
   "cell_type": "code",
   "execution_count": 7,
   "metadata": {},
   "outputs": [],
   "source": [
    "df = df.rename(columns={\"class\": \"label\"})"
   ]
  },
  {
   "cell_type": "code",
   "execution_count": 8,
   "metadata": {},
   "outputs": [
    {
     "data": {
      "text/plain": [
       "(1534, 4)"
      ]
     },
     "execution_count": 8,
     "metadata": {},
     "output_type": "execute_result"
    }
   ],
   "source": [
    "df.shape"
   ]
  },
  {
   "cell_type": "code",
   "execution_count": 9,
   "metadata": {},
   "outputs": [],
   "source": [
    "df = df.sample(frac=1).reset_index(drop=True) # randomize"
   ]
  },
  {
   "cell_type": "code",
   "execution_count": 10,
   "metadata": {},
   "outputs": [],
   "source": [
    "train = df.sample(frac=0.8,random_state=200) #random state is a seed value\n",
    "test = df.drop(train.index)"
   ]
  },
  {
   "cell_type": "code",
   "execution_count": 11,
   "metadata": {},
   "outputs": [],
   "source": [
    "model = make_pipeline(TfidfVectorizer(stop_words=sw.STOP_WORDS), MultinomialNB())"
   ]
  },
  {
   "cell_type": "code",
   "execution_count": 12,
   "metadata": {},
   "outputs": [
    {
     "data": {
      "text/plain": [
       "Pipeline(steps=[('tfidfvectorizer',\n",
       "                 TfidfVectorizer(stop_words={'aderton', 'adertonde', 'adjö',\n",
       "                                             'aldrig', 'allas', 'allt',\n",
       "                                             'alltid', 'alltså', 'andra',\n",
       "                                             'andras', 'annan', 'annat',\n",
       "                                             'ansökan', 'arton', 'artonde',\n",
       "                                             'att', 'av', 'avhandling',\n",
       "                                             'bakgrund', 'bakom', 'bara',\n",
       "                                             'behöva', 'behövas', 'behövde',\n",
       "                                             'behövt', 'beslut', 'beslutat',\n",
       "                                             'beslutit', 'bland', 'blev', ...})),\n",
       "                ('multinomialnb', MultinomialNB())])"
      ]
     },
     "execution_count": 12,
     "metadata": {},
     "output_type": "execute_result"
    }
   ],
   "source": [
    "model.fit(train.abstract, train.label)"
   ]
  },
  {
   "cell_type": "code",
   "execution_count": 13,
   "metadata": {},
   "outputs": [],
   "source": [
    "labels = model.predict(test.abstract)"
   ]
  },
  {
   "cell_type": "code",
   "execution_count": 14,
   "metadata": {},
   "outputs": [
    {
     "name": "stdout",
     "output_type": "stream",
     "text": [
      "array(['2', '15', '17', '11', '11', '8', '4', '16', '7', '8', '17', '17',\n",
      "       '17', '17', '17', '10', '17', '11', '12', '4', '8', '3', '15',\n",
      "       '15', '7', '2', '11', '16', '17', '8', '3', '11', '17', '17', '12',\n",
      "       '11', '2', '11', '10', '2', '15', '2', '12', '17', '7', '17', '15',\n",
      "       '17', '16', '13', '17', '7', '17', '17', '17', '14', '17', '3',\n",
      "       '7', '17', '12', '17', '17', '17', '17', '17', '7', '2', '15',\n",
      "       '10', '3', '15', '7', '11', '14', '17', '17', '8', '7', '17', '14',\n",
      "       '2', '15', '4', '17', '17', '13', '13', '10', '10', '17', '17',\n",
      "       '15', '14', '3', '13', '16', '12', '8', '15', '2', '16', '17', '2',\n",
      "       '12', '17', '16', '7', '15', '8', '12', '17', '16', '3', '11', '7',\n",
      "       '3', '16', '2', '15', '17', '3', '13', '12', '7', '17', '4', '12',\n",
      "       '17', '7', '15', '15', '12', '17', '3', '17', '9', '10', '10',\n",
      "       '11', '12', '12', '7', '7', '17', '8', '16', '7', '17', '10', '17',\n",
      "       '7', '8', '17', '11', '12', '13', '11', '7', '13', '8', '2', '11',\n",
      "       '2', '8', '17', '15', '4', '7', '3', '12', '17', '2', '16', '17',\n",
      "       '15', '9', '12', '3', '15', '7', '7', '15', '8', '17', '17', '3',\n",
      "       '13', '6', '9', '6', '14', '12', '17', '2', '15', '10', '11', '11',\n",
      "       '3', '12', '12', '9', '11', '2', '2', '6', '15', '3', '16', '3',\n",
      "       '12', '13', '11', '11', '17', '17', '8', '10', '17', '12', '2',\n",
      "       '17', '12', '7', '15', '2', '17', '4', '13', '17', '15', '4', '7',\n",
      "       '15', '16', '17', '17', '17', '16', '3', '17', '12', '12', '3',\n",
      "       '15', '17', '17', '13', '17', '10', '17', '3', '10', '17', '16',\n",
      "       '11', '10', '11', '17', '7', '10', '10', '17', '17', '16', '7',\n",
      "       '8', '8', '3', '17', '17', '17', '12', '7', '11', '15', '12', '17',\n",
      "       '12', '7', '17', '6', '12', '17', '10', '17', '11', '15', '7',\n",
      "       '17', '16', '16', '16', '10', '10', '7', '12', '15', '15', '15',\n",
      "       '10', '14', '11', '7', '8', '7'], dtype='<U2')\n"
     ]
    }
   ],
   "source": [
    "pp.pprint(labels)"
   ]
  },
  {
   "cell_type": "code",
   "execution_count": 15,
   "metadata": {},
   "outputs": [],
   "source": [
    "test = test.drop(columns=['index'])"
   ]
  },
  {
   "cell_type": "code",
   "execution_count": 16,
   "metadata": {},
   "outputs": [],
   "source": [
    "test = test.reset_index(drop=True)"
   ]
  },
  {
   "cell_type": "code",
   "execution_count": 17,
   "metadata": {},
   "outputs": [
    {
     "data": {
      "text/html": [
       "<div>\n",
       "<style scoped>\n",
       "    .dataframe tbody tr th:only-of-type {\n",
       "        vertical-align: middle;\n",
       "    }\n",
       "\n",
       "    .dataframe tbody tr th {\n",
       "        vertical-align: top;\n",
       "    }\n",
       "\n",
       "    .dataframe thead th {\n",
       "        text-align: right;\n",
       "    }\n",
       "</style>\n",
       "<table border=\"1\" class=\"dataframe\">\n",
       "  <thead>\n",
       "    <tr style=\"text-align: right;\">\n",
       "      <th></th>\n",
       "      <th>abstract</th>\n",
       "      <th>label</th>\n",
       "      <th>len</th>\n",
       "    </tr>\n",
       "  </thead>\n",
       "  <tbody>\n",
       "    <tr>\n",
       "      <th>0</th>\n",
       "      <td>när djur flytta till en ny miljö kunna brista ...</td>\n",
       "      <td>2</td>\n",
       "      <td>1169</td>\n",
       "    </tr>\n",
       "    <tr>\n",
       "      <th>1</th>\n",
       "      <td>klimatförändring och extrem väderhänderlse sås...</td>\n",
       "      <td>15</td>\n",
       "      <td>1309</td>\n",
       "    </tr>\n",
       "    <tr>\n",
       "      <th>2</th>\n",
       "      <td>ha vara att sprida kunskap om teknik metod o...</td>\n",
       "      <td>9</td>\n",
       "      <td>1473</td>\n",
       "    </tr>\n",
       "    <tr>\n",
       "      <th>3</th>\n",
       "      <td>vi stå inför en stor behov av en öka bygga en ...</td>\n",
       "      <td>11</td>\n",
       "      <td>880</td>\n",
       "    </tr>\n",
       "    <tr>\n",
       "      <th>4</th>\n",
       "      <td>människa fatta löpande beslut koppla till klim...</td>\n",
       "      <td>13</td>\n",
       "      <td>1364</td>\n",
       "    </tr>\n",
       "    <tr>\n",
       "      <th>...</th>\n",
       "      <td>...</td>\n",
       "      <td>...</td>\n",
       "      <td>...</td>\n",
       "    </tr>\n",
       "    <tr>\n",
       "      <th>302</th>\n",
       "      <td>syfta till att öka kunskap om marin skräp oc...</td>\n",
       "      <td>14</td>\n",
       "      <td>1369</td>\n",
       "    </tr>\n",
       "    <tr>\n",
       "      <th>303</th>\n",
       "      <td>genom att vända på en känd funktionalistisk fo...</td>\n",
       "      <td>11</td>\n",
       "      <td>1926</td>\n",
       "    </tr>\n",
       "    <tr>\n",
       "      <th>304</th>\n",
       "      <td>vi behöva höja produktivitet i sektorn och för...</td>\n",
       "      <td>9</td>\n",
       "      <td>1845</td>\n",
       "    </tr>\n",
       "    <tr>\n",
       "      <th>305</th>\n",
       "      <td>projekt huvudsaklig vilken vara att färdigst...</td>\n",
       "      <td>4</td>\n",
       "      <td>1496</td>\n",
       "    </tr>\n",
       "    <tr>\n",
       "      <th>306</th>\n",
       "      <td>en övergripande en med denna vara att utföra f...</td>\n",
       "      <td>12</td>\n",
       "      <td>1362</td>\n",
       "    </tr>\n",
       "  </tbody>\n",
       "</table>\n",
       "<p>307 rows × 3 columns</p>\n",
       "</div>"
      ],
      "text/plain": [
       "                                              abstract label   len\n",
       "0    när djur flytta till en ny miljö kunna brista ...     2  1169\n",
       "1    klimatförändring och extrem väderhänderlse sås...    15  1309\n",
       "2      ha vara att sprida kunskap om teknik metod o...     9  1473\n",
       "3    vi stå inför en stor behov av en öka bygga en ...    11   880\n",
       "4    människa fatta löpande beslut koppla till klim...    13  1364\n",
       "..                                                 ...   ...   ...\n",
       "302    syfta till att öka kunskap om marin skräp oc...    14  1369\n",
       "303  genom att vända på en känd funktionalistisk fo...    11  1926\n",
       "304  vi behöva höja produktivitet i sektorn och för...     9  1845\n",
       "305    projekt huvudsaklig vilken vara att färdigst...     4  1496\n",
       "306  en övergripande en med denna vara att utföra f...    12  1362\n",
       "\n",
       "[307 rows x 3 columns]"
      ]
     },
     "execution_count": 17,
     "metadata": {},
     "output_type": "execute_result"
    }
   ],
   "source": [
    "test"
   ]
  },
  {
   "cell_type": "code",
   "execution_count": 18,
   "metadata": {},
   "outputs": [],
   "source": [
    "confusion_mx = {}\n",
    "for ix, label in enumerate(labels):\n",
    "    if label == test.label[ix]:\n",
    "        if label in confusion_mx:\n",
    "            confusion_mx[label] += 1\n",
    "        else:\n",
    "            confusion_mx[label] = 1"
   ]
  },
  {
   "cell_type": "code",
   "execution_count": 19,
   "metadata": {},
   "outputs": [],
   "source": [
    "conf_labels = list(map(str, list(range(2,18))))"
   ]
  },
  {
   "cell_type": "code",
   "execution_count": 20,
   "metadata": {},
   "outputs": [
    {
     "name": "stdout",
     "output_type": "stream",
     "text": [
      "test: [2, 3, 4, 5, 6, 7, 8, 9, 10, 11, 12, 13, 14, 15, 16, 17]\n",
      "pred: [2, 3, 4, 6, 7, 8, 9, 10, 11, 12, 13, 14, 15, 16, 17]\n",
      "conf: ['2', '3', '4', '5', '6', '7', '8', '9', '10', '11', '12', '13', '14', '15', '16', '17']\n"
     ]
    }
   ],
   "source": [
    "print('test:', sorted(list(map(int, list(set(test.label))))))\n",
    "print('pred:', sorted(list(map(int, list(set(labels))))))\n",
    "print('conf:', conf_labels)"
   ]
  },
  {
   "cell_type": "code",
   "execution_count": 21,
   "metadata": {},
   "outputs": [],
   "source": [
    "from sklearn.metrics import confusion_matrix\n",
    "mat = confusion_matrix(test.label, labels, labels=conf_labels)"
   ]
  },
  {
   "cell_type": "code",
   "execution_count": 22,
   "metadata": {},
   "outputs": [
    {
     "name": "stdout",
     "output_type": "stream",
     "text": [
      "array([[16,  2,  0,  0,  0,  1,  0,  0,  0,  0,  2,  1,  0,  3,  0,  0],\n",
      "       [ 2,  9,  0,  0,  0,  0,  2,  0,  1,  0,  2,  0,  1,  1,  1,  4],\n",
      "       [ 0,  0,  4,  0,  0,  0,  1,  0,  1,  4,  1,  0,  0,  0,  1,  5],\n",
      "       [ 0,  0,  0,  0,  0,  0,  2,  0,  2,  0,  0,  0,  0,  0,  0,  5],\n",
      "       [ 0,  1,  0,  0,  2,  0,  0,  0,  0,  0,  1,  1,  0,  3,  0,  2],\n",
      "       [ 0,  0,  0,  0,  0,  8,  1,  0,  0,  1,  1,  0,  0,  1,  0,  2],\n",
      "       [ 0,  3,  0,  0,  0,  2,  3,  1,  2,  0,  1,  0,  0,  0,  3,  4],\n",
      "       [ 0,  0,  0,  0,  0,  3,  2,  2,  0,  2,  4,  0,  0,  1,  2,  9],\n",
      "       [ 0,  1,  1,  0,  0,  4,  0,  0,  6,  0,  0,  0,  0,  0,  7,  6],\n",
      "       [ 0,  2,  0,  0,  0,  1,  0,  1,  1, 11,  0,  1,  0,  1,  0,  2],\n",
      "       [ 0,  0,  0,  0,  0,  3,  0,  0,  0,  0, 11,  0,  0,  0,  0,  2],\n",
      "       [ 0,  0,  0,  0,  0,  3,  2,  0,  1,  1,  0,  5,  0,  2,  1,  7],\n",
      "       [ 0,  0,  0,  0,  1,  1,  1,  0,  1,  1,  2,  1,  5,  3,  1,  7],\n",
      "       [ 0,  0,  1,  0,  1,  1,  0,  0,  0,  0,  3,  1,  0, 14,  0,  1],\n",
      "       [ 0,  1,  1,  0,  0,  3,  1,  0,  4,  2,  0,  0,  0,  0,  2,  8],\n",
      "       [ 0,  0,  0,  0,  0,  0,  1,  0,  0,  1,  0,  1,  0,  0,  0, 11]])\n"
     ]
    }
   ],
   "source": [
    "pp.pprint(mat)"
   ]
  },
  {
   "cell_type": "code",
   "execution_count": 23,
   "metadata": {},
   "outputs": [],
   "source": [
    "sorted_dict = dict(sorted(confusion_mx.items()))"
   ]
  },
  {
   "cell_type": "code",
   "execution_count": 24,
   "metadata": {},
   "outputs": [
    {
     "data": {
      "image/png": "[encoded data removed]",
      "text/plain": [
       "<Figure size 720x720 with 1 Axes>"
      ]
     },
     "metadata": {},
     "output_type": "display_data"
    }
   ],
   "source": [
    "sns.set(style=\"white\", color_codes=True)\n",
    "fig, ax = plt.subplots(figsize=(10,10))\n",
    "ax = sns.heatmap(mat.T, square=True, annot=True, fmt='d', cbar=False,\n",
    "            xticklabels=conf_labels, yticklabels=conf_labels,cmap=\"YlGnBu\")\n",
    "ax.xaxis.tick_top() # x axis on top\n",
    "ax.xaxis.set_label_position('top')\n",
    "\n",
    "plt.xlabel('true label')\n",
    "plt.ylabel('predicted label');"
   ]
  },
  {
   "cell_type": "code",
   "execution_count": 25,
   "metadata": {},
   "outputs": [
    {
     "data": {
      "image/png": "[encoded data removed]",
      "text/plain": [
       "<Figure size 720x720 with 1 Axes>"
      ]
     },
     "metadata": {},
     "output_type": "display_data"
    }
   ],
   "source": [
    "fig, ax = plt.subplots(figsize=(10,10))\n",
    "ax = sns.heatmap(mat.T, square=True, annot=True, fmt='d', cbar=False,\n",
    "            xticklabels=conf_labels, yticklabels=conf_labels,cmap=\"Blues\")\n",
    "ax.xaxis.tick_top() # x axis on top\n",
    "ax.xaxis.set_label_position('top')\n",
    "\n",
    "plt.xlabel('true label')\n",
    "plt.ylabel('predicted label');"
   ]
  },
  {
   "cell_type": "code",
   "execution_count": 26,
   "metadata": {},
   "outputs": [],
   "source": [
    "fig.savefig('img/heat_map_MultinomialNB.png')"
   ]
  },
  {
   "cell_type": "code",
   "execution_count": 27,
   "metadata": {},
   "outputs": [],
   "source": [
    "from sklearn.metrics import classification_report"
   ]
  },
  {
   "cell_type": "code",
   "execution_count": 28,
   "metadata": {},
   "outputs": [
    {
     "name": "stdout",
     "output_type": "stream",
     "text": [
      "              precision    recall  f1-score   support\n",
      "\n",
      "          10       0.32      0.24      0.27        25\n",
      "          11       0.48      0.55      0.51        20\n",
      "          12       0.39      0.69      0.50        16\n",
      "          13       0.45      0.23      0.30        22\n",
      "          14       0.83      0.21      0.33        24\n",
      "          15       0.48      0.64      0.55        22\n",
      "          16       0.11      0.09      0.10        22\n",
      "          17       0.15      0.79      0.25        14\n",
      "           2       0.89      0.64      0.74        25\n",
      "           3       0.47      0.39      0.43        23\n",
      "           4       0.57      0.24      0.33        17\n",
      "           5       0.00      0.00      0.00         9\n",
      "           6       0.50      0.20      0.29        10\n",
      "           7       0.27      0.57      0.36        14\n",
      "           8       0.19      0.16      0.17        19\n",
      "           9       0.50      0.08      0.14        25\n",
      "\n",
      "    accuracy                           0.36       307\n",
      "   macro avg       0.41      0.36      0.33       307\n",
      "weighted avg       0.44      0.36      0.35       307\n",
      "\n"
     ]
    }
   ],
   "source": [
    "report = classification_report(test.label, labels, zero_division=0)\n",
    "print(report)"
   ]
  },
  {
   "cell_type": "code",
   "execution_count": 29,
   "metadata": {},
   "outputs": [],
   "source": [
    "report_dict = classification_report(test.label, labels, zero_division=0, output_dict=True)"
   ]
  },
  {
   "cell_type": "code",
   "execution_count": 30,
   "metadata": {},
   "outputs": [],
   "source": [
    "report_df = pd.DataFrame.from_records(report_dict)"
   ]
  },
  {
   "cell_type": "code",
   "execution_count": 31,
   "metadata": {},
   "outputs": [],
   "source": [
    "report_T = report_df.T.sort_index(na_position={'2', '17'})"
   ]
  },
  {
   "cell_type": "code",
   "execution_count": 33,
   "metadata": {},
   "outputs": [],
   "source": [
    "report_T.to_csv (r'db/report_MultinomialNB.csv', index = True, header=True)"
   ]
  }
 ],
 "metadata": {
  "kernelspec": {
   "display_name": "gpu",
   "language": "python",
   "name": "gpu"
  },
  "language_info": {
   "codemirror_mode": {
    "name": "ipython",
    "version": 3
   },
   "file_extension": ".py",
   "mimetype": "text/x-python",
   "name": "python",
   "nbconvert_exporter": "python",
   "pygments_lexer": "ipython3",
   "version": "3.8.5"
  }
 },
 "nbformat": 4,
 "nbformat_minor": 4
}
