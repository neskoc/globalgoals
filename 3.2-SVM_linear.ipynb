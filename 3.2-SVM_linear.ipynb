{
 "cells": [
  {
   "cell_type": "code",
   "execution_count": 1,
   "metadata": {},
   "outputs": [],
   "source": [
    "import pandas as pd\n",
    "from sklearn.model_selection import cross_val_score\n",
    "from sklearn.model_selection import KFold\n",
    "from sklearn.preprocessing import LabelEncoder\n",
    "from sklearn.pipeline import Pipeline\n",
    "from sklearn.feature_extraction.text import TfidfVectorizer"
   ]
  },
  {
   "cell_type": "code",
   "execution_count": 2,
   "metadata": {},
   "outputs": [],
   "source": [
    "from sklearn.metrics import classification_report"
   ]
  },
  {
   "cell_type": "markdown",
   "metadata": {},
   "source": [
    "```python\n",
    "# Use the alternative stopwords imported below (with meny more stopwords)\n",
    "import nltk\n",
    "from nltk.corpus import stopwords\n",
    "nltk.download('stopwords')\n",
    "stopwords = stopwords.words('swedish')\n",
    "```"
   ]
  },
  {
   "cell_type": "code",
   "execution_count": 3,
   "metadata": {},
   "outputs": [],
   "source": [
    "import pprint as pp"
   ]
  },
  {
   "cell_type": "code",
   "execution_count": 4,
   "metadata": {},
   "outputs": [],
   "source": [
    "from inc import stop_words as sw\n",
    "from inc import extra_stopwords as esw"
   ]
  },
  {
   "cell_type": "code",
   "execution_count": 5,
   "metadata": {},
   "outputs": [],
   "source": [
    "from sqlalchemy import create_engine\n",
    "table_name = 'Training_set_new'\n",
    "db_path = 'db/training.sqlite'\n",
    "db_path = 'sqlite:///' + db_path\n",
    "engine = create_engine(db_path, echo=True)"
   ]
  },
  {
   "cell_type": "code",
   "execution_count": 6,
   "metadata": {},
   "outputs": [
    {
     "name": "stdout",
     "output_type": "stream",
     "text": [
      "2020-12-19 17:44:01,816 INFO sqlalchemy.engine.base.Engine SELECT CAST('test plain returns' AS VARCHAR(60)) AS anon_1\n",
      "2020-12-19 17:44:01,817 INFO sqlalchemy.engine.base.Engine ()\n",
      "2020-12-19 17:44:01,819 INFO sqlalchemy.engine.base.Engine SELECT CAST('test unicode returns' AS VARCHAR(60)) AS anon_1\n",
      "2020-12-19 17:44:01,819 INFO sqlalchemy.engine.base.Engine ()\n",
      "2020-12-19 17:44:01,821 INFO sqlalchemy.engine.base.Engine SELECT name FROM sqlite_master WHERE type='table' ORDER BY name\n",
      "2020-12-19 17:44:01,821 INFO sqlalchemy.engine.base.Engine ()\n",
      "2020-12-19 17:44:01,823 INFO sqlalchemy.engine.base.Engine SELECT name FROM sqlite_master WHERE type='view' ORDER BY name\n",
      "2020-12-19 17:44:01,824 INFO sqlalchemy.engine.base.Engine ()\n",
      "2020-12-19 17:44:01,826 INFO sqlalchemy.engine.base.Engine PRAGMA main.table_xinfo(\"Training_set_new\")\n",
      "2020-12-19 17:44:01,826 INFO sqlalchemy.engine.base.Engine ()\n",
      "2020-12-19 17:44:01,829 INFO sqlalchemy.engine.base.Engine SELECT sql FROM  (SELECT * FROM sqlite_master UNION ALL   SELECT * FROM sqlite_temp_master) WHERE name = ? AND type = 'table'\n",
      "2020-12-19 17:44:01,829 INFO sqlalchemy.engine.base.Engine ('Training_set_new',)\n",
      "2020-12-19 17:44:01,831 INFO sqlalchemy.engine.base.Engine PRAGMA main.foreign_key_list(\"Training_set_new\")\n",
      "2020-12-19 17:44:01,832 INFO sqlalchemy.engine.base.Engine ()\n",
      "2020-12-19 17:44:01,833 INFO sqlalchemy.engine.base.Engine PRAGMA temp.foreign_key_list(\"Training_set_new\")\n",
      "2020-12-19 17:44:01,834 INFO sqlalchemy.engine.base.Engine ()\n",
      "2020-12-19 17:44:01,834 INFO sqlalchemy.engine.base.Engine SELECT sql FROM  (SELECT * FROM sqlite_master UNION ALL   SELECT * FROM sqlite_temp_master) WHERE name = ? AND type = 'table'\n",
      "2020-12-19 17:44:01,835 INFO sqlalchemy.engine.base.Engine ('Training_set_new',)\n",
      "2020-12-19 17:44:01,839 INFO sqlalchemy.engine.base.Engine PRAGMA main.index_list(\"Training_set_new\")\n",
      "2020-12-19 17:44:01,839 INFO sqlalchemy.engine.base.Engine ()\n",
      "2020-12-19 17:44:01,841 INFO sqlalchemy.engine.base.Engine PRAGMA main.index_info(\"ix_Training_set_new_index\")\n",
      "2020-12-19 17:44:01,841 INFO sqlalchemy.engine.base.Engine ()\n",
      "2020-12-19 17:44:01,843 INFO sqlalchemy.engine.base.Engine PRAGMA main.index_list(\"Training_set_new\")\n",
      "2020-12-19 17:44:01,843 INFO sqlalchemy.engine.base.Engine ()\n",
      "2020-12-19 17:44:01,845 INFO sqlalchemy.engine.base.Engine PRAGMA main.index_info(\"ix_Training_set_new_index\")\n",
      "2020-12-19 17:44:01,845 INFO sqlalchemy.engine.base.Engine ()\n",
      "2020-12-19 17:44:01,847 INFO sqlalchemy.engine.base.Engine SELECT sql FROM  (SELECT * FROM sqlite_master UNION ALL   SELECT * FROM sqlite_temp_master) WHERE name = ? AND type = 'table'\n",
      "2020-12-19 17:44:01,847 INFO sqlalchemy.engine.base.Engine ('Training_set_new',)\n",
      "2020-12-19 17:44:01,852 INFO sqlalchemy.engine.base.OptionEngine SELECT \"Training_set_new\".\"index\", \"Training_set_new\".abstract, \"Training_set_new\".class, \"Training_set_new\".len \n",
      "FROM \"Training_set_new\"\n",
      "2020-12-19 17:44:01,854 INFO sqlalchemy.engine.base.OptionEngine ()\n"
     ]
    }
   ],
   "source": [
    "df = pd.read_sql_table(table_name, engine)"
   ]
  },
  {
   "cell_type": "code",
   "execution_count": 7,
   "metadata": {},
   "outputs": [],
   "source": [
    "df = df.rename(columns={\"class\": \"label\"})\n",
    "df = df.convert_dtypes()"
   ]
  },
  {
   "cell_type": "code",
   "execution_count": 8,
   "metadata": {},
   "outputs": [],
   "source": [
    "df = df.sample(frac=1).reset_index(drop=True) # randomize"
   ]
  },
  {
   "cell_type": "code",
   "execution_count": 9,
   "metadata": {},
   "outputs": [],
   "source": [
    "train = df.sample(frac=0.8,random_state=200) #random state is a seed value\n",
    "test = df.drop(train.index)"
   ]
  },
  {
   "cell_type": "code",
   "execution_count": 10,
   "metadata": {},
   "outputs": [],
   "source": [
    "train_data = train.abstract.tolist()\n",
    "train_labels = train.label.tolist()\n",
    "\n",
    "test_data = test.abstract.tolist()\n",
    "test_labels = test.label.tolist()"
   ]
  },
  {
   "cell_type": "code",
   "execution_count": 13,
   "metadata": {},
   "outputs": [
    {
     "name": "stdout",
     "output_type": "stream",
     "text": [
      "Counter({'7': 86, '14': 84, '12': 83, '17': 82, '3': 82, '15': 82, '16': 81, '2': 80, '13': 80, '8': 77, '11': 76, '10': 76, '9': 73, '4': 72, '6': 67, '5': 46})\n",
      "Counter({'9': 27, '11': 24, '10': 24, '8': 23, '2': 20, '13': 20, '6': 20, '16': 19, '3': 18, '15': 18, '17': 18, '12': 17, '4': 16, '14': 16, '7': 14, '5': 13})\n"
     ]
    }
   ],
   "source": [
    "from collections import Counter\n",
    "print(Counter(train_labels))\n",
    "print(Counter(test_labels))"
   ]
  },
  {
   "cell_type": "code",
   "execution_count": 14,
   "metadata": {},
   "outputs": [],
   "source": [
    "sw.STOP_WORDS = sw.STOP_WORDS.union(esw.common_stopwords)\n",
    "sw.STOP_WORDS = sw.STOP_WORDS.union(esw.extra_stopwords)"
   ]
  },
  {
   "cell_type": "code",
   "execution_count": 15,
   "metadata": {},
   "outputs": [],
   "source": [
    "tfidf_vectorizer = TfidfVectorizer(stop_words=sw.STOP_WORDS, max_features=None)\n",
    "\n",
    "term_docs_train = tfidf_vectorizer.fit_transform(train_data)\n",
    "term_docs_test = tfidf_vectorizer.transform(test_data)"
   ]
  },
  {
   "cell_type": "code",
   "execution_count": 16,
   "metadata": {},
   "outputs": [],
   "source": [
    "from sklearn.svm import SVC"
   ]
  },
  {
   "cell_type": "code",
   "execution_count": 17,
   "metadata": {},
   "outputs": [
    {
     "data": {
      "text/plain": [
       "SVC(kernel='linear', random_state=42)"
      ]
     },
     "execution_count": 17,
     "metadata": {},
     "output_type": "execute_result"
    }
   ],
   "source": [
    "svm = SVC(kernel='linear', C=1.0, random_state=42)\n",
    "svm.fit(term_docs_train, train_labels)"
   ]
  },
  {
   "cell_type": "code",
   "execution_count": 18,
   "metadata": {},
   "outputs": [
    {
     "name": "stdout",
     "output_type": "stream",
     "text": [
      "The accuracy of multiclass classification is: 39.7%\n"
     ]
    }
   ],
   "source": [
    "accuracy = svm.score(term_docs_test, test_labels)\n",
    "print('The accuracy of multiclass classification is: {0:.1f}%'.format(accuracy*100))"
   ]
  },
  {
   "cell_type": "code",
   "execution_count": 27,
   "metadata": {},
   "outputs": [],
   "source": [
    "labels = svm.predict(term_docs_test)"
   ]
  },
  {
   "cell_type": "code",
   "execution_count": 28,
   "metadata": {},
   "outputs": [],
   "source": [
    "confusion_mx = {}\n",
    "for ix, label in enumerate(labels):\n",
    "    if label == test_labels[ix]:\n",
    "        if label in confusion_mx:\n",
    "            confusion_mx[label] += 1\n",
    "        else:\n",
    "            confusion_mx[label] = 1"
   ]
  },
  {
   "cell_type": "code",
   "execution_count": 29,
   "metadata": {},
   "outputs": [],
   "source": [
    "conf_labels = list(map(str, list(range(2,18))))"
   ]
  },
  {
   "cell_type": "code",
   "execution_count": 30,
   "metadata": {},
   "outputs": [],
   "source": [
    "from sklearn.metrics import confusion_matrix\n",
    "mat = confusion_matrix(test_labels, labels, labels=conf_labels)"
   ]
  },
  {
   "cell_type": "code",
   "execution_count": 31,
   "metadata": {},
   "outputs": [],
   "source": [
    "sorted_dict = dict(sorted(confusion_mx.items()))"
   ]
  },
  {
   "cell_type": "code",
   "execution_count": 32,
   "metadata": {},
   "outputs": [],
   "source": [
    "import matplotlib.pyplot as plt\n",
    "import seaborn as sns; sns.set()"
   ]
  },
  {
   "cell_type": "code",
   "execution_count": 33,
   "metadata": {},
   "outputs": [
    {
     "data": {
      "image/png": "[encoded data removed]",
      "text/plain": [
       "<Figure size 720x720 with 1 Axes>"
      ]
     },
     "metadata": {},
     "output_type": "display_data"
    }
   ],
   "source": [
    "sns.set(style=\"white\", color_codes=True)\n",
    "fig, ax = plt.subplots(figsize=(10,10))\n",
    "ax = sns.heatmap(mat.T, square=True, annot=True, fmt='d', cbar=False,\n",
    "            xticklabels=conf_labels, yticklabels=conf_labels,cmap=\"YlGnBu\")\n",
    "ax.xaxis.tick_top() # x axis on top\n",
    "ax.xaxis.set_label_position('top')\n",
    "\n",
    "plt.xlabel('true label')\n",
    "plt.ylabel('predicted label');"
   ]
  },
  {
   "cell_type": "code",
   "execution_count": 34,
   "metadata": {},
   "outputs": [
    {
     "data": {
      "image/png": "[encoded data removed]",
      "text/plain": [
       "<Figure size 720x720 with 1 Axes>"
      ]
     },
     "metadata": {},
     "output_type": "display_data"
    }
   ],
   "source": [
    "fig, ax = plt.subplots(figsize=(10,10))\n",
    "ax = sns.heatmap(mat.T, square=True, annot=True, fmt='d', cbar=False,\n",
    "            xticklabels=conf_labels, yticklabels=conf_labels,cmap=\"Blues\")\n",
    "ax.xaxis.tick_top() # x axis on top\n",
    "ax.xaxis.set_label_position('top')\n",
    "\n",
    "plt.xlabel('true label')\n",
    "plt.ylabel('predicted label');"
   ]
  },
  {
   "cell_type": "code",
   "execution_count": 39,
   "metadata": {},
   "outputs": [
    {
     "name": "stdout",
     "output_type": "stream",
     "text": [
      "['11' '16' '16' '14' '15' '2' '15' '9' '11' '8' '11' '10' '2' '2' '4' '11'\n",
      " '15' '14' '12' '10' '16' '4' '13' '12' '13' '12' '17' '13' '12' '13' '4'\n",
      " '17' '13' '15' '4' '14' '16' '17' '15' '17' '2' '16' '2' '13' '3' '13'\n",
      " '7' '13' '17' '13' '17' '9' '3' '15' '14' '17' '16' '15' '9' '17' '3'\n",
      " '17' '7' '15' '7' '9' '16' '17' '14' '2' '16' '16' '13' '10' '16' '8'\n",
      " '12' '12' '4' '7' '16' '2' '11' '10' '17' '6' '7' '11' '7' '10' '4' '7'\n",
      " '9' '2' '7' '8' '7' '14' '14' '11' '2' '15' '13' '13' '14' '2' '7' '17'\n",
      " '11' '16' '11' '7' '10' '17' '8' '7' '3' '12' '16' '11' '17' '5' '12'\n",
      " '16' '17' '13' '15' '14' '6' '11' '3' '10' '10' '14' '12' '4' '17' '9'\n",
      " '11' '15' '16' '14' '11' '11' '7' '15' '9' '8' '6' '2' '11' '17' '13' '4'\n",
      " '10' '12' '4' '7' '9' '17' '8' '11' '4' '2' '11' '2' '8' '6' '17' '9' '4'\n",
      " '16' '12' '17' '17' '12' '11' '9' '5' '9' '17' '7' '10' '9' '17' '12'\n",
      " '15' '10' '17' '3' '2' '14' '16' '2' '10' '7' '10' '9' '17' '2' '15' '6'\n",
      " '16' '8' '12' '17' '17' '14' '10' '12' '17' '13' '6' '7' '16' '17' '9'\n",
      " '13' '7' '10' '9' '10' '16' '12' '6' '3' '13' '15' '3' '3' '4' '3' '6'\n",
      " '6' '2' '17' '13' '16' '7' '4' '17' '10' '2' '11' '15' '17' '10' '11'\n",
      " '16' '9' '10' '13' '17' '13' '10' '7' '8' '17' '7' '8' '11' '17' '8' '17'\n",
      " '12' '11' '10' '10' '6' '17' '13' '14' '13' '3' '17' '16' '3' '2' '7' '4'\n",
      " '15' '8' '14' '2' '4' '4' '13' '12' '4' '12' '16' '12' '16' '7' '4' '12'\n",
      " '11' '13' '8' '16' '10' '3' '2' '10' '17' '17' '12']\n"
     ]
    }
   ],
   "source": [
    "print(labels)"
   ]
  },
  {
   "cell_type": "code",
   "execution_count": 40,
   "metadata": {},
   "outputs": [
    {
     "name": "stdout",
     "output_type": "stream",
     "text": [
      "['11', '3', '4', '9', '12', '2', '15', '9', '11', '8', '11', '7', '2', '2', '4', '11', '15', '14', '12', '9', '10', '8', '15', '9', '13', '12', '16', '6', '3', '11', '8', '10', '13', '6', '10', '14', '3', '9', '15', '8', '2', '16', '2', '13', '8', '13', '2', '13', '6', '13', '9', '6', '3', '13', '10', '8', '11', '15', '9', '11', '11', '17', '7', '14', '7', '12', '17', '17', '14', '2', '10', '16', '11', '10', '10', '9', '17', '12', '4', '4', '3', '2', '11', '16', '16', '15', '7', '15', '9', '5', '10', '11', '8', '15', '12', '8', '8', '11', '14', '13', '3', '2', '17', '13', '14', '2', '7', '17', '10', '16', '11', '7', '5', '9', '12', '7', '6', '7', '10', '16', '8', '5', '12', '5', '17', '17', '2', '14', '15', '11', '3', '10', '5', '14', '12', '17', '4', '16', '6', '15', '8', '14', '9', '11', '3', '6', '14', '16', '15', '2', '9', '8', '15', '4', '10', '3', '4', '6', '3', '7', '8', '11', '8', '2', '6', '3', '13', '15', '14', '9', '17', '13', '12', '5', '5', '6', '11', '14', '5', '9', '9', '7', '16', '17', '14', '12', '15', '8', '9', '3', '7', '16', '10', '13', '8', '9', '10', '9', '3', '8', '6', '9', '17', '8', '7', '4', '16', '13', '10', '9', '8', '13', '6', '8', '4', '13', '7', '13', '4', '6', '17', '10', '5', '12', '6', '8', '7', '15', '3', '16', '15', '6', '12', '2', '2', '5', '17', '16', '16', '10', '4', '5', '2', '10', '15', '11', '8', '11', '16', '9', '5', '13', '9', '10', '10', '6', '3', '5', '9', '3', '13', '16', '8', '17', '2', '12', '16', '16', '6', '6', '9', '4', '13', '3', '17', '14', '3', '2', '9', '2', '15', '9', '14', '2', '4', '10', '14', '12', '4', '9', '4', '17', '11', '11', '4', '12', '11', '13', '10', '17', '6', '10', '11', '10', '6', '11', '12']\n"
     ]
    }
   ],
   "source": [
    "print(test_labels)"
   ]
  },
  {
   "cell_type": "code",
   "execution_count": 41,
   "metadata": {},
   "outputs": [],
   "source": [
    "fig.savefig('img/heat_map_SVM.png')"
   ]
  },
  {
   "cell_type": "code",
   "execution_count": 42,
   "metadata": {},
   "outputs": [],
   "source": [
    "from sklearn.metrics import classification_report\n",
    "report = classification_report(test_labels, labels)"
   ]
  },
  {
   "cell_type": "code",
   "execution_count": 43,
   "metadata": {},
   "outputs": [
    {
     "name": "stdout",
     "output_type": "stream",
     "text": [
      "              precision    recall  f1-score   support\n",
      "\n",
      "          10       0.33      0.33      0.33        24\n",
      "          11       0.52      0.50      0.51        24\n",
      "          12       0.50      0.65      0.56        17\n",
      "          13       0.50      0.60      0.55        20\n",
      "          14       0.60      0.56      0.58        16\n",
      "          15       0.53      0.50      0.51        18\n",
      "          16       0.19      0.26      0.22        19\n",
      "          17       0.15      0.33      0.21        18\n",
      "           2       0.67      0.70      0.68        20\n",
      "           3       0.46      0.33      0.39        18\n",
      "           4       0.39      0.44      0.41        16\n",
      "           5       1.00      0.15      0.27        13\n",
      "           6       0.30      0.15      0.20        20\n",
      "           7       0.30      0.50      0.38        14\n",
      "           8       0.38      0.22      0.28        23\n",
      "           9       0.38      0.22      0.28        27\n",
      "\n",
      "    accuracy                           0.40       307\n",
      "   macro avg       0.45      0.40      0.40       307\n",
      "weighted avg       0.44      0.40      0.39       307\n",
      "\n"
     ]
    }
   ],
   "source": [
    "print(report)"
   ]
  }
 ],
 "metadata": {
  "kernelspec": {
   "display_name": "Python 3",
   "language": "python",
   "name": "python3"
  },
  "language_info": {
   "codemirror_mode": {
    "name": "ipython",
    "version": 3
   },
   "file_extension": ".py",
   "mimetype": "text/x-python",
   "name": "python",
   "nbconvert_exporter": "python",
   "pygments_lexer": "ipython3",
   "version": "3.8.5"
  }
 },
 "nbformat": 4,
 "nbformat_minor": 4
}
