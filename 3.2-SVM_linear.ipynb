{
 "cells": [
  {
   "cell_type": "code",
   "execution_count": 1,
   "metadata": {},
   "outputs": [],
   "source": [
    "import pandas as pd\n",
    "from sklearn.model_selection import cross_val_score\n",
    "from sklearn.model_selection import KFold\n",
    "from sklearn.preprocessing import LabelEncoder\n",
    "from sklearn.pipeline import Pipeline\n",
    "from sklearn.feature_extraction.text import TfidfVectorizer"
   ]
  },
  {
   "cell_type": "code",
   "execution_count": 2,
   "metadata": {},
   "outputs": [],
   "source": [
    "from sklearn.metrics import classification_report"
   ]
  },
  {
   "cell_type": "markdown",
   "metadata": {},
   "source": [
    "```python\n",
    "# Use the alternative stopwords imported below (with meny more stopwords)\n",
    "import nltk\n",
    "from nltk.corpus import stopwords\n",
    "nltk.download('stopwords')\n",
    "stopwords = stopwords.words('swedish')\n",
    "```"
   ]
  },
  {
   "cell_type": "code",
   "execution_count": 3,
   "metadata": {},
   "outputs": [],
   "source": [
    "import pprint as pp"
   ]
  },
  {
   "cell_type": "code",
   "execution_count": 4,
   "metadata": {},
   "outputs": [],
   "source": [
    "from inc import stop_words as sw\n",
    "from inc import extra_stopwords as esw"
   ]
  },
  {
   "cell_type": "code",
   "execution_count": 5,
   "metadata": {},
   "outputs": [],
   "source": [
    "from sqlalchemy import create_engine\n",
    "table_name = 'Training_set'\n",
    "db_path = 'db/training.sqlite'\n",
    "db_path = 'sqlite:///' + db_path\n",
    "engine = create_engine(db_path, echo=True)"
   ]
  },
  {
   "cell_type": "code",
   "execution_count": 6,
   "metadata": {},
   "outputs": [
    {
     "name": "stdout",
     "output_type": "stream",
     "text": [
      "2020-12-19 02:09:41,173 INFO sqlalchemy.engine.base.Engine SELECT CAST('test plain returns' AS VARCHAR(60)) AS anon_1\n",
      "2020-12-19 02:09:41,175 INFO sqlalchemy.engine.base.Engine ()\n",
      "2020-12-19 02:09:41,176 INFO sqlalchemy.engine.base.Engine SELECT CAST('test unicode returns' AS VARCHAR(60)) AS anon_1\n",
      "2020-12-19 02:09:41,177 INFO sqlalchemy.engine.base.Engine ()\n",
      "2020-12-19 02:09:41,179 INFO sqlalchemy.engine.base.Engine SELECT name FROM sqlite_master WHERE type='table' ORDER BY name\n",
      "2020-12-19 02:09:41,180 INFO sqlalchemy.engine.base.Engine ()\n",
      "2020-12-19 02:09:41,182 INFO sqlalchemy.engine.base.Engine SELECT name FROM sqlite_master WHERE type='view' ORDER BY name\n",
      "2020-12-19 02:09:41,182 INFO sqlalchemy.engine.base.Engine ()\n",
      "2020-12-19 02:09:41,184 INFO sqlalchemy.engine.base.Engine PRAGMA main.table_xinfo(\"Training_set\")\n",
      "2020-12-19 02:09:41,185 INFO sqlalchemy.engine.base.Engine ()\n",
      "2020-12-19 02:09:41,187 INFO sqlalchemy.engine.base.Engine SELECT sql FROM  (SELECT * FROM sqlite_master UNION ALL   SELECT * FROM sqlite_temp_master) WHERE name = ? AND type = 'table'\n",
      "2020-12-19 02:09:41,187 INFO sqlalchemy.engine.base.Engine ('Training_set',)\n",
      "2020-12-19 02:09:41,189 INFO sqlalchemy.engine.base.Engine PRAGMA main.foreign_key_list(\"Training_set\")\n",
      "2020-12-19 02:09:41,190 INFO sqlalchemy.engine.base.Engine ()\n",
      "2020-12-19 02:09:41,191 INFO sqlalchemy.engine.base.Engine PRAGMA temp.foreign_key_list(\"Training_set\")\n",
      "2020-12-19 02:09:41,191 INFO sqlalchemy.engine.base.Engine ()\n",
      "2020-12-19 02:09:41,193 INFO sqlalchemy.engine.base.Engine SELECT sql FROM  (SELECT * FROM sqlite_master UNION ALL   SELECT * FROM sqlite_temp_master) WHERE name = ? AND type = 'table'\n",
      "2020-12-19 02:09:41,193 INFO sqlalchemy.engine.base.Engine ('Training_set',)\n",
      "2020-12-19 02:09:41,196 INFO sqlalchemy.engine.base.Engine PRAGMA main.index_list(\"Training_set\")\n",
      "2020-12-19 02:09:41,197 INFO sqlalchemy.engine.base.Engine ()\n",
      "2020-12-19 02:09:41,198 INFO sqlalchemy.engine.base.Engine PRAGMA main.index_info(\"ix_Training_set_index\")\n",
      "2020-12-19 02:09:41,199 INFO sqlalchemy.engine.base.Engine ()\n",
      "2020-12-19 02:09:41,201 INFO sqlalchemy.engine.base.Engine PRAGMA main.index_list(\"Training_set\")\n",
      "2020-12-19 02:09:41,201 INFO sqlalchemy.engine.base.Engine ()\n",
      "2020-12-19 02:09:41,203 INFO sqlalchemy.engine.base.Engine PRAGMA main.index_info(\"ix_Training_set_index\")\n",
      "2020-12-19 02:09:41,204 INFO sqlalchemy.engine.base.Engine ()\n",
      "2020-12-19 02:09:41,205 INFO sqlalchemy.engine.base.Engine SELECT sql FROM  (SELECT * FROM sqlite_master UNION ALL   SELECT * FROM sqlite_temp_master) WHERE name = ? AND type = 'table'\n",
      "2020-12-19 02:09:41,206 INFO sqlalchemy.engine.base.Engine ('Training_set',)\n",
      "2020-12-19 02:09:41,212 INFO sqlalchemy.engine.base.OptionEngine SELECT \"Training_set\".\"index\", \"Training_set\".abstract, \"Training_set\".class \n",
      "FROM \"Training_set\"\n",
      "2020-12-19 02:09:41,213 INFO sqlalchemy.engine.base.OptionEngine ()\n"
     ]
    }
   ],
   "source": [
    "df = pd.read_sql_table(table_name, engine)"
   ]
  },
  {
   "cell_type": "code",
   "execution_count": 7,
   "metadata": {},
   "outputs": [],
   "source": [
    "df = df.rename(columns={\"class\": \"label\"})\n",
    "df = df.convert_dtypes()"
   ]
  },
  {
   "cell_type": "code",
   "execution_count": 8,
   "metadata": {},
   "outputs": [],
   "source": [
    "df = df.sample(frac=1).reset_index(drop=True) # randomize"
   ]
  },
  {
   "cell_type": "code",
   "execution_count": 9,
   "metadata": {},
   "outputs": [],
   "source": [
    "train = df.sample(frac=0.8,random_state=200) #random state is a seed value\n",
    "test = df.drop(train.index)"
   ]
  },
  {
   "cell_type": "code",
   "execution_count": 10,
   "metadata": {},
   "outputs": [],
   "source": [
    "train_data = train.abstract.tolist()\n",
    "train_labels = train.label.tolist()\n",
    "\n",
    "test_data = test.abstract.tolist()\n",
    "test_labels = test.label.tolist()"
   ]
  },
  {
   "cell_type": "code",
   "execution_count": 11,
   "metadata": {},
   "outputs": [
    {
     "data": {
      "text/plain": [
       "Counter({13: 80,\n",
       "         12: 78,\n",
       "         7: 84,\n",
       "         5: 41,\n",
       "         10: 86,\n",
       "         9: 86,\n",
       "         8: 82,\n",
       "         3: 86,\n",
       "         11: 79,\n",
       "         6: 67,\n",
       "         2: 82,\n",
       "         17: 78,\n",
       "         4: 70,\n",
       "         14: 79,\n",
       "         16: 75,\n",
       "         15: 73})"
      ]
     },
     "execution_count": 11,
     "metadata": {},
     "output_type": "execute_result"
    }
   ],
   "source": [
    "from collections import Counter\n",
    "Counter(train_labels)"
   ]
  },
  {
   "cell_type": "code",
   "execution_count": 12,
   "metadata": {},
   "outputs": [],
   "source": [
    "sw.STOP_WORDS = sw.STOP_WORDS.union(esw.common_stopwords)\n",
    "sw.STOP_WORDS = sw.STOP_WORDS.union(esw.extra_stopwords)"
   ]
  },
  {
   "cell_type": "code",
   "execution_count": 13,
   "metadata": {},
   "outputs": [],
   "source": [
    "tfidf_vectorizer = TfidfVectorizer(stop_words=sw.STOP_WORDS, max_features=None)\n",
    "\n",
    "term_docs_train = tfidf_vectorizer.fit_transform(train_data)\n",
    "term_docs_test = tfidf_vectorizer.transform(test_data)"
   ]
  },
  {
   "cell_type": "code",
   "execution_count": 14,
   "metadata": {},
   "outputs": [],
   "source": [
    "from sklearn.svm import SVC"
   ]
  },
  {
   "cell_type": "code",
   "execution_count": 15,
   "metadata": {},
   "outputs": [
    {
     "data": {
      "text/plain": [
       "SVC(kernel='linear', random_state=42)"
      ]
     },
     "execution_count": 15,
     "metadata": {},
     "output_type": "execute_result"
    }
   ],
   "source": [
    "svm = SVC(kernel='linear', C=1.0, random_state=42)\n",
    "svm.fit(term_docs_train, train_labels)"
   ]
  },
  {
   "cell_type": "code",
   "execution_count": 16,
   "metadata": {},
   "outputs": [
    {
     "name": "stdout",
     "output_type": "stream",
     "text": [
      "The accuracy of multiclass classification is: 37.1%\n"
     ]
    }
   ],
   "source": [
    "accuracy = svm.score(term_docs_test, test_labels)\n",
    "print('The accuracy of multiclass classification is: {0:.1f}%'.format(accuracy*100))"
   ]
  },
  {
   "cell_type": "code",
   "execution_count": 20,
   "metadata": {},
   "outputs": [],
   "source": [
    "labels = svm.predict(term_docs_test)"
   ]
  },
  {
   "cell_type": "code",
   "execution_count": 21,
   "metadata": {},
   "outputs": [],
   "source": [
    "confusion_mx = {}\n",
    "for ix, label in enumerate(labels):\n",
    "    if label == test_labels[ix]:\n",
    "        if label in confusion_mx:\n",
    "            confusion_mx[label] += 1\n",
    "        else:\n",
    "            confusion_mx[label] = 1"
   ]
  },
  {
   "cell_type": "code",
   "execution_count": 22,
   "metadata": {},
   "outputs": [],
   "source": [
    "conf_labels = list(range(2,18))"
   ]
  },
  {
   "cell_type": "code",
   "execution_count": 23,
   "metadata": {},
   "outputs": [],
   "source": [
    "from sklearn.metrics import confusion_matrix\n",
    "mat = confusion_matrix(test_labels, labels, labels=conf_labels)"
   ]
  },
  {
   "cell_type": "code",
   "execution_count": 24,
   "metadata": {},
   "outputs": [],
   "source": [
    "sorted_dict = dict(sorted(confusion_mx.items()))"
   ]
  },
  {
   "cell_type": "code",
   "execution_count": 26,
   "metadata": {},
   "outputs": [],
   "source": [
    "import matplotlib.pyplot as plt\n",
    "import seaborn as sns; sns.set()"
   ]
  },
  {
   "cell_type": "code",
   "execution_count": 27,
   "metadata": {},
   "outputs": [
    {
     "data": {
      "image/png": "[encoded data removed]",
      "text/plain": [
       "<Figure size 720x720 with 1 Axes>"
      ]
     },
     "metadata": {},
     "output_type": "display_data"
    }
   ],
   "source": [
    "sns.set(style=\"white\", color_codes=True)\n",
    "fig, ax = plt.subplots(figsize=(10,10))\n",
    "ax = sns.heatmap(mat.T, square=True, annot=True, fmt='d', cbar=False,\n",
    "            xticklabels=conf_labels, yticklabels=conf_labels,cmap=\"YlGnBu\")\n",
    "ax.xaxis.tick_top() # x axis on top\n",
    "ax.xaxis.set_label_position('top')\n",
    "\n",
    "plt.xlabel('true label')\n",
    "plt.ylabel('predicted label');"
   ]
  },
  {
   "cell_type": "code",
   "execution_count": 28,
   "metadata": {},
   "outputs": [
    {
     "data": {
      "image/png": "[encoded data removed]",
      "text/plain": [
       "<Figure size 720x720 with 1 Axes>"
      ]
     },
     "metadata": {},
     "output_type": "display_data"
    }
   ],
   "source": [
    "fig, ax = plt.subplots(figsize=(10,10))\n",
    "ax = sns.heatmap(mat.T, square=True, annot=True, fmt='d', cbar=False,\n",
    "            xticklabels=conf_labels, yticklabels=conf_labels,cmap=\"Blues\")\n",
    "ax.xaxis.tick_top() # x axis on top\n",
    "ax.xaxis.set_label_position('top')\n",
    "\n",
    "plt.xlabel('true label')\n",
    "plt.ylabel('predicted label');"
   ]
  },
  {
   "cell_type": "code",
   "execution_count": 29,
   "metadata": {},
   "outputs": [],
   "source": [
    "fig.savefig('img/heat_map_SVM.png')"
   ]
  },
  {
   "cell_type": "code",
   "execution_count": 17,
   "metadata": {},
   "outputs": [],
   "source": [
    "from sklearn.metrics import classification_report\n",
    "report = classification_report(test_labels, prediction)"
   ]
  },
  {
   "cell_type": "code",
   "execution_count": 18,
   "metadata": {},
   "outputs": [
    {
     "name": "stdout",
     "output_type": "stream",
     "text": [
      "              precision    recall  f1-score   support\n",
      "\n",
      "           2       0.71      0.67      0.69        18\n",
      "           3       0.36      0.29      0.32        14\n",
      "           4       0.53      0.44      0.48        18\n",
      "           5       0.00      0.00      0.00        18\n",
      "           6       0.78      0.35      0.48        20\n",
      "           7       0.35      0.38      0.36        16\n",
      "           8       0.10      0.17      0.12        18\n",
      "           9       0.18      0.36      0.24        14\n",
      "          10       0.14      0.43      0.21        14\n",
      "          11       0.60      0.57      0.59        21\n",
      "          12       0.78      0.64      0.70        22\n",
      "          13       0.43      0.45      0.44        20\n",
      "          14       0.39      0.33      0.36        21\n",
      "          15       0.77      0.63      0.69        27\n",
      "          16       0.18      0.08      0.11        25\n",
      "          17       0.08      0.10      0.09        21\n",
      "\n",
      "    accuracy                           0.37       307\n",
      "   macro avg       0.40      0.37      0.37       307\n",
      "weighted avg       0.42      0.37      0.38       307\n",
      "\n"
     ]
    }
   ],
   "source": [
    "print(report)"
   ]
  }
 ],
 "metadata": {
  "kernelspec": {
   "display_name": "Python 3",
   "language": "python",
   "name": "python3"
  },
  "language_info": {
   "codemirror_mode": {
    "name": "ipython",
    "version": 3
   },
   "file_extension": ".py",
   "mimetype": "text/x-python",
   "name": "python",
   "nbconvert_exporter": "python",
   "pygments_lexer": "ipython3",
   "version": "3.8.5"
  }
 },
 "nbformat": 4,
 "nbformat_minor": 4
}
