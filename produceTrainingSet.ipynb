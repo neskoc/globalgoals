{
 "cells": [
  {
   "cell_type": "code",
   "execution_count": 1,
   "metadata": {},
   "outputs": [],
   "source": [
    "import sqlite3\n",
    "import numpy as np"
   ]
  },
  {
   "cell_type": "code",
   "execution_count": 2,
   "metadata": {},
   "outputs": [],
   "source": [
    "def fetchTrainingData(db, sqlCmd):\n",
    "    try:\n",
    "        conn = sqlite3.connect(db)\n",
    "        cursor = conn.cursor()\n",
    "        cursor.execute(sqlCmd)\n",
    "        result = cursor.fetchall()\n",
    "        conn.commit()\n",
    "        cursor.close()\n",
    "        return result\n",
    "\n",
    "    except sqlite3.Error as error:\n",
    "        print(\"Failed to run sqlite command\", error)\n",
    "    finally:\n",
    "        if (conn):\n",
    "            conn.close()"
   ]
  },
  {
   "cell_type": "code",
   "execution_count": 3,
   "metadata": {},
   "outputs": [],
   "source": [
    "db_path = 'db/categorised_swecris.sqlite'"
   ]
  },
  {
   "cell_type": "code",
   "execution_count": 4,
   "metadata": {},
   "outputs": [],
   "source": [
    "for ix in range(2,18):\n",
    "    sqlCmd = f'''\n",
    "        SELECT abstract, Formas1 AS class FROM clean_swecris\n",
    "            WHERE class == '{ix}' ORDER BY RANDOM() LIMIT 99\n",
    "        '''\n",
    "    result = np.array(fetchTrainingData(db_path, sqlCmd))\n",
    "    if (ix == 2):\n",
    "        training_data_Formas = np.copy(result)\n",
    "    elif (result.size > 0):\n",
    "        training_data_Formas = np.vstack((training_data_Formas, result))"
   ]
  },
  {
   "cell_type": "code",
   "execution_count": 5,
   "metadata": {},
   "outputs": [],
   "source": [
    "for ix in range(2,18):\n",
    "    sqlCmd = f'''\n",
    "        SELECT abstract, Self1 AS class FROM clean_swecris\n",
    "            WHERE Self1 == '{ix}' ORDER BY RANDOM()\n",
    "            LIMIT 99 - (SELECT count(Formas1) AS count FROM clean_swecris WHERE Formas1 == '{ix}');\n",
    "        '''\n",
    "    result = np.array(fetchTrainingData(db_path, sqlCmd))\n",
    "    if (ix == 2):\n",
    "        training_data_Vinnova = np.copy(result)\n",
    "    elif (result.size > 0):\n",
    "        training_data_Vinnova = np.vstack((training_data_Vinnova, result))"
   ]
  },
  {
   "cell_type": "code",
   "execution_count": 6,
   "metadata": {},
   "outputs": [],
   "source": [
    "for ix in range(2,17):\n",
    "    sqlCmd = f'''\n",
    "        SELECT abstract, goals AS class FROM clean_goals\n",
    "            WHERE class == '{ix}';\n",
    "        '''\n",
    "    result = np.array(fetchTrainingData(db_path, sqlCmd))\n",
    "    if (ix == 2):\n",
    "        training_data_Goals = np.copy(result)\n",
    "    else:\n",
    "        training_data_Goals = np.vstack((training_data_Goals, result))"
   ]
  },
  {
   "cell_type": "code",
   "execution_count": 8,
   "metadata": {},
   "outputs": [],
   "source": [
    "training_data = np.vstack((training_data_Goals, training_data_Formas, training_data_Vinnova))"
   ]
  },
  {
   "cell_type": "code",
   "execution_count": 12,
   "metadata": {},
   "outputs": [],
   "source": [
    "import pandas as pd"
   ]
  },
  {
   "cell_type": "code",
   "execution_count": 13,
   "metadata": {},
   "outputs": [],
   "source": [
    "training_data_df = pd.DataFrame(data=training_data[:,:], columns=['abstract', 'class'])"
   ]
  },
  {
   "cell_type": "code",
   "execution_count": 14,
   "metadata": {},
   "outputs": [
    {
     "data": {
      "text/html": [
       "<div>\n",
       "<style scoped>\n",
       "    .dataframe tbody tr th:only-of-type {\n",
       "        vertical-align: middle;\n",
       "    }\n",
       "\n",
       "    .dataframe tbody tr th {\n",
       "        vertical-align: top;\n",
       "    }\n",
       "\n",
       "    .dataframe thead th {\n",
       "        text-align: right;\n",
       "    }\n",
       "</style>\n",
       "<table border=\"1\" class=\"dataframe\">\n",
       "  <thead>\n",
       "    <tr style=\"text-align: right;\">\n",
       "      <th></th>\n",
       "      <th>abstract</th>\n",
       "      <th>class</th>\n",
       "    </tr>\n",
       "  </thead>\n",
       "  <tbody>\n",
       "    <tr>\n",
       "      <th>0</th>\n",
       "      <td>ingen hung hung vara en främst dödsorsak i vär...</td>\n",
       "      <td>2</td>\n",
       "    </tr>\n",
       "    <tr>\n",
       "      <th>1</th>\n",
       "      <td>god hälsa och välbefinnande god hälsa vara en ...</td>\n",
       "      <td>3</td>\n",
       "    </tr>\n",
       "    <tr>\n",
       "      <th>2</th>\n",
       "      <td>god utbildning för alla utbildning vara en gru...</td>\n",
       "      <td>4</td>\n",
       "    </tr>\n",
       "    <tr>\n",
       "      <th>3</th>\n",
       "      <td>jämställdhet jämställdhet mellan kvinna och ma...</td>\n",
       "      <td>5</td>\n",
       "    </tr>\n",
       "    <tr>\n",
       "      <th>4</th>\n",
       "      <td>ren vatten och sanitet för alla vatten vara en...</td>\n",
       "      <td>6</td>\n",
       "    </tr>\n",
       "    <tr>\n",
       "      <th>...</th>\n",
       "      <td>...</td>\n",
       "      <td>...</td>\n",
       "    </tr>\n",
       "    <tr>\n",
       "      <th>2621</th>\n",
       "      <td>att under två år sända en forskare till inte...</td>\n",
       "      <td>17</td>\n",
       "    </tr>\n",
       "    <tr>\n",
       "      <th>2622</th>\n",
       "      <td>familj jurists webbverktyg underlätta för pr...</td>\n",
       "      <td>17</td>\n",
       "    </tr>\n",
       "    <tr>\n",
       "      <th>2623</th>\n",
       "      <td>ai förutspå ge stor möjlighet till en mycket...</td>\n",
       "      <td>17</td>\n",
       "    </tr>\n",
       "    <tr>\n",
       "      <th>2624</th>\n",
       "      <td>denna samla åtta svensk universitet och högs...</td>\n",
       "      <td>17</td>\n",
       "    </tr>\n",
       "    <tr>\n",
       "      <th>2625</th>\n",
       "      <td>prototyp av en ny system för en global antid...</td>\n",
       "      <td>17</td>\n",
       "    </tr>\n",
       "  </tbody>\n",
       "</table>\n",
       "<p>2626 rows × 2 columns</p>\n",
       "</div>"
      ],
      "text/plain": [
       "                                               abstract class\n",
       "0     ingen hung hung vara en främst dödsorsak i vär...     2\n",
       "1     god hälsa och välbefinnande god hälsa vara en ...     3\n",
       "2     god utbildning för alla utbildning vara en gru...     4\n",
       "3     jämställdhet jämställdhet mellan kvinna och ma...     5\n",
       "4     ren vatten och sanitet för alla vatten vara en...     6\n",
       "...                                                 ...   ...\n",
       "2621    att under två år sända en forskare till inte...    17\n",
       "2622    familj jurists webbverktyg underlätta för pr...    17\n",
       "2623    ai förutspå ge stor möjlighet till en mycket...    17\n",
       "2624    denna samla åtta svensk universitet och högs...    17\n",
       "2625    prototyp av en ny system för en global antid...    17\n",
       "\n",
       "[2626 rows x 2 columns]"
      ]
     },
     "execution_count": 14,
     "metadata": {},
     "output_type": "execute_result"
    }
   ],
   "source": [
    "training_data_df"
   ]
  },
  {
   "cell_type": "code",
   "execution_count": null,
   "metadata": {},
   "outputs": [],
   "source": []
  }
 ],
 "metadata": {
  "kernelspec": {
   "display_name": "Python 3",
   "language": "python",
   "name": "python3"
  },
  "language_info": {
   "codemirror_mode": {
    "name": "ipython",
    "version": 3
   },
   "file_extension": ".py",
   "mimetype": "text/x-python",
   "name": "python",
   "nbconvert_exporter": "python",
   "pygments_lexer": "ipython3",
   "version": "3.8.5"
  }
 },
 "nbformat": 4,
 "nbformat_minor": 4
}
