{
 "cells": [
  {
   "cell_type": "code",
   "execution_count": 1,
   "metadata": {},
   "outputs": [],
   "source": [
    "import stanza\n",
    "from spacy_stanza import StanzaLanguage\n",
    "from spacy import displacy"
   ]
  },
  {
   "cell_type": "code",
   "execution_count": 2,
   "metadata": {},
   "outputs": [
    {
     "name": "stderr",
     "output_type": "stream",
     "text": [
      "Downloading https://raw.githubusercontent.com/stanfordnlp/stanza-resources/master/resources_1.1.0.json: 122kB [00:00, 2.07MB/s]                    \n",
      "2020-11-22 13:46:48 INFO: Downloading default packages for language: sv (Swedish)...\n",
      "2020-11-22 13:46:49 INFO: File exists: /Users/nesko/stanza_resources/sv/default.zip.\n",
      "2020-11-22 13:46:58 INFO: Finished downloading models and saved to /Users/nesko/stanza_resources.\n"
     ]
    }
   ],
   "source": [
    "stanza.download('sv')"
   ]
  },
  {
   "cell_type": "code",
   "execution_count": 3,
   "metadata": {},
   "outputs": [
    {
     "name": "stderr",
     "output_type": "stream",
     "text": [
      "2020-11-22 13:46:58 INFO: Loading these models for language: sv (Swedish):\n",
      "=========================\n",
      "| Processor | Package   |\n",
      "-------------------------\n",
      "| tokenize  | talbanken |\n",
      "| pos       | talbanken |\n",
      "| lemma     | talbanken |\n",
      "| depparse  | talbanken |\n",
      "=========================\n",
      "\n",
      "2020-11-22 13:46:58 INFO: Use device: cpu\n",
      "2020-11-22 13:46:58 INFO: Loading: tokenize\n",
      "2020-11-22 13:46:58 INFO: Loading: pos\n",
      "2020-11-22 13:47:01 INFO: Loading: lemma\n",
      "2020-11-22 13:47:01 INFO: Loading: depparse\n",
      "2020-11-22 13:47:07 INFO: Done loading processors!\n"
     ]
    }
   ],
   "source": [
    "snlp = stanza.Pipeline(lang=\"sv\")\n",
    "nlp = StanzaLanguage(snlp)"
   ]
  },
  {
   "cell_type": "code",
   "execution_count": 17,
   "metadata": {},
   "outputs": [],
   "source": [
    "text = \"\"\"Zlatan Ibrahimović, född 3 oktober 1981 i Västra Skrävlinge församling i Malmö,\n",
    "är en svensk fotbollsspelare. Ibrahimović har tilldelats Guldbollen elva gånger och anses allmänt vara Sveriges bäste fotbollsspelare genom tiderna.\n",
    "Från 2001 till 2016 spelade han i svenska landslaget, där han med sina 62 mål är den främste målgöraren genom tiderna.\n",
    "Under sina 18 år som utlandsproffs har svensken vunnit ligan vid elva tillfällen med fem olika klubbar i fyra länder\n",
    "och blivit skyttekung i italienska Serie A två gånger och i franska Ligue 1 vid tre tillfällen.\n",
    "Ibrahimović är den ende som spelat för sju olika klubbar i Champions League, där han med sina 48 mål också intar en delad niondeplats i skytteligans maratontabell.\n",
    "Hans främsta internationella merit är segern i Europa League med Manchester United 2016/2017.\n",
    "Svenskens övergång från Inter till Barcelona 2009 var den spanska storklubbens dittills dyraste spelarköp (69 miljoner euro).\n",
    "2015 var Ibrahimović enligt tidskriften Forbes den 55:e bäst betalda kändisen i världen, med en årsinkomst på 39 miljoner dollar.\n",
    "I september 2018 gjorde Ibrahimović sitt 500:e mål och blev därmed en av 28 spelare i fotbollshistorien som gjort minst 500 mål (landslag och klubblag).\"\"\""
   ]
  },
  {
   "cell_type": "code",
   "execution_count": 18,
   "metadata": {},
   "outputs": [
    {
     "data": {
      "text/plain": [
       "'Zlatan Ibrahimović, född 3 oktober 1981 i Västra Skrävlinge församling i Malmö,\\när en svensk fotbollsspelare. Ibrahimović har tilldelats Guldbollen elva gånger och anses allmänt vara Sveriges bäste fotbollsspelare genom tiderna.\\nFrån 2001 till 2016 spelade han i svenska landslaget, där han med sina 62 mål är den främste målgöraren genom tiderna.\\nUnder sina 18 år som utlandsproffs har svensken vunnit ligan vid elva tillfällen med fem olika klubbar i fyra länder\\noch blivit skyttekung i italienska Serie A två gånger och i franska Ligue 1 vid tre tillfällen.\\nIbrahimović är den ende som spelat för sju olika klubbar i Champions League, där han med sina 48 mål också intar en delad niondeplats i skytteligans maratontabell.\\nHans främsta internationella merit är segern i Europa League med Manchester United 2016/2017.\\nSvenskens övergång från Inter till Barcelona 2009 var den spanska storklubbens dittills dyraste spelarköp (69 miljoner euro).\\n2015 var Ibrahimović enligt tidskriften Forbes den 55:e bäst betalda kändisen i världen, med en årsinkomst på 39 miljoner dollar.\\nI september 2018 gjorde Ibrahimović sitt 500:e mål och blev därmed en av 28 spelare i fotbollshistorien som gjort minst 500 mål (landslag och klubblag).'"
      ]
     },
     "execution_count": 18,
     "metadata": {},
     "output_type": "execute_result"
    }
   ],
   "source": [
    "text"
   ]
  },
  {
   "cell_type": "code",
   "execution_count": 15,
   "metadata": {},
   "outputs": [],
   "source": [
    "doc = nlp(text)"
   ]
  },
  {
   "cell_type": "code",
   "execution_count": 19,
   "metadata": {},
   "outputs": [
    {
     "name": "stdout",
     "output_type": "stream",
     "text": [
      "Zlatan klata NOUN nmod \n",
      "Ibrahimović Ibrahimović PROPN nsubj \n",
      ", , PUNCT punct \n",
      "född född ADJ acl \n",
      "3 3 NUM nummod \n",
      "oktober oktober NOUN obj \n",
      "1981 1981 NUM nummod \n",
      "i i ADP case \n",
      "Västra Västra ADJ amod \n",
      "Skrävlinge Skrävlinge PROPN nmod \n",
      "församling församling NOUN nmod \n",
      "i i ADP case \n",
      "Malmö Malmö PROPN nmod \n",
      ", , PUNCT punct \n",
      "är vara AUX cop \n",
      "en en DET det \n",
      "svensk svensk ADJ amod \n",
      "fotbollsspelare fotbollsspelare NOUN root \n",
      ". . PUNCT punct \n",
      "Ibrahimović Ibrahimović PROPN nsubj:pass \n",
      "har ha AUX aux \n",
      "tilldelats tilldela VERB root \n",
      "Guldbollen Guldbollen PROPN obj \n",
      "elva elva NUM nummod \n",
      "gånger gång NOUN obl \n",
      "och och CCONJ cc \n",
      "anses anse VERB conj \n",
      "allmänt allmän ADV advmod \n",
      "vara vara AUX cop \n",
      "Sveriges Sverige PROPN nmod:poss \n",
      "bäste bra ADJ amod \n",
      "fotbollsspelare fotbollsspelare NOUN xcomp \n",
      "genom genom ADP case \n",
      "tiderna tid NOUN obl \n",
      ". . PUNCT punct \n",
      "Från från ADP case \n",
      "2001 2001 NUM obl \n",
      "till till ADP case \n",
      "2016 2016 NUM nmod \n",
      "spelade spela VERB root \n",
      "han han PRON nsubj \n",
      "i i ADP case \n",
      "svenska svensk ADJ amod \n",
      "landslaget landslag NOUN obl \n",
      ", , PUNCT punct \n",
      "där där ADV advmod \n",
      "han han PRON nsubj \n",
      "med med ADP case \n",
      "sina sig PRON nmod:poss \n",
      "62 62 NUM nummod \n",
      "mål mål NOUN obl \n",
      "är vara AUX cop \n",
      "den en DET det \n",
      "främste främst ADJ amod \n",
      "målgöraren målgörare NOUN acl:relcl \n",
      "genom genom ADP case \n",
      "tiderna tid NOUN obl \n",
      ". . PUNCT punct \n",
      "Under under ADP case \n",
      "sina sig PRON nmod:poss \n",
      "18 18 NUM nummod \n",
      "år år NOUN obl \n",
      "som som SCONJ mark \n",
      "utlandsproffs utlandsproffs PROPN acl \n",
      "har ha AUX aux \n",
      "svensken svensk NOUN nsubj \n",
      "vunnit vinna VERB root \n",
      "ligan liga NOUN obj \n",
      "vid vid ADP case \n",
      "elva elva NUM nummod \n",
      "tillfällen tillfälle NOUN obl \n",
      "med med ADP case \n",
      "fem fem NUM nummod \n",
      "olika olik ADJ amod \n",
      "klubbar klubb NOUN nmod \n",
      "i i ADP case \n",
      "fyra fyra NUM nummod \n",
      "länder land NOUN nmod \n",
      "och och CCONJ cc \n",
      "blivit bli VERB conj \n",
      "skyttekung skyttekung NOUN xcomp \n",
      "i i ADP case \n",
      "italienska italiensk ADJ amod \n",
      "Serie serie NOUN obl \n",
      "A A ADP case \n",
      "två två NUM nummod \n",
      "gånger gång NOUN obl \n",
      "och och CCONJ cc \n",
      "i i ADP case \n",
      "franska fransk ADJ amod \n",
      "Ligue ligue NOUN obl \n",
      "1 1 NUM nummod \n",
      "vid vid ADP case \n",
      "tre tre NUM nummod \n",
      "tillfällen tillfälle NOUN obl \n",
      ". . PUNCT punct \n",
      "Ibrahimović Ibrahimović PROPN nsubj \n",
      "är vara AUX cop \n",
      "den en DET det \n",
      "ende ende ADJ root \n",
      "som som PRON nsubj \n",
      "spelat spela VERB acl:relcl \n",
      "för för ADP case \n",
      "sju sju NUM nummod \n",
      "olika olik ADJ amod \n",
      "klubbar klubb NOUN obl \n",
      "i i ADP case \n",
      "Champions Champion PROPN nmod \n",
      "League League PROPN obl \n",
      ", , PUNCT punct \n",
      "där där ADV advmod \n",
      "han han PRON nsubj \n",
      "med med ADP case \n",
      "sina sig PRON nmod:poss \n",
      "48 48 NUM nummod \n",
      "mål mål NOUN obl \n",
      "också också ADV advmod \n",
      "intar inta VERB acl:relcl \n",
      "en en DET det \n",
      "delad delad ADJ amod \n",
      "niondeplats niondeplats NOUN obj \n",
      "i i ADP case \n",
      "skytteligans skytteligans NOUN nmod:poss \n",
      "maratontabell maratontabell NOUN obl \n",
      ". . PUNCT punct \n",
      "Hans hans PRON nmod:poss \n",
      "främsta främst ADJ amod \n",
      "internationella internationell ADJ amod \n",
      "merit merit NOUN nsubj \n",
      "är vara AUX cop \n",
      "segern segern NOUN root \n",
      "i i ADP case \n",
      "Europa Europa PROPN nmod \n",
      "League League PROPN nmod \n",
      "med med ADP case \n",
      "Manchester Manchester PROPN nmod \n",
      "United United PROPN flat:name \n",
      "2016/2017 2016/2017 NUM nummod \n",
      ". . PUNCT punct \n",
      "Svenskens svenske NOUN nmod:poss \n",
      "övergång övergång NOUN nsubj \n",
      "från från ADP case \n",
      "Inter Inter PROPN nmod \n",
      "till till ADP case \n",
      "Barcelona Barcelona PROPN nmod \n",
      "2009 2009 NUM nmod \n",
      "var vara AUX cop \n",
      "den en DET det \n",
      "spanska spansk ADJ amod \n",
      "storklubbens storklubbens NOUN nmod:poss \n",
      "dittills dittills ADV advmod \n",
      "dyraste dyr ADJ amod \n",
      "spelarköp spelarköp NOUN root \n",
      "( ( PUNCT punct \n",
      "69 69 NUM nummod \n",
      "miljoner miljon NOUN nmod \n",
      "euro euro NOUN appos \n",
      ") ) PUNCT punct \n",
      ". . PUNCT punct \n",
      "2015 2015 NUM nsubj \n",
      "var vara AUX cop \n",
      "Ibrahimović Ibrahimović PROPN root \n",
      "enligt enligt ADP case \n",
      "tidskriften tidskrift NOUN nmod \n",
      "Forbes Forbes PROPN nmod \n",
      "den en DET det \n",
      "55:e 55:e ADJ amod \n",
      "bäst bra ADV advmod \n",
      "betalda betala ADJ amod \n",
      "kändisen kändis NOUN nmod \n",
      "i i ADP case \n",
      "världen värld NOUN nmod \n",
      ", , PUNCT punct \n",
      "med med ADP case \n",
      "en en DET det \n",
      "årsinkomst årsinkomst NOUN nmod \n",
      "på på ADP case \n",
      "39 39 NUM nummod \n",
      "miljoner miljon NOUN nmod \n",
      "dollar doll NOUN nmod \n",
      ". . PUNCT punct \n",
      "I i ADP case \n",
      "september september NOUN obl \n",
      "2018 2018 NUM nummod \n",
      "gjorde göra VERB root \n",
      "Ibrahimović Ibrahimović PROPN nsubj \n",
      "sitt sig PRON nmod:poss \n",
      "500:e 500:e ADJ amod \n",
      "mål mål NOUN obj \n",
      "och och CCONJ cc \n",
      "blev bli VERB conj \n",
      "därmed därmed ADV advmod \n",
      "en en DET nsubj \n",
      "av av ADP case \n",
      "28 28 NUM nummod \n",
      "spelare spelare NOUN nmod \n",
      "i i ADP case \n",
      "fotbollshistorien fotbollshistorium NOUN nmod \n",
      "som som PRON nsubj \n",
      "gjort göra VERB acl:relcl \n",
      "minst lite ADV advmod \n",
      "500 500 NUM nummod \n",
      "mål mål NOUN obj \n",
      "( ( PUNCT punct \n",
      "landslag landslag NOUN appos \n",
      "och och CCONJ cc \n",
      "klubblag klubblag NOUN conj \n",
      ") ) PUNCT punct \n",
      ". . PUNCT punct \n"
     ]
    }
   ],
   "source": [
    "for token in doc:\n",
    "    print(token.text, token.lemma_, token.pos_, token.dep_, token.ent_type_)"
   ]
  },
  {
   "cell_type": "code",
   "execution_count": 20,
   "metadata": {},
   "outputs": [
    {
     "name": "stdout",
     "output_type": "stream",
     "text": [
      "()\n"
     ]
    }
   ],
   "source": [
    "print(doc.ents)"
   ]
  },
  {
   "cell_type": "code",
   "execution_count": null,
   "metadata": {},
   "outputs": [],
   "source": [
    "displacy.render(doc, style=\"ent\")"
   ]
  },
  {
   "cell_type": "code",
   "execution_count": 7,
   "metadata": {},
   "outputs": [],
   "source": [
    "from pytextrank import TextRank"
   ]
  },
  {
   "cell_type": "code",
   "execution_count": 8,
   "metadata": {},
   "outputs": [],
   "source": [
    "tr = TextRank()"
   ]
  },
  {
   "cell_type": "code",
   "execution_count": 9,
   "metadata": {},
   "outputs": [],
   "source": [
    "nlp.add_pipe(tr.PipelineComponent, name=\"textrank\", last=True)  # add PyTextRank to the spaCy pipeline\n",
    "doc = nlp(text)"
   ]
  },
  {
   "cell_type": "code",
   "execution_count": 10,
   "metadata": {},
   "outputs": [
    {
     "name": "stdout",
     "output_type": "stream",
     "text": [
      "Zlatan Ibrahimović, född 3 oktober 1981 i Västra Skrävlinge församling i Malmö, är en svensk fotbollsspelare. Ibrahimović har tilldelats Guldbollen elva gånger och anses allmänt vara Sveriges bäste fotbollsspelare genom tiderna. Från 2001 till 2016 spelade han i svenska landslaget, där han med sina 62 mål är den främste målgöraren genom tiderna. Under sina 18 år som utlandsproffs har svensken vunnit ligan vid elva tillfällen med fem olika klubbar i fyra länder och blivit skyttekung i italienska Serie A två gånger och i franska Ligue 1 vid tre tillfällen. Ibrahimović är den ende som spelat för sju olika klubbar i Champions League, där han med sina 48 mål också intar en delad niondeplats i skytteligans maratontabell. Hans främsta internationella merit är segern i Europa League med Manchester United 2016/2017. Svenskens övergång från Inter till Barcelona 2009 var den spanska storklubbens dittills dyraste spelarköp (69 miljoner euro). 2015 var Ibrahimović enligt tidskriften Forbes den 55:e bäst betalda kändisen i världen, med en årsinkomst på 39 miljoner dollar. I september 2018 gjorde Ibrahimović sitt 500:e mål och blev därmed en av 28 spelare i fotbollshistorien som gjort minst 500 mål (landslag och klubblag).\n"
     ]
    }
   ],
   "source": [
    "print(doc)"
   ]
  },
  {
   "cell_type": "code",
   "execution_count": 11,
   "metadata": {},
   "outputs": [
    {
     "name": "stderr",
     "output_type": "stream",
     "text": [
      "/Users/nesko/opt/anaconda3/lib/python3.8/site-packages/spacy/displacy/__init__.py:189: UserWarning: [W006] No entities to visualize found in Doc object. If this is surprising to you, make sure the Doc was processed using a model that supports named entity recognition, and check the `doc.ents` property manually if necessary.\n",
      "  warnings.warn(Warnings.W006)\n"
     ]
    },
    {
     "data": {
      "text/html": [
       "<span class=\"tex2jax_ignore\"><div class=\"entities\" style=\"line-height: 2.5; direction: ltr\">Zlatan Ibrahimović, född 3 oktober 1981 i Västra Skrävlinge församling i Malmö, är en svensk fotbollsspelare. Ibrahimović har tilldelats Guldbollen elva gånger och anses allmänt vara Sveriges bäste fotbollsspelare genom tiderna. Från 2001 till 2016 spelade han i svenska landslaget, där han med sina 62 mål är den främste målgöraren genom tiderna. Under sina 18 år som utlandsproffs har svensken vunnit ligan vid elva tillfällen med fem olika klubbar i fyra länder och blivit skyttekung i italienska Serie A två gånger och i franska Ligue 1 vid tre tillfällen. Ibrahimović är den ende som spelat för sju olika klubbar i Champions League, där han med sina 48 mål också intar en delad niondeplats i skytteligans maratontabell. Hans främsta internationella merit är segern i Europa League med Manchester United 2016/2017. Svenskens övergång från Inter till Barcelona 2009 var den spanska storklubbens dittills dyraste spelarköp (69 miljoner euro). 2015 var Ibrahimović enligt tidskriften Forbes den 55:e bäst betalda kändisen i världen, med en årsinkomst på 39 miljoner dollar. I september 2018 gjorde Ibrahimović sitt 500:e mål och blev därmed en av 28 spelare i fotbollshistorien som gjort minst 500 mål (landslag och klubblag).</div></span>"
      ],
      "text/plain": [
       "<IPython.core.display.HTML object>"
      ]
     },
     "metadata": {},
     "output_type": "display_data"
    }
   ],
   "source": [
    "displacy.render(doc, style=\"ent\")"
   ]
  },
  {
   "cell_type": "code",
   "execution_count": null,
   "metadata": {},
   "outputs": [],
   "source": []
  }
 ],
 "metadata": {
  "kernelspec": {
   "display_name": "Python 3",
   "language": "python",
   "name": "python3"
  },
  "language_info": {
   "codemirror_mode": {
    "name": "ipython",
    "version": 3
   },
   "file_extension": ".py",
   "mimetype": "text/x-python",
   "name": "python",
   "nbconvert_exporter": "python",
   "pygments_lexer": "ipython3",
   "version": "3.8.3"
  }
 },
 "nbformat": 4,
 "nbformat_minor": 4
}
