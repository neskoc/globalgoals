{
 "cells": [
  {
   "cell_type": "code",
   "execution_count": 3,
   "metadata": {},
   "outputs": [],
   "source": [
    "import torch\n",
    "import torch.nn as nn\n",
    "import numpy as np\n",
    "from torchtext.data import Dataset, Example, Field\n",
    "from torchtext.data import Iterator, BucketIterator"
   ]
  },
  {
   "cell_type": "code",
   "execution_count": 10,
   "metadata": {},
   "outputs": [],
   "source": [
    "def generate_art_data(nr_classes=3):\n",
    "    \"\"\" Generate random sentences from random words along with random target.\n",
    "    \"\"\"\n",
    "    for i in range(N):\n",
    "        rand_sent = np.random.choice(words, random_sent_lengths[i])\n",
    "        rand_y = np.random.randint(0,2,nr_classes)\n",
    "        yield (\" \".join(rand_sent), rand_y)"
   ]
  },
  {
   "cell_type": "code",
   "execution_count": 11,
   "metadata": {},
   "outputs": [],
   "source": [
    "def create_datasets(nr_classes):\n",
    "    \"\"\" Create torchtext.data.Dataset from generated random data\n",
    "    \"\"\"\n",
    "    data = generate_art_data(nr_classes)\n",
    "    \n",
    "    TEXT  = Field(sequential=True, tokenize=lambda x: x.split(), use_vocab=True, lower=True)\n",
    "    \n",
    "    LABEL = Field(sequential=False, use_vocab=False)\n",
    "\n",
    "    trn_fields = [('text', TEXT), ('category', LABEL)]\n",
    "    examples = list(\n",
    "        map(lambda x: Example.fromlist(list(x), fields=trn_fields), \n",
    "        data))\n",
    "    TEXT.build_vocab(data)\n",
    "    dt_train = Dataset(examples, fields=trn_fields)\n",
    "    trn, vld = dt_train.split(split_ratio=0.7)\n",
    "    return (trn, vld, TEXT)"
   ]
  },
  {
   "cell_type": "code",
   "execution_count": 12,
   "metadata": {},
   "outputs": [],
   "source": [
    "def create_iterators(num_of_batches=4, nr_classes=3):\n",
    "    \"\"\" Create BucketIterator iterators from generated torchtext.data.Dataset s\n",
    "    \"\"\"\n",
    "    trn, vld, T = create_datasets(nr_classes)\n",
    "    print()\n",
    "    print(\"Generated string: \", trn[0].text)\n",
    "    print(\"Length = \", len(trn[0].text))\n",
    "    \n",
    "    #train_iter, val_iter = BucketIterator.splits((trn, vld), batch_sizes=batch_sizes, sort_key=lambda x: len(x.text), sort_within_batch=False, repeat=False)\n",
    "\n",
    "    train_iter = Iterator(trn, batch_size=num_of_batches, sort_key=lambda x: len(x.text))\n",
    "    val_iter = Iterator(vld, batch_size=num_of_batches, sort_key=lambda x: len(x.text))\n",
    "\n",
    "    return train_iter, val_iter, T"
   ]
  },
  {
   "cell_type": "code",
   "execution_count": 13,
   "metadata": {},
   "outputs": [],
   "source": [
    "N = 100 # Number of random sentences to generate\n",
    "words = ['world', 'hello', 'country', 'moon', 'planet', 'earth']\n",
    "random_sent_lengths=np.random.randint(1, 10, N)"
   ]
  },
  {
   "cell_type": "code",
   "execution_count": 18,
   "metadata": {},
   "outputs": [
    {
     "data": {
      "text/plain": [
       "array([5, 4, 5, 9, 8, 8, 3, 8, 7, 9, 6, 2, 1, 1, 7, 9, 9, 9, 1, 3, 6, 4,\n",
       "       9, 6, 9, 1, 5, 2, 8, 9, 4, 7, 7, 1, 2, 6, 6, 3, 9, 9, 7, 7, 6, 4,\n",
       "       4, 9, 6, 5, 1, 1, 8, 4, 9, 4, 9, 8, 5, 4, 5, 9, 5, 3, 3, 6, 9, 2,\n",
       "       3, 2, 4, 7, 2, 9, 9, 3, 3, 9, 1, 9, 3, 8, 5, 1, 2, 9, 3, 1, 3, 4,\n",
       "       1, 7, 3, 5, 7, 9, 9, 7, 8, 9, 7, 7])"
      ]
     },
     "execution_count": 18,
     "metadata": {},
     "output_type": "execute_result"
    }
   ],
   "source": [
    "random_sent_lengths"
   ]
  },
  {
   "cell_type": "code",
   "execution_count": 20,
   "metadata": {},
   "outputs": [
    {
     "name": "stdout",
     "output_type": "stream",
     "text": [
      "\n",
      "Generated string:  ['country']\n",
      "Length =  1\n"
     ]
    }
   ],
   "source": [
    "train_iter, val_iter, T = create_iterators(num_of_batches=10, nr_classes=5)"
   ]
  },
  {
   "cell_type": "code",
   "execution_count": 17,
   "metadata": {},
   "outputs": [
    {
     "name": "stdout",
     "output_type": "stream",
     "text": [
      "\n",
      "torch.Size([9, 10]) torch.Size([10, 5])\n"
     ]
    }
   ],
   "source": [
    "for i, batch in enumerate(train_iter):\n",
    "    if i == 0:\n",
    "        print()\n",
    "        print(batch.text.size(), batch.category.size())\n",
    "        #print(batch.text)\n",
    "        #print(batch.category)"
   ]
  },
  {
   "cell_type": "code",
   "execution_count": null,
   "metadata": {},
   "outputs": [],
   "source": []
  }
 ],
 "metadata": {
  "kernelspec": {
   "display_name": "Python 3",
   "language": "python",
   "name": "python3"
  },
  "language_info": {
   "codemirror_mode": {
    "name": "ipython",
    "version": 3
   },
   "file_extension": ".py",
   "mimetype": "text/x-python",
   "name": "python",
   "nbconvert_exporter": "python",
   "pygments_lexer": "ipython3",
   "version": "3.8.5"
  }
 },
 "nbformat": 4,
 "nbformat_minor": 4
}
