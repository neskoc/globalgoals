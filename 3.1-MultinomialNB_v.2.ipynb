{
 "cells": [
  {
   "cell_type": "code",
   "execution_count": 1,
   "metadata": {},
   "outputs": [],
   "source": [
    "import pandas as pd\n",
    "import pprint as pp"
   ]
  },
  {
   "cell_type": "code",
   "execution_count": 2,
   "metadata": {},
   "outputs": [],
   "source": [
    "from inc import stop_words as sw\n",
    "from inc import extra_stopwords as esw"
   ]
  },
  {
   "cell_type": "code",
   "execution_count": 3,
   "metadata": {},
   "outputs": [],
   "source": [
    "import numpy as np\n",
    "import matplotlib.pyplot as plt\n",
    "import seaborn as sns; sns.set()"
   ]
  },
  {
   "cell_type": "code",
   "execution_count": 4,
   "metadata": {},
   "outputs": [],
   "source": [
    "import torch\n",
    "import torch.nn.functional as F\n",
    "import torch.nn as nn\n",
    "import torch.optim as optim\n",
    "from torch.utils.data import DataLoader, Dataset\n",
    "from sklearn.feature_extraction.text import CountVectorizer\n",
    "from sklearn.feature_extraction.text import TfidfVectorizer\n",
    "from sklearn.naive_bayes import MultinomialNB\n",
    "from sklearn.pipeline import make_pipeline"
   ]
  },
  {
   "cell_type": "code",
   "execution_count": 5,
   "metadata": {},
   "outputs": [
    {
     "data": {
      "text/plain": [
       "device(type='cuda')"
      ]
     },
     "execution_count": 5,
     "metadata": {},
     "output_type": "execute_result"
    }
   ],
   "source": [
    "device = torch.device('cuda' if torch.cuda.is_available() else 'cpu')\n",
    "device"
   ]
  },
  {
   "cell_type": "code",
   "execution_count": 6,
   "metadata": {},
   "outputs": [],
   "source": [
    "model = make_pipeline(TfidfVectorizer(), MultinomialNB())"
   ]
  },
  {
   "cell_type": "code",
   "execution_count": 9,
   "metadata": {},
   "outputs": [],
   "source": [
    "from sqlalchemy import create_engine\n",
    "table_name = 'Data_set'\n",
    "db_path = 'db/training.sqlite'\n",
    "db_path = 'sqlite:///' + db_path\n",
    "engine = create_engine(db_path, echo=True)"
   ]
  },
  {
   "cell_type": "code",
   "execution_count": 10,
   "metadata": {},
   "outputs": [
    {
     "name": "stdout",
     "output_type": "stream",
     "text": [
      "2020-12-16 15:59:27,328 INFO sqlalchemy.engine.base.Engine SELECT CAST('test plain returns' AS VARCHAR(60)) AS anon_1\n",
      "2020-12-16 15:59:27,329 INFO sqlalchemy.engine.base.Engine ()\n",
      "2020-12-16 15:59:27,330 INFO sqlalchemy.engine.base.Engine SELECT CAST('test unicode returns' AS VARCHAR(60)) AS anon_1\n",
      "2020-12-16 15:59:27,331 INFO sqlalchemy.engine.base.Engine ()\n",
      "2020-12-16 15:59:27,332 INFO sqlalchemy.engine.base.Engine SELECT name FROM sqlite_master WHERE type='table' ORDER BY name\n",
      "2020-12-16 15:59:27,332 INFO sqlalchemy.engine.base.Engine ()\n",
      "2020-12-16 15:59:27,334 INFO sqlalchemy.engine.base.Engine SELECT name FROM sqlite_master WHERE type='view' ORDER BY name\n",
      "2020-12-16 15:59:27,335 INFO sqlalchemy.engine.base.Engine ()\n",
      "2020-12-16 15:59:27,336 INFO sqlalchemy.engine.base.Engine PRAGMA main.table_xinfo(\"Data_set\")\n",
      "2020-12-16 15:59:27,337 INFO sqlalchemy.engine.base.Engine ()\n",
      "2020-12-16 15:59:27,339 INFO sqlalchemy.engine.base.Engine SELECT sql FROM  (SELECT * FROM sqlite_master UNION ALL   SELECT * FROM sqlite_temp_master) WHERE name = ? AND type = 'table'\n",
      "2020-12-16 15:59:27,340 INFO sqlalchemy.engine.base.Engine ('Data_set',)\n",
      "2020-12-16 15:59:27,342 INFO sqlalchemy.engine.base.Engine PRAGMA main.foreign_key_list(\"Data_set\")\n",
      "2020-12-16 15:59:27,343 INFO sqlalchemy.engine.base.Engine ()\n",
      "2020-12-16 15:59:27,344 INFO sqlalchemy.engine.base.Engine PRAGMA temp.foreign_key_list(\"Data_set\")\n",
      "2020-12-16 15:59:27,345 INFO sqlalchemy.engine.base.Engine ()\n",
      "2020-12-16 15:59:27,346 INFO sqlalchemy.engine.base.Engine SELECT sql FROM  (SELECT * FROM sqlite_master UNION ALL   SELECT * FROM sqlite_temp_master) WHERE name = ? AND type = 'table'\n",
      "2020-12-16 15:59:27,347 INFO sqlalchemy.engine.base.Engine ('Data_set',)\n",
      "2020-12-16 15:59:27,350 INFO sqlalchemy.engine.base.Engine PRAGMA main.index_list(\"Data_set\")\n",
      "2020-12-16 15:59:27,351 INFO sqlalchemy.engine.base.Engine ()\n",
      "2020-12-16 15:59:27,352 INFO sqlalchemy.engine.base.Engine PRAGMA main.index_info(\"ix_Data_set_index\")\n",
      "2020-12-16 15:59:27,353 INFO sqlalchemy.engine.base.Engine ()\n",
      "2020-12-16 15:59:27,355 INFO sqlalchemy.engine.base.Engine PRAGMA main.index_list(\"Data_set\")\n",
      "2020-12-16 15:59:27,355 INFO sqlalchemy.engine.base.Engine ()\n",
      "2020-12-16 15:59:27,357 INFO sqlalchemy.engine.base.Engine PRAGMA main.index_info(\"ix_Data_set_index\")\n",
      "2020-12-16 15:59:27,357 INFO sqlalchemy.engine.base.Engine ()\n",
      "2020-12-16 15:59:27,359 INFO sqlalchemy.engine.base.Engine SELECT sql FROM  (SELECT * FROM sqlite_master UNION ALL   SELECT * FROM sqlite_temp_master) WHERE name = ? AND type = 'table'\n",
      "2020-12-16 15:59:27,359 INFO sqlalchemy.engine.base.Engine ('Data_set',)\n",
      "2020-12-16 15:59:27,366 INFO sqlalchemy.engine.base.OptionEngine SELECT \"Data_set\".\"index\", \"Data_set\".abstract, \"Data_set\".class, \"Data_set\".len \n",
      "FROM \"Data_set\"\n",
      "2020-12-16 15:59:27,367 INFO sqlalchemy.engine.base.OptionEngine ()\n"
     ]
    }
   ],
   "source": [
    "df = pd.read_sql_table(table_name, engine)"
   ]
  },
  {
   "cell_type": "code",
   "execution_count": 11,
   "metadata": {},
   "outputs": [],
   "source": [
    "df = df.rename(columns={\"class\": \"label\"})"
   ]
  },
  {
   "cell_type": "code",
   "execution_count": 12,
   "metadata": {},
   "outputs": [],
   "source": [
    "df = df.sample(frac=1).reset_index(drop=True) # randomize"
   ]
  },
  {
   "cell_type": "code",
   "execution_count": 49,
   "metadata": {},
   "outputs": [],
   "source": [
    "train = df.sample(frac=0.75,random_state=100) #random state is a seed value\n",
    "test = df.drop(train.index)"
   ]
  },
  {
   "cell_type": "code",
   "execution_count": 50,
   "metadata": {},
   "outputs": [
    {
     "data": {
      "text/plain": [
       "Pipeline(steps=[('tfidfvectorizer', TfidfVectorizer()),\n",
       "                ('multinomialnb', MultinomialNB())])"
      ]
     },
     "execution_count": 50,
     "metadata": {},
     "output_type": "execute_result"
    }
   ],
   "source": [
    "model.fit(train.abstract, train.label)"
   ]
  },
  {
   "cell_type": "code",
   "execution_count": 51,
   "metadata": {},
   "outputs": [],
   "source": [
    "labels = model.predict(test.abstract)"
   ]
  },
  {
   "cell_type": "code",
   "execution_count": 52,
   "metadata": {},
   "outputs": [
    {
     "name": "stdout",
     "output_type": "stream",
     "text": [
      "array(['2', '12', '2', '15', '2', '15', '2', '15', '12', '2', '15', '15',\n",
      "       '2', '12', '12', '15', '15', '2', '12', '2', '12', '12', '2', '15',\n",
      "       '2', '15', '2', '12', '2', '12', '2', '12', '2', '12', '2', '15',\n",
      "       '2', '15', '15', '12', '2', '2', '2', '2', '2', '2', '12', '2',\n",
      "       '15', '2', '12', '15', '2', '12', '12', '2', '2', '2', '2', '2',\n",
      "       '15', '2', '12', '15', '2', '2', '2', '15', '15', '2', '12', '2',\n",
      "       '2', '15', '15', '2', '15', '12', '15', '15', '15', '15', '2',\n",
      "       '15', '2', '15', '15', '15', '12', '2', '15', '15', '15', '12',\n",
      "       '15', '15', '12', '15', '2', '15', '2', '2', '15', '2', '12', '2',\n",
      "       '15', '2', '15', '15', '12', '2', '15', '12', '15', '2', '2', '2',\n",
      "       '12', '2', '2', '15', '2', '12', '2', '2', '2', '15', '15', '12',\n",
      "       '2', '2', '12', '2', '15', '15', '15', '2', '12', '2', '12', '12',\n",
      "       '12', '2', '15', '2', '15', '15', '12', '2', '15', '2', '2', '2',\n",
      "       '2', '15', '15', '12', '2', '15', '12', '12', '2', '2', '12', '2',\n",
      "       '12', '15', '2', '12', '15', '15', '2', '2', '15', '2', '15', '15',\n",
      "       '12', '12', '15', '15', '15', '15', '15', '2', '15', '15'],\n",
      "      dtype='<U2')\n"
     ]
    }
   ],
   "source": [
    "pp.pprint(labels)"
   ]
  },
  {
   "cell_type": "code",
   "execution_count": 53,
   "metadata": {},
   "outputs": [
    {
     "data": {
      "text/plain": [
       "0       3\n",
       "2       9\n",
       "4       3\n",
       "11     14\n",
       "13      2\n",
       "       ..\n",
       "735    15\n",
       "738    13\n",
       "745     2\n",
       "749    14\n",
       "750     6\n",
       "Name: label, Length: 188, dtype: object"
      ]
     },
     "execution_count": 53,
     "metadata": {},
     "output_type": "execute_result"
    }
   ],
   "source": [
    "test.label"
   ]
  },
  {
   "cell_type": "code",
   "execution_count": 54,
   "metadata": {},
   "outputs": [],
   "source": [
    "from sklearn.metrics import confusion_matrix\n",
    "mat = confusion_matrix(test.label, labels)"
   ]
  },
  {
   "cell_type": "code",
   "execution_count": 55,
   "metadata": {},
   "outputs": [
    {
     "name": "stdout",
     "output_type": "stream",
     "text": [
      "array([[ 0,  0,  0,  0,  0,  1,  0,  0,  1,  0,  0,  0,  0,  0,  0],\n",
      "       [ 0,  0,  9,  0,  0,  7,  0,  0, 10,  0,  0,  0,  0,  0,  0],\n",
      "       [ 0,  0, 19,  0,  0,  2,  0,  0,  5,  0,  0,  0,  0,  0,  0],\n",
      "       [ 0,  0,  1,  0,  0,  9,  0,  0,  3,  0,  0,  0,  0,  0,  0],\n",
      "       [ 0,  0,  0,  0,  0,  8,  0,  0,  1,  0,  0,  0,  0,  0,  0],\n",
      "       [ 0,  0,  0,  0,  0, 27,  0,  0,  0,  0,  0,  0,  0,  0,  0],\n",
      "       [ 0,  0,  0,  0,  0,  0,  0,  0,  1,  0,  0,  0,  0,  0,  0],\n",
      "       [ 0,  0,  0,  0,  0,  1,  0,  0,  0,  0,  0,  0,  0,  0,  0],\n",
      "       [ 0,  0,  1,  0,  0,  2,  0,  0, 35,  0,  0,  0,  0,  0,  0],\n",
      "       [ 0,  0,  0,  0,  0,  2,  0,  0, 11,  0,  0,  0,  0,  0,  0],\n",
      "       [ 0,  0,  0,  0,  0,  1,  0,  0,  1,  0,  0,  0,  0,  0,  0],\n",
      "       [ 0,  0,  2,  0,  0,  6,  0,  0,  5,  0,  0,  0,  0,  0,  0],\n",
      "       [ 0,  0,  2,  0,  0,  0,  0,  0,  5,  0,  0,  0,  0,  0,  0],\n",
      "       [ 0,  0,  2,  0,  0,  1,  0,  0,  0,  0,  0,  0,  0,  0,  0],\n",
      "       [ 0,  0,  6,  0,  0,  1,  0,  0,  0,  0,  0,  0,  0,  0,  0]])\n"
     ]
    }
   ],
   "source": [
    "pp.pprint(mat)"
   ]
  },
  {
   "cell_type": "code",
   "execution_count": 56,
   "metadata": {},
   "outputs": [
    {
     "data": {
      "image/png": "[encoded data removed]",
      "text/plain": [
       "<Figure size 720x720 with 1 Axes>"
      ]
     },
     "metadata": {},
     "output_type": "display_data"
    }
   ],
   "source": [
    "sns.set(style=\"white\", color_codes=True)\n",
    "plt.subplots(figsize=(10,10))\n",
    "sns.heatmap(mat.T, square=True, annot=True, fmt='d', cbar=False,\n",
    "            xticklabels=train.label.unique(), yticklabels=train.label.unique(),cmap=\"YlGnBu\")\n",
    "\n",
    "plt.xlabel('true label')\n",
    "plt.ylabel('predicted label');"
   ]
  },
  {
   "cell_type": "code",
   "execution_count": 58,
   "metadata": {},
   "outputs": [
    {
     "data": {
      "image/png": "[encoded data removed]",
      "text/plain": [
       "<Figure size 720x720 with 1 Axes>"
      ]
     },
     "metadata": {},
     "output_type": "display_data"
    }
   ],
   "source": [
    "plt.subplots(figsize=(10,10))\n",
    "sns.heatmap(mat.T, square=True, annot=True, fmt='d', cbar=False,\n",
    "            xticklabels=train.label.unique(), yticklabels=train.label.unique(),cmap=\"Blues\")\n",
    "\n",
    "plt.xlabel('true label')\n",
    "plt.ylabel('predicted label');"
   ]
  }
 ],
 "metadata": {
  "kernelspec": {
   "display_name": "Python 3",
   "language": "python",
   "name": "python3"
  },
  "language_info": {
   "codemirror_mode": {
    "name": "ipython",
    "version": 3
   },
   "file_extension": ".py",
   "mimetype": "text/x-python",
   "name": "python",
   "nbconvert_exporter": "python",
   "pygments_lexer": "ipython3",
   "version": "3.8.5"
  }
 },
 "nbformat": 4,
 "nbformat_minor": 4
}
