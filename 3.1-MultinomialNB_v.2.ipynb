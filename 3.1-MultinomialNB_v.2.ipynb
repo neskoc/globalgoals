{
 "cells": [
  {
   "cell_type": "code",
   "execution_count": 1,
   "metadata": {},
   "outputs": [],
   "source": [
    "import pandas as pd\n",
    "import pprint as pp"
   ]
  },
  {
   "cell_type": "code",
   "execution_count": 2,
   "metadata": {},
   "outputs": [],
   "source": [
    "from inc import stop_words as sw\n",
    "from inc import extra_stopwords as esw"
   ]
  },
  {
   "cell_type": "code",
   "execution_count": 3,
   "metadata": {},
   "outputs": [],
   "source": [
    "import numpy as np\n",
    "import matplotlib.pyplot as plt\n",
    "import seaborn as sns; sns.set()"
   ]
  },
  {
   "cell_type": "code",
   "execution_count": 4,
   "metadata": {},
   "outputs": [],
   "source": [
    "import torch\n",
    "import torch.nn.functional as F\n",
    "import torch.nn as nn\n",
    "import torch.optim as optim\n",
    "from torch.utils.data import DataLoader, Dataset\n",
    "from sklearn.feature_extraction.text import CountVectorizer\n",
    "from sklearn.feature_extraction.text import TfidfVectorizer\n",
    "from sklearn.naive_bayes import MultinomialNB\n",
    "from sklearn.pipeline import make_pipeline"
   ]
  },
  {
   "cell_type": "code",
   "execution_count": 5,
   "metadata": {},
   "outputs": [
    {
     "data": {
      "text/plain": [
       "device(type='cuda')"
      ]
     },
     "execution_count": 5,
     "metadata": {},
     "output_type": "execute_result"
    }
   ],
   "source": [
    "device = torch.device('cuda' if torch.cuda.is_available() else 'cpu')\n",
    "device"
   ]
  },
  {
   "cell_type": "code",
   "execution_count": 6,
   "metadata": {},
   "outputs": [],
   "source": [
    "from inc import stop_words as sw\n",
    "from inc import extra_stopwords as esw\n",
    "sw.STOP_WORDS = sw.STOP_WORDS.union(esw.common_stopwords)\n",
    "sw.STOP_WORDS = sw.STOP_WORDS.union(esw.extra_stopwords)"
   ]
  },
  {
   "cell_type": "code",
   "execution_count": 7,
   "metadata": {},
   "outputs": [],
   "source": [
    "model = make_pipeline(TfidfVectorizer(), MultinomialNB())"
   ]
  },
  {
   "cell_type": "code",
   "execution_count": 8,
   "metadata": {},
   "outputs": [],
   "source": [
    "from sqlalchemy import create_engine\n",
    "table_name = 'Data_set'\n",
    "db_path = 'db/training.sqlite'\n",
    "db_path = 'sqlite:///' + db_path\n",
    "engine = create_engine(db_path, echo=True)"
   ]
  },
  {
   "cell_type": "code",
   "execution_count": 9,
   "metadata": {},
   "outputs": [
    {
     "name": "stdout",
     "output_type": "stream",
     "text": [
      "2020-12-17 01:41:30,451 INFO sqlalchemy.engine.base.Engine SELECT CAST('test plain returns' AS VARCHAR(60)) AS anon_1\n",
      "2020-12-17 01:41:30,452 INFO sqlalchemy.engine.base.Engine ()\n",
      "2020-12-17 01:41:30,453 INFO sqlalchemy.engine.base.Engine SELECT CAST('test unicode returns' AS VARCHAR(60)) AS anon_1\n",
      "2020-12-17 01:41:30,454 INFO sqlalchemy.engine.base.Engine ()\n",
      "2020-12-17 01:41:30,455 INFO sqlalchemy.engine.base.Engine SELECT name FROM sqlite_master WHERE type='table' ORDER BY name\n",
      "2020-12-17 01:41:30,456 INFO sqlalchemy.engine.base.Engine ()\n",
      "2020-12-17 01:41:30,458 INFO sqlalchemy.engine.base.Engine SELECT name FROM sqlite_master WHERE type='view' ORDER BY name\n",
      "2020-12-17 01:41:30,458 INFO sqlalchemy.engine.base.Engine ()\n",
      "2020-12-17 01:41:30,461 INFO sqlalchemy.engine.base.Engine PRAGMA main.table_xinfo(\"Data_set\")\n",
      "2020-12-17 01:41:30,462 INFO sqlalchemy.engine.base.Engine ()\n",
      "2020-12-17 01:41:30,465 INFO sqlalchemy.engine.base.Engine SELECT sql FROM  (SELECT * FROM sqlite_master UNION ALL   SELECT * FROM sqlite_temp_master) WHERE name = ? AND type = 'table'\n",
      "2020-12-17 01:41:30,465 INFO sqlalchemy.engine.base.Engine ('Data_set',)\n",
      "2020-12-17 01:41:30,467 INFO sqlalchemy.engine.base.Engine PRAGMA main.foreign_key_list(\"Data_set\")\n",
      "2020-12-17 01:41:30,468 INFO sqlalchemy.engine.base.Engine ()\n",
      "2020-12-17 01:41:30,469 INFO sqlalchemy.engine.base.Engine PRAGMA temp.foreign_key_list(\"Data_set\")\n",
      "2020-12-17 01:41:30,469 INFO sqlalchemy.engine.base.Engine ()\n",
      "2020-12-17 01:41:30,471 INFO sqlalchemy.engine.base.Engine SELECT sql FROM  (SELECT * FROM sqlite_master UNION ALL   SELECT * FROM sqlite_temp_master) WHERE name = ? AND type = 'table'\n",
      "2020-12-17 01:41:30,472 INFO sqlalchemy.engine.base.Engine ('Data_set',)\n",
      "2020-12-17 01:41:30,475 INFO sqlalchemy.engine.base.Engine PRAGMA main.index_list(\"Data_set\")\n",
      "2020-12-17 01:41:30,476 INFO sqlalchemy.engine.base.Engine ()\n",
      "2020-12-17 01:41:30,477 INFO sqlalchemy.engine.base.Engine PRAGMA main.index_info(\"ix_Data_set_index\")\n",
      "2020-12-17 01:41:30,478 INFO sqlalchemy.engine.base.Engine ()\n",
      "2020-12-17 01:41:30,479 INFO sqlalchemy.engine.base.Engine PRAGMA main.index_list(\"Data_set\")\n",
      "2020-12-17 01:41:30,480 INFO sqlalchemy.engine.base.Engine ()\n",
      "2020-12-17 01:41:30,481 INFO sqlalchemy.engine.base.Engine PRAGMA main.index_info(\"ix_Data_set_index\")\n",
      "2020-12-17 01:41:30,481 INFO sqlalchemy.engine.base.Engine ()\n",
      "2020-12-17 01:41:30,483 INFO sqlalchemy.engine.base.Engine SELECT sql FROM  (SELECT * FROM sqlite_master UNION ALL   SELECT * FROM sqlite_temp_master) WHERE name = ? AND type = 'table'\n",
      "2020-12-17 01:41:30,483 INFO sqlalchemy.engine.base.Engine ('Data_set',)\n",
      "2020-12-17 01:41:30,490 INFO sqlalchemy.engine.base.OptionEngine SELECT \"Data_set\".\"index\", \"Data_set\".abstract, \"Data_set\".class, \"Data_set\".len \n",
      "FROM \"Data_set\"\n",
      "2020-12-17 01:41:30,491 INFO sqlalchemy.engine.base.OptionEngine ()\n"
     ]
    }
   ],
   "source": [
    "df = pd.read_sql_table(table_name, engine)"
   ]
  },
  {
   "cell_type": "code",
   "execution_count": 10,
   "metadata": {},
   "outputs": [],
   "source": [
    "df = df.rename(columns={\"class\": \"label\"})"
   ]
  },
  {
   "cell_type": "code",
   "execution_count": 11,
   "metadata": {},
   "outputs": [],
   "source": [
    "df = df.sample(frac=1).reset_index(drop=True) # randomize"
   ]
  },
  {
   "cell_type": "code",
   "execution_count": 12,
   "metadata": {},
   "outputs": [],
   "source": [
    "train = df.sample(frac=0.8,random_state=100) #random state is a seed value\n",
    "test = df.drop(train.index)"
   ]
  },
  {
   "cell_type": "code",
   "execution_count": 13,
   "metadata": {},
   "outputs": [
    {
     "data": {
      "text/plain": [
       "Pipeline(steps=[('tfidfvectorizer', TfidfVectorizer()),\n",
       "                ('multinomialnb', MultinomialNB())])"
      ]
     },
     "execution_count": 13,
     "metadata": {},
     "output_type": "execute_result"
    }
   ],
   "source": [
    "model.fit(train.abstract, train.label)"
   ]
  },
  {
   "cell_type": "code",
   "execution_count": 14,
   "metadata": {},
   "outputs": [],
   "source": [
    "labels = model.predict(test.abstract)"
   ]
  },
  {
   "cell_type": "code",
   "execution_count": 15,
   "metadata": {},
   "outputs": [
    {
     "name": "stdout",
     "output_type": "stream",
     "text": [
      "array([ 2, 15,  2, 15,  2, 15,  2,  2, 15, 15,  2,  2,  2, 15, 15, 15, 15,\n",
      "        2,  2, 15, 12, 15,  2,  2, 15,  2,  2, 15, 15,  2,  2,  2, 15,  2,\n",
      "       15, 12,  2, 15, 15,  2, 15,  2,  2,  2,  2,  2,  2, 15,  2,  2,  2,\n",
      "        2,  2, 12,  2,  2, 15,  2,  2,  2, 12,  2,  2,  2, 15,  2,  2, 15,\n",
      "        2, 15,  2, 15,  2, 15,  2, 15, 15,  2, 15, 15,  2,  2,  2,  2,  2,\n",
      "       15, 15,  2,  2,  2,  2, 12, 12,  2,  2,  2, 15, 15,  2,  2, 15, 15,\n",
      "        2, 12, 12, 15,  2,  2, 15,  2, 15, 12, 15,  2,  2, 15,  2, 15, 15,\n",
      "       15,  2,  2, 15,  2,  2, 15,  2, 15, 15,  2, 12,  2,  2, 15, 15, 12,\n",
      "       15,  2, 12, 15,  2,  2, 15, 12, 12, 15, 12, 15,  2, 15,  2])\n"
     ]
    }
   ],
   "source": [
    "pp.pprint(labels)"
   ]
  },
  {
   "cell_type": "code",
   "execution_count": 16,
   "metadata": {},
   "outputs": [],
   "source": [
    "conf_labels = list(range(2,18))"
   ]
  },
  {
   "cell_type": "code",
   "execution_count": 17,
   "metadata": {},
   "outputs": [],
   "source": [
    "conf_labels = sorted(test.label.unique())"
   ]
  },
  {
   "cell_type": "code",
   "execution_count": 18,
   "metadata": {},
   "outputs": [
    {
     "data": {
      "text/plain": [
       "[2, 3, 4, 6, 7, 8, 9, 11, 12, 13, 14, 15, 16, 17]"
      ]
     },
     "execution_count": 18,
     "metadata": {},
     "output_type": "execute_result"
    }
   ],
   "source": [
    "conf_labels"
   ]
  },
  {
   "cell_type": "code",
   "execution_count": 19,
   "metadata": {},
   "outputs": [
    {
     "data": {
      "text/plain": [
       "{2, 12, 15}"
      ]
     },
     "execution_count": 19,
     "metadata": {},
     "output_type": "execute_result"
    }
   ],
   "source": [
    "set(labels)"
   ]
  },
  {
   "cell_type": "code",
   "execution_count": 20,
   "metadata": {},
   "outputs": [],
   "source": [
    "from sklearn.metrics import confusion_matrix\n",
    "mat = confusion_matrix(test.label, labels, labels=conf_labels)"
   ]
  },
  {
   "cell_type": "code",
   "execution_count": 21,
   "metadata": {},
   "outputs": [
    {
     "name": "stdout",
     "output_type": "stream",
     "text": [
      "array([[26,  0,  0,  0,  0,  0,  0,  0,  0,  0,  0,  4,  0,  0],\n",
      "       [10,  0,  0,  0,  0,  0,  0,  0,  0,  0,  0,  0,  0,  0],\n",
      "       [ 3,  0,  0,  0,  0,  0,  0,  0,  0,  0,  0,  1,  0,  0],\n",
      "       [ 2,  0,  0,  0,  0,  0,  0,  0,  0,  0,  0,  5,  0,  0],\n",
      "       [ 5,  0,  0,  0,  0,  0,  0,  0,  3,  0,  0,  0,  0,  0],\n",
      "       [ 2,  0,  0,  0,  0,  0,  0,  0,  0,  0,  0,  0,  0,  0],\n",
      "       [ 7,  0,  0,  0,  0,  0,  0,  0,  1,  0,  0,  1,  0,  0],\n",
      "       [ 9,  0,  0,  0,  0,  0,  0,  0,  1,  0,  0,  7,  0,  0],\n",
      "       [10,  0,  0,  0,  0,  0,  0,  0, 10,  0,  0,  8,  0,  0],\n",
      "       [ 2,  0,  0,  0,  0,  0,  0,  0,  0,  0,  0, 10,  0,  0],\n",
      "       [ 1,  0,  0,  0,  0,  0,  0,  0,  0,  0,  0,  3,  0,  0],\n",
      "       [ 1,  0,  0,  0,  0,  0,  0,  0,  0,  0,  0, 17,  0,  0],\n",
      "       [ 1,  0,  0,  0,  0,  0,  0,  0,  0,  0,  0,  0,  0,  0],\n",
      "       [ 1,  0,  0,  0,  0,  0,  0,  0,  0,  0,  0,  0,  0,  0]])\n"
     ]
    }
   ],
   "source": [
    "pp.pprint(mat)"
   ]
  },
  {
   "cell_type": "code",
   "execution_count": 22,
   "metadata": {},
   "outputs": [
    {
     "data": {
      "image/png": "[encoded data removed]",
      "text/plain": [
       "<Figure size 720x720 with 1 Axes>"
      ]
     },
     "metadata": {},
     "output_type": "display_data"
    }
   ],
   "source": [
    "sns.set(style=\"white\", color_codes=True)\n",
    "plt.subplots(figsize=(10,10))\n",
    "ax = sns.heatmap(mat.T, square=True, annot=True, fmt='d', cbar=False,\n",
    "            xticklabels=conf_labels, yticklabels=conf_labels,cmap=\"YlGnBu\")\n",
    "ax.xaxis.tick_top() # x axis on top\n",
    "ax.xaxis.set_label_position('top')\n",
    "\n",
    "plt.xlabel('true label')\n",
    "plt.ylabel('predicted label');"
   ]
  },
  {
   "cell_type": "code",
   "execution_count": 23,
   "metadata": {},
   "outputs": [
    {
     "data": {
      "image/png": "[encoded data removed]",
      "text/plain": [
       "<Figure size 720x720 with 1 Axes>"
      ]
     },
     "metadata": {},
     "output_type": "display_data"
    }
   ],
   "source": [
    "plt.subplots(figsize=(10,10))\n",
    "ax = sns.heatmap(mat.T, square=True, annot=True, fmt='d', cbar=False,\n",
    "            xticklabels=conf_labels, yticklabels=conf_labels,cmap=\"Blues\")\n",
    "ax.xaxis.tick_top() # x axis on top\n",
    "ax.xaxis.set_label_position('top')\n",
    "\n",
    "plt.xlabel('true label')\n",
    "plt.ylabel('predicted label');"
   ]
  }
 ],
 "metadata": {
  "kernelspec": {
   "display_name": "Python 3",
   "language": "python",
   "name": "python3"
  },
  "language_info": {
   "codemirror_mode": {
    "name": "ipython",
    "version": 3
   },
   "file_extension": ".py",
   "mimetype": "text/x-python",
   "name": "python",
   "nbconvert_exporter": "python",
   "pygments_lexer": "ipython3",
   "version": "3.8.5"
  }
 },
 "nbformat": 4,
 "nbformat_minor": 4
}
