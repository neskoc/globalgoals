{
 "cells": [
  {
   "cell_type": "markdown",
   "metadata": {},
   "source": [
    "# Complete results (MNB and SVM)"
   ]
  },
  {
   "cell_type": "code",
   "execution_count": 1,
   "metadata": {},
   "outputs": [],
   "source": [
    "import pandas as pd\n",
    "import pprint as pp"
   ]
  },
  {
   "cell_type": "code",
   "execution_count": 2,
   "metadata": {},
   "outputs": [],
   "source": [
    "import numpy as np\n",
    "import matplotlib.pyplot as plt\n",
    "import seaborn as sns; sns.set()"
   ]
  },
  {
   "cell_type": "code",
   "execution_count": 3,
   "metadata": {},
   "outputs": [],
   "source": [
    "from sklearn.feature_extraction.text import CountVectorizer\n",
    "from sklearn.feature_extraction.text import TfidfVectorizer\n",
    "from sklearn.naive_bayes import MultinomialNB\n",
    "from sklearn.pipeline import make_pipeline"
   ]
  },
  {
   "cell_type": "code",
   "execution_count": 4,
   "metadata": {},
   "outputs": [],
   "source": [
    "from inc import stop_words as sw\n",
    "from inc import extra_stopwords as esw\n",
    "sw.STOP_WORDS = sw.STOP_WORDS.union(esw.common_stopwords)\n",
    "sw.STOP_WORDS = sw.STOP_WORDS.union(esw.extra_stopwords)"
   ]
  },
  {
   "cell_type": "code",
   "execution_count": 5,
   "metadata": {},
   "outputs": [],
   "source": [
    "from sqlalchemy import create_engine\n",
    "table_name = 'Training_set_new'\n",
    "db_path = 'db/training.sqlite'\n",
    "db_path = 'sqlite:///' + db_path\n",
    "engine = create_engine(db_path, echo=True)"
   ]
  },
  {
   "cell_type": "code",
   "execution_count": 6,
   "metadata": {},
   "outputs": [
    {
     "name": "stdout",
     "output_type": "stream",
     "text": [
      "2020-12-20 14:39:22,796 INFO sqlalchemy.engine.base.Engine SELECT CAST('test plain returns' AS VARCHAR(60)) AS anon_1\n",
      "2020-12-20 14:39:22,797 INFO sqlalchemy.engine.base.Engine ()\n",
      "2020-12-20 14:39:22,798 INFO sqlalchemy.engine.base.Engine SELECT CAST('test unicode returns' AS VARCHAR(60)) AS anon_1\n",
      "2020-12-20 14:39:22,799 INFO sqlalchemy.engine.base.Engine ()\n",
      "2020-12-20 14:39:22,801 INFO sqlalchemy.engine.base.Engine SELECT name FROM sqlite_master WHERE type='table' ORDER BY name\n",
      "2020-12-20 14:39:22,801 INFO sqlalchemy.engine.base.Engine ()\n",
      "2020-12-20 14:39:22,803 INFO sqlalchemy.engine.base.Engine SELECT name FROM sqlite_master WHERE type='view' ORDER BY name\n",
      "2020-12-20 14:39:22,803 INFO sqlalchemy.engine.base.Engine ()\n",
      "2020-12-20 14:39:22,805 INFO sqlalchemy.engine.base.Engine PRAGMA main.table_xinfo(\"Training_set_new\")\n",
      "2020-12-20 14:39:22,806 INFO sqlalchemy.engine.base.Engine ()\n",
      "2020-12-20 14:39:22,809 INFO sqlalchemy.engine.base.Engine SELECT sql FROM  (SELECT * FROM sqlite_master UNION ALL   SELECT * FROM sqlite_temp_master) WHERE name = ? AND type = 'table'\n",
      "2020-12-20 14:39:22,809 INFO sqlalchemy.engine.base.Engine ('Training_set_new',)\n",
      "2020-12-20 14:39:22,811 INFO sqlalchemy.engine.base.Engine PRAGMA main.foreign_key_list(\"Training_set_new\")\n",
      "2020-12-20 14:39:22,812 INFO sqlalchemy.engine.base.Engine ()\n",
      "2020-12-20 14:39:22,813 INFO sqlalchemy.engine.base.Engine PRAGMA temp.foreign_key_list(\"Training_set_new\")\n",
      "2020-12-20 14:39:22,814 INFO sqlalchemy.engine.base.Engine ()\n",
      "2020-12-20 14:39:22,815 INFO sqlalchemy.engine.base.Engine SELECT sql FROM  (SELECT * FROM sqlite_master UNION ALL   SELECT * FROM sqlite_temp_master) WHERE name = ? AND type = 'table'\n",
      "2020-12-20 14:39:22,816 INFO sqlalchemy.engine.base.Engine ('Training_set_new',)\n",
      "2020-12-20 14:39:22,819 INFO sqlalchemy.engine.base.Engine PRAGMA main.index_list(\"Training_set_new\")\n",
      "2020-12-20 14:39:22,820 INFO sqlalchemy.engine.base.Engine ()\n",
      "2020-12-20 14:39:22,821 INFO sqlalchemy.engine.base.Engine PRAGMA main.index_info(\"ix_Training_set_new_index\")\n",
      "2020-12-20 14:39:22,822 INFO sqlalchemy.engine.base.Engine ()\n",
      "2020-12-20 14:39:22,823 INFO sqlalchemy.engine.base.Engine PRAGMA main.index_list(\"Training_set_new\")\n",
      "2020-12-20 14:39:22,824 INFO sqlalchemy.engine.base.Engine ()\n",
      "2020-12-20 14:39:22,825 INFO sqlalchemy.engine.base.Engine PRAGMA main.index_info(\"ix_Training_set_new_index\")\n",
      "2020-12-20 14:39:22,825 INFO sqlalchemy.engine.base.Engine ()\n",
      "2020-12-20 14:39:22,827 INFO sqlalchemy.engine.base.Engine SELECT sql FROM  (SELECT * FROM sqlite_master UNION ALL   SELECT * FROM sqlite_temp_master) WHERE name = ? AND type = 'table'\n",
      "2020-12-20 14:39:22,828 INFO sqlalchemy.engine.base.Engine ('Training_set_new',)\n",
      "2020-12-20 14:39:22,832 INFO sqlalchemy.engine.base.OptionEngine SELECT \"Training_set_new\".\"index\", \"Training_set_new\".abstract, \"Training_set_new\".class, \"Training_set_new\".len \n",
      "FROM \"Training_set_new\"\n",
      "2020-12-20 14:39:22,833 INFO sqlalchemy.engine.base.OptionEngine ()\n"
     ]
    }
   ],
   "source": [
    "df = pd.read_sql_table(table_name, engine)"
   ]
  },
  {
   "cell_type": "code",
   "execution_count": 7,
   "metadata": {},
   "outputs": [],
   "source": [
    "df = df.rename(columns={\"class\": \"label\"})"
   ]
  },
  {
   "cell_type": "code",
   "execution_count": 8,
   "metadata": {},
   "outputs": [
    {
     "data": {
      "text/plain": [
       "(1534, 4)"
      ]
     },
     "execution_count": 8,
     "metadata": {},
     "output_type": "execute_result"
    }
   ],
   "source": [
    "df.shape"
   ]
  },
  {
   "cell_type": "code",
   "execution_count": 9,
   "metadata": {},
   "outputs": [],
   "source": [
    "df = df.sample(frac=1).reset_index(drop=True) # randomize"
   ]
  },
  {
   "cell_type": "code",
   "execution_count": 10,
   "metadata": {},
   "outputs": [],
   "source": [
    "train = df.sample(frac=0.8,random_state=200) #random state is a seed value\n",
    "test = df.drop(train.index)"
   ]
  },
  {
   "cell_type": "markdown",
   "metadata": {},
   "source": [
    "# Results: Multinomial Naïve Bayes model"
   ]
  },
  {
   "cell_type": "code",
   "execution_count": 11,
   "metadata": {},
   "outputs": [],
   "source": [
    "model = make_pipeline(TfidfVectorizer(stop_words=sw.STOP_WORDS), MultinomialNB())"
   ]
  },
  {
   "cell_type": "code",
   "execution_count": 12,
   "metadata": {},
   "outputs": [
    {
     "data": {
      "text/plain": [
       "Pipeline(steps=[('tfidfvectorizer',\n",
       "                 TfidfVectorizer(stop_words={'aderton', 'adertonde', 'adjö',\n",
       "                                             'aldrig', 'allas', 'allt',\n",
       "                                             'alltid', 'alltså', 'andra',\n",
       "                                             'andras', 'annan', 'annat',\n",
       "                                             'ansökan', 'arton', 'artonde',\n",
       "                                             'att', 'av', 'avhandling',\n",
       "                                             'bakgrund', 'bakom', 'bara',\n",
       "                                             'behöva', 'behövas', 'behövde',\n",
       "                                             'behövt', 'beslut', 'beslutat',\n",
       "                                             'beslutit', 'bland', 'blev', ...})),\n",
       "                ('multinomialnb', MultinomialNB())])"
      ]
     },
     "execution_count": 12,
     "metadata": {},
     "output_type": "execute_result"
    }
   ],
   "source": [
    "model.fit(train.abstract, train.label)"
   ]
  },
  {
   "cell_type": "code",
   "execution_count": 13,
   "metadata": {},
   "outputs": [],
   "source": [
    "labels = model.predict(test.abstract)"
   ]
  },
  {
   "cell_type": "code",
   "execution_count": 14,
   "metadata": {},
   "outputs": [
    {
     "name": "stdout",
     "output_type": "stream",
     "text": [
      "array(['13', '15', '10', '17', '15', '17', '4', '7', '17', '11', '15',\n",
      "       '17', '7', '7', '10', '9', '15', '3', '6', '17', '15', '10', '7',\n",
      "       '17', '17', '17', '10', '3', '11', '11', '17', '10', '13', '17',\n",
      "       '9', '17', '15', '7', '15', '7', '17', '4', '17', '11', '17', '7',\n",
      "       '8', '17', '2', '10', '3', '4', '11', '7', '3', '3', '10', '3',\n",
      "       '15', '2', '4', '15', '17', '3', '8', '12', '11', '17', '13', '7',\n",
      "       '11', '11', '3', '17', '17', '8', '15', '10', '17', '7', '3', '9',\n",
      "       '10', '10', '3', '10', '2', '10', '11', '15', '9', '11', '9', '17',\n",
      "       '7', '17', '7', '13', '17', '6', '9', '17', '6', '17', '17', '13',\n",
      "       '15', '3', '3', '17', '11', '11', '9', '3', '12', '9', '7', '14',\n",
      "       '17', '8', '8', '11', '17', '17', '16', '17', '2', '17', '9', '15',\n",
      "       '17', '7', '3', '10', '17', '17', '10', '7', '2', '17', '4', '10',\n",
      "       '17', '11', '10', '2', '15', '15', '17', '3', '10', '12', '6', '9',\n",
      "       '15', '17', '17', '15', '9', '17', '8', '2', '11', '17', '2', '12',\n",
      "       '17', '17', '7', '11', '17', '10', '7', '12', '3', '9', '10', '17',\n",
      "       '3', '10', '13', '11', '17', '11', '10', '17', '14', '15', '4',\n",
      "       '15', '14', '11', '3', '7', '15', '2', '17', '17', '8', '17', '17',\n",
      "       '12', '14', '17', '16', '12', '17', '17', '15', '17', '12', '14',\n",
      "       '13', '10', '10', '10', '17', '17', '10', '7', '17', '17', '17',\n",
      "       '17', '12', '2', '7', '10', '11', '15', '17', '17', '15', '10',\n",
      "       '17', '12', '11', '17', '15', '11', '7', '9', '17', '15', '7',\n",
      "       '13', '17', '11', '2', '10', '10', '17', '10', '12', '17', '7',\n",
      "       '9', '7', '10', '14', '3', '17', '17', '17', '17', '17', '15',\n",
      "       '17', '17', '12', '7', '10', '9', '8', '12', '3', '15', '15', '11',\n",
      "       '15', '11', '10', '17', '17', '10', '3', '17', '12', '15', '7',\n",
      "       '9', '17', '17', '2', '11', '17', '17', '17', '17', '7', '17', '3',\n",
      "       '2', '3', '3', '13', '8'], dtype='<U2')\n"
     ]
    }
   ],
   "source": [
    "pp.pprint(labels)"
   ]
  },
  {
   "cell_type": "code",
   "execution_count": 15,
   "metadata": {},
   "outputs": [],
   "source": [
    "test = test.drop(columns=['index'])"
   ]
  },
  {
   "cell_type": "code",
   "execution_count": 16,
   "metadata": {},
   "outputs": [],
   "source": [
    "test = test.reset_index(drop=True)"
   ]
  },
  {
   "cell_type": "code",
   "execution_count": 17,
   "metadata": {},
   "outputs": [
    {
     "data": {
      "text/html": [
       "<div>\n",
       "<style scoped>\n",
       "    .dataframe tbody tr th:only-of-type {\n",
       "        vertical-align: middle;\n",
       "    }\n",
       "\n",
       "    .dataframe tbody tr th {\n",
       "        vertical-align: top;\n",
       "    }\n",
       "\n",
       "    .dataframe thead th {\n",
       "        text-align: right;\n",
       "    }\n",
       "</style>\n",
       "<table border=\"1\" class=\"dataframe\">\n",
       "  <thead>\n",
       "    <tr style=\"text-align: right;\">\n",
       "      <th></th>\n",
       "      <th>abstract</th>\n",
       "      <th>label</th>\n",
       "      <th>len</th>\n",
       "    </tr>\n",
       "  </thead>\n",
       "  <tbody>\n",
       "    <tr>\n",
       "      <th>0</th>\n",
       "      <td>med testbednordic vara att testa biobasera o...</td>\n",
       "      <td>14</td>\n",
       "      <td>1190</td>\n",
       "    </tr>\n",
       "    <tr>\n",
       "      <th>1</th>\n",
       "      <td>en invasiv patog hymenoscyphus fraxineus riske...</td>\n",
       "      <td>15</td>\n",
       "      <td>1311</td>\n",
       "    </tr>\n",
       "    <tr>\n",
       "      <th>2</th>\n",
       "      <td>projekt vara att svara på fråga gälla likvär...</td>\n",
       "      <td>16</td>\n",
       "      <td>1319</td>\n",
       "    </tr>\n",
       "    <tr>\n",
       "      <th>3</th>\n",
       "      <td>vara att lycka marknadsvalidera och marknads...</td>\n",
       "      <td>3</td>\n",
       "      <td>1121</td>\n",
       "    </tr>\n",
       "    <tr>\n",
       "      <th>4</th>\n",
       "      <td>i europa binda årligen in kol i biomassa och m...</td>\n",
       "      <td>15</td>\n",
       "      <td>1342</td>\n",
       "    </tr>\n",
       "    <tr>\n",
       "      <th>...</th>\n",
       "      <td>...</td>\n",
       "      <td>...</td>\n",
       "      <td>...</td>\n",
       "    </tr>\n",
       "    <tr>\n",
       "      <th>302</th>\n",
       "      <td>för många människa vara alg och tång en kanske...</td>\n",
       "      <td>14</td>\n",
       "      <td>2899</td>\n",
       "    </tr>\n",
       "    <tr>\n",
       "      <th>303</th>\n",
       "      <td>den vara välkänd att vedrök vara hälsofarlig i...</td>\n",
       "      <td>3</td>\n",
       "      <td>1399</td>\n",
       "    </tr>\n",
       "    <tr>\n",
       "      <th>304</th>\n",
       "      <td>european college of veterinary public health e...</td>\n",
       "      <td>2</td>\n",
       "      <td>2019</td>\n",
       "    </tr>\n",
       "    <tr>\n",
       "      <th>305</th>\n",
       "      <td>coclimekommer att samarbeta och samproducera s...</td>\n",
       "      <td>13</td>\n",
       "      <td>1349</td>\n",
       "    </tr>\n",
       "    <tr>\n",
       "      <th>306</th>\n",
       "      <td>et med var att utarbeta en ip strategi samt ...</td>\n",
       "      <td>9</td>\n",
       "      <td>1085</td>\n",
       "    </tr>\n",
       "  </tbody>\n",
       "</table>\n",
       "<p>307 rows × 3 columns</p>\n",
       "</div>"
      ],
      "text/plain": [
       "                                              abstract label   len\n",
       "0      med testbednordic vara att testa biobasera o...    14  1190\n",
       "1    en invasiv patog hymenoscyphus fraxineus riske...    15  1311\n",
       "2      projekt vara att svara på fråga gälla likvär...    16  1319\n",
       "3      vara att lycka marknadsvalidera och marknads...     3  1121\n",
       "4    i europa binda årligen in kol i biomassa och m...    15  1342\n",
       "..                                                 ...   ...   ...\n",
       "302  för många människa vara alg och tång en kanske...    14  2899\n",
       "303  den vara välkänd att vedrök vara hälsofarlig i...     3  1399\n",
       "304  european college of veterinary public health e...     2  2019\n",
       "305  coclimekommer att samarbeta och samproducera s...    13  1349\n",
       "306    et med var att utarbeta en ip strategi samt ...     9  1085\n",
       "\n",
       "[307 rows x 3 columns]"
      ]
     },
     "execution_count": 17,
     "metadata": {},
     "output_type": "execute_result"
    }
   ],
   "source": [
    "test"
   ]
  },
  {
   "cell_type": "code",
   "execution_count": 18,
   "metadata": {},
   "outputs": [],
   "source": [
    "confusion_mx = {}\n",
    "for ix, label in enumerate(labels):\n",
    "    if label == test.label[ix]:\n",
    "        if label in confusion_mx:\n",
    "            confusion_mx[label] += 1\n",
    "        else:\n",
    "            confusion_mx[label] = 1"
   ]
  },
  {
   "cell_type": "code",
   "execution_count": 19,
   "metadata": {},
   "outputs": [],
   "source": [
    "conf_labels = list(map(str, list(range(2,18))))"
   ]
  },
  {
   "cell_type": "code",
   "execution_count": 20,
   "metadata": {},
   "outputs": [
    {
     "name": "stdout",
     "output_type": "stream",
     "text": [
      "test: [2, 3, 4, 5, 6, 7, 8, 9, 10, 11, 12, 13, 14, 15, 16, 17]\n",
      "pred: [2, 3, 4, 6, 7, 8, 9, 10, 11, 12, 13, 14, 15, 16, 17]\n",
      "conf: ['2', '3', '4', '5', '6', '7', '8', '9', '10', '11', '12', '13', '14', '15', '16', '17']\n"
     ]
    }
   ],
   "source": [
    "print('test:', sorted(list(map(int, list(set(test.label))))))\n",
    "print('pred:', sorted(list(map(int, list(set(labels))))))\n",
    "print('conf:', conf_labels)"
   ]
  },
  {
   "cell_type": "code",
   "execution_count": 21,
   "metadata": {},
   "outputs": [],
   "source": [
    "from sklearn.metrics import confusion_matrix\n",
    "mat = confusion_matrix(test.label, labels, labels=conf_labels)"
   ]
  },
  {
   "cell_type": "code",
   "execution_count": 22,
   "metadata": {},
   "outputs": [
    {
     "name": "stdout",
     "output_type": "stream",
     "text": [
      "array([[11,  5,  0,  0,  0,  0,  0,  0,  0,  1,  0,  0,  0,  2,  0,  3],\n",
      "       [ 0,  5,  0,  0,  0,  1,  1,  0,  2,  0,  0,  0,  0,  0,  0,  4],\n",
      "       [ 0,  1,  5,  0,  0,  1,  1,  0,  5,  0,  0,  0,  0,  0,  0,  8],\n",
      "       [ 0,  0,  0,  0,  0,  0,  0,  0,  3,  0,  0,  1,  0,  0,  0,  8],\n",
      "       [ 0,  1,  0,  0,  4,  1,  0,  2,  0,  0,  0,  2,  1,  2,  0,  2],\n",
      "       [ 0,  0,  0,  0,  0,  8,  1,  0,  3,  2,  0,  0,  0,  0,  0,  1],\n",
      "       [ 0,  2,  1,  0,  0,  2,  1,  3,  3,  0,  0,  0,  0,  0,  0,  9],\n",
      "       [ 0,  1,  0,  0,  0,  4,  1,  3,  0,  3,  1,  0,  0,  0,  0,  9],\n",
      "       [ 0,  3,  0,  0,  0,  2,  1,  0,  8,  1,  0,  0,  0,  0,  0,  6],\n",
      "       [ 0,  2,  0,  0,  0,  1,  0,  2,  0, 12,  0,  0,  0,  0,  0,  2],\n",
      "       [ 1,  3,  0,  0,  0,  3,  0,  2,  0,  0, 11,  1,  0,  0,  0,  3],\n",
      "       [ 0,  0,  0,  0,  0,  2,  1,  0,  0,  2,  0,  3,  1,  5,  0,  6],\n",
      "       [ 1,  0,  0,  0,  0,  0,  0,  2,  1,  0,  2,  2,  3,  1,  1,  8],\n",
      "       [ 0,  0,  0,  0,  0,  0,  0,  0,  0,  2,  0,  0,  0, 20,  0,  0],\n",
      "       [ 0,  1,  0,  0,  0,  1,  1,  1,  6,  1,  0,  0,  0,  0,  1, 12],\n",
      "       [ 0,  0,  0,  0,  0,  1,  1,  1,  3,  2,  0,  0,  1,  0,  0,  6]])\n"
     ]
    }
   ],
   "source": [
    "pp.pprint(mat)"
   ]
  },
  {
   "cell_type": "code",
   "execution_count": 23,
   "metadata": {},
   "outputs": [],
   "source": [
    "sorted_dict = dict(sorted(confusion_mx.items()))"
   ]
  },
  {
   "cell_type": "code",
   "execution_count": 24,
   "metadata": {},
   "outputs": [
    {
     "data": {
      "image/png": "[encoded data removed]",
      "text/plain": [
       "<Figure size 720x720 with 1 Axes>"
      ]
     },
     "metadata": {},
     "output_type": "display_data"
    }
   ],
   "source": [
    "sns.set(style=\"white\", color_codes=True)\n",
    "fig, ax = plt.subplots(figsize=(10,10))\n",
    "ax = sns.heatmap(mat.T, square=True, annot=True, fmt='d', cbar=False,\n",
    "            xticklabels=conf_labels, yticklabels=conf_labels,cmap=\"YlGnBu\")\n",
    "ax.xaxis.tick_top() # x axis on top\n",
    "ax.xaxis.set_label_position('top')\n",
    "\n",
    "plt.title('Multinomial Naïve Bayes')\n",
    "plt.xlabel('true label')\n",
    "plt.ylabel('predicted label');"
   ]
  },
  {
   "cell_type": "code",
   "execution_count": 25,
   "metadata": {},
   "outputs": [
    {
     "data": {
      "image/png": "[encoded data removed]",
      "text/plain": [
       "<Figure size 720x720 with 1 Axes>"
      ]
     },
     "metadata": {},
     "output_type": "display_data"
    }
   ],
   "source": [
    "fig, ax = plt.subplots(figsize=(10,10))\n",
    "ax = sns.heatmap(mat.T, square=True, annot=True, fmt='d', cbar=False,\n",
    "            xticklabels=conf_labels, yticklabels=conf_labels,cmap=\"Blues\")\n",
    "ax.xaxis.tick_top() # x axis on top\n",
    "ax.xaxis.set_label_position('top')\n",
    "\n",
    "plt.title('Multinomial Naïve Bayes')\n",
    "plt.xlabel('true label')\n",
    "plt.ylabel('predicted label');"
   ]
  },
  {
   "cell_type": "code",
   "execution_count": 26,
   "metadata": {},
   "outputs": [],
   "source": [
    "fig.savefig('img/heat_map_MultinomialNB.png')"
   ]
  },
  {
   "cell_type": "code",
   "execution_count": 27,
   "metadata": {},
   "outputs": [],
   "source": [
    "from sklearn.metrics import classification_report"
   ]
  },
  {
   "cell_type": "code",
   "execution_count": 28,
   "metadata": {},
   "outputs": [],
   "source": [
    "report = classification_report(test.label, labels, zero_division=0)"
   ]
  },
  {
   "cell_type": "code",
   "execution_count": 29,
   "metadata": {},
   "outputs": [
    {
     "name": "stdout",
     "output_type": "stream",
     "text": [
      "# Multinomial Naive Bayes results\n",
      "              precision    recall  f1-score   support\n",
      "\n",
      "          10       0.24      0.38      0.29        21\n",
      "          11       0.46      0.63      0.53        19\n",
      "          12       0.79      0.46      0.58        24\n",
      "          13       0.33      0.15      0.21        20\n",
      "          14       0.50      0.14      0.22        21\n",
      "          15       0.67      0.91      0.77        22\n",
      "          16       0.50      0.04      0.08        24\n",
      "          17       0.07      0.40      0.12        15\n",
      "           2       0.85      0.50      0.63        22\n",
      "           3       0.21      0.38      0.27        13\n",
      "           4       0.83      0.24      0.37        21\n",
      "           5       0.00      0.00      0.00        12\n",
      "           6       1.00      0.27      0.42        15\n",
      "           7       0.30      0.53      0.38        15\n",
      "           8       0.11      0.05      0.07        21\n",
      "           9       0.19      0.14      0.16        22\n",
      "\n",
      "    accuracy                           0.33       307\n",
      "   macro avg       0.44      0.33      0.32       307\n",
      "weighted avg       0.46      0.33      0.33       307\n",
      "\n"
     ]
    }
   ],
   "source": [
    "print(\"# Multinomial Naive Bayes results\")\n",
    "print(report)"
   ]
  },
  {
   "cell_type": "code",
   "execution_count": 30,
   "metadata": {},
   "outputs": [],
   "source": [
    "report_dict = classification_report(test.label, labels, zero_division=0, output_dict=True)"
   ]
  },
  {
   "cell_type": "code",
   "execution_count": 31,
   "metadata": {},
   "outputs": [],
   "source": [
    "report_df = pd.DataFrame.from_records(report_dict)"
   ]
  },
  {
   "cell_type": "code",
   "execution_count": 32,
   "metadata": {},
   "outputs": [],
   "source": [
    "report_T = report_df.T.sort_index(na_position={'2', '17'})"
   ]
  },
  {
   "cell_type": "code",
   "execution_count": 33,
   "metadata": {},
   "outputs": [],
   "source": [
    "report_T.to_csv (r'db/report_MultinomialNB.csv', index = True, header=True)"
   ]
  },
  {
   "cell_type": "markdown",
   "metadata": {},
   "source": [
    "# Results: Support Vector Machine model"
   ]
  },
  {
   "cell_type": "code",
   "execution_count": 34,
   "metadata": {},
   "outputs": [],
   "source": [
    "train_data = train.abstract.tolist()\n",
    "train_labels = train.label.tolist()\n",
    "\n",
    "test_data = test.abstract.tolist()\n",
    "test_labels = test.label.tolist()"
   ]
  },
  {
   "cell_type": "code",
   "execution_count": 35,
   "metadata": {},
   "outputs": [
    {
     "name": "stdout",
     "output_type": "stream",
     "text": [
      "Counter({'3': 87, '7': 85, '17': 85, '11': 81, '13': 80, '10': 79, '14': 79, '8': 79, '2': 78, '9': 78, '15': 78, '12': 76, '16': 76, '6': 72, '4': 67, '5': 47})\n",
      "Counter({'16': 24, '12': 24, '15': 22, '9': 22, '2': 22, '14': 21, '8': 21, '4': 21, '10': 21, '13': 20, '11': 19, '7': 15, '6': 15, '17': 15, '3': 13, '5': 12})\n"
     ]
    }
   ],
   "source": [
    "from collections import Counter\n",
    "print(Counter(train_labels))\n",
    "print(Counter(test_labels))"
   ]
  },
  {
   "cell_type": "code",
   "execution_count": 36,
   "metadata": {},
   "outputs": [],
   "source": [
    "tfidf_vectorizer = TfidfVectorizer(stop_words=sw.STOP_WORDS, max_features=None)\n",
    "\n",
    "term_docs_train = tfidf_vectorizer.fit_transform(train_data)\n",
    "term_docs_test = tfidf_vectorizer.transform(test_data)"
   ]
  },
  {
   "cell_type": "code",
   "execution_count": 37,
   "metadata": {},
   "outputs": [],
   "source": [
    "from sklearn.svm import SVC"
   ]
  },
  {
   "cell_type": "code",
   "execution_count": 38,
   "metadata": {},
   "outputs": [
    {
     "data": {
      "text/plain": [
       "SVC(kernel='linear', random_state=42)"
      ]
     },
     "execution_count": 38,
     "metadata": {},
     "output_type": "execute_result"
    }
   ],
   "source": [
    "svm = SVC(kernel='linear', C=1.0, random_state=42)\n",
    "svm.fit(term_docs_train, train_labels)"
   ]
  },
  {
   "cell_type": "code",
   "execution_count": 39,
   "metadata": {},
   "outputs": [
    {
     "name": "stdout",
     "output_type": "stream",
     "text": [
      "The accuracy of multiclass classification is: 38.1%\n"
     ]
    }
   ],
   "source": [
    "accuracy = svm.score(term_docs_test, test_labels)\n",
    "print('The accuracy of multiclass classification is: {0:.1f}%'.format(accuracy*100))"
   ]
  },
  {
   "cell_type": "code",
   "execution_count": 40,
   "metadata": {},
   "outputs": [],
   "source": [
    "labels = svm.predict(term_docs_test)"
   ]
  },
  {
   "cell_type": "code",
   "execution_count": 41,
   "metadata": {},
   "outputs": [],
   "source": [
    "confusion_mx = {}\n",
    "for ix, label in enumerate(labels):\n",
    "    if label == test_labels[ix]:\n",
    "        if label in confusion_mx:\n",
    "            confusion_mx[label] += 1\n",
    "        else:\n",
    "            confusion_mx[label] = 1"
   ]
  },
  {
   "cell_type": "code",
   "execution_count": 42,
   "metadata": {},
   "outputs": [],
   "source": [
    "conf_labels = list(map(str, list(range(2,18))))"
   ]
  },
  {
   "cell_type": "code",
   "execution_count": 43,
   "metadata": {},
   "outputs": [],
   "source": [
    "mat = confusion_matrix(test_labels, labels, labels=conf_labels)"
   ]
  },
  {
   "cell_type": "code",
   "execution_count": 44,
   "metadata": {},
   "outputs": [],
   "source": [
    "sorted_dict = dict(sorted(confusion_mx.items()))"
   ]
  },
  {
   "cell_type": "code",
   "execution_count": 45,
   "metadata": {},
   "outputs": [
    {
     "data": {
      "image/png": "[encoded data removed]",
      "text/plain": [
       "<Figure size 720x720 with 1 Axes>"
      ]
     },
     "metadata": {},
     "output_type": "display_data"
    }
   ],
   "source": [
    "sns.set(style=\"white\", color_codes=True)\n",
    "fig, ax = plt.subplots(figsize=(10,10))\n",
    "ax = sns.heatmap(mat.T, square=True, annot=True, fmt='d', cbar=False,\n",
    "            xticklabels=conf_labels, yticklabels=conf_labels,cmap=\"YlGnBu\")\n",
    "ax.xaxis.tick_top() # x axis on top\n",
    "ax.xaxis.set_label_position('top')\n",
    "\n",
    "plt.xlabel('true label')\n",
    "plt.ylabel('predicted label');"
   ]
  },
  {
   "cell_type": "code",
   "execution_count": 46,
   "metadata": {},
   "outputs": [
    {
     "data": {
      "image/png": "[encoded data removed]",
      "text/plain": [
       "<Figure size 720x720 with 1 Axes>"
      ]
     },
     "metadata": {},
     "output_type": "display_data"
    }
   ],
   "source": [
    "fig, ax = plt.subplots(figsize=(10,10))\n",
    "ax = sns.heatmap(mat.T, square=True, annot=True, fmt='d', cbar=False,\n",
    "            xticklabels=conf_labels, yticklabels=conf_labels,cmap=\"Blues\")\n",
    "ax.xaxis.tick_top() # x axis on top\n",
    "ax.xaxis.set_label_position('top')\n",
    "\n",
    "plt.xlabel('true label')\n",
    "plt.ylabel('predicted label');"
   ]
  },
  {
   "cell_type": "code",
   "execution_count": 47,
   "metadata": {},
   "outputs": [],
   "source": [
    "fig.savefig('img/heat_map_SVM.png')"
   ]
  },
  {
   "cell_type": "code",
   "execution_count": 48,
   "metadata": {},
   "outputs": [
    {
     "name": "stderr",
     "output_type": "stream",
     "text": [
      "/home/nesko/anaconda3/envs/gpu/lib/python3.8/site-packages/sklearn/metrics/_classification.py:1221: UndefinedMetricWarning: Precision and F-score are ill-defined and being set to 0.0 in labels with no predicted samples. Use `zero_division` parameter to control this behavior.\n",
      "  _warn_prf(average, modifier, msg_start, len(result))\n"
     ]
    }
   ],
   "source": [
    "report = classification_report(test_labels, labels)"
   ]
  },
  {
   "cell_type": "code",
   "execution_count": 49,
   "metadata": {},
   "outputs": [
    {
     "name": "stdout",
     "output_type": "stream",
     "text": [
      "# Suport Vector Machine (linear kernel) results\n",
      "              precision    recall  f1-score   support\n",
      "\n",
      "          10       0.29      0.29      0.29        21\n",
      "          11       0.52      0.63      0.57        19\n",
      "          12       0.78      0.58      0.67        24\n",
      "          13       0.31      0.20      0.24        20\n",
      "          14       0.42      0.24      0.30        21\n",
      "          15       0.67      0.82      0.73        22\n",
      "          16       0.11      0.08      0.10        24\n",
      "          17       0.10      0.33      0.16        15\n",
      "           2       1.00      0.55      0.71        22\n",
      "           3       0.33      0.38      0.36        13\n",
      "           4       0.60      0.43      0.50        21\n",
      "           5       0.00      0.00      0.00        12\n",
      "           6       0.64      0.47      0.54        15\n",
      "           7       0.36      0.53      0.43        15\n",
      "           8       0.17      0.14      0.15        21\n",
      "           9       0.21      0.32      0.25        22\n",
      "\n",
      "    accuracy                           0.38       307\n",
      "   macro avg       0.41      0.37      0.37       307\n",
      "weighted avg       0.42      0.38      0.39       307\n",
      "\n"
     ]
    }
   ],
   "source": [
    "print(\"# Suport Vector Machine (linear kernel) results\")\n",
    "print(report)"
   ]
  },
  {
   "cell_type": "code",
   "execution_count": 50,
   "metadata": {},
   "outputs": [],
   "source": [
    "report_dict = classification_report(test_labels, labels, zero_division=0, output_dict=True)\n",
    "report_df = pd.DataFrame.from_records(report_dict)\n",
    "report_T = report_df.T.sort_index(na_position={'2', '17'})\n",
    "report_T.to_csv (r'db/report_SVM.csv', index = True, header=True)"
   ]
  }
 ],
 "metadata": {
  "kernelspec": {
   "display_name": "gpu",
   "language": "python",
   "name": "gpu"
  },
  "language_info": {
   "codemirror_mode": {
    "name": "ipython",
    "version": 3
   },
   "file_extension": ".py",
   "mimetype": "text/x-python",
   "name": "python",
   "nbconvert_exporter": "python",
   "pygments_lexer": "ipython3",
   "version": "3.8.5"
  }
 },
 "nbformat": 4,
 "nbformat_minor": 4
}
