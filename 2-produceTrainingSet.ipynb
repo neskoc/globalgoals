{
 "cells": [
  {
   "cell_type": "markdown",
   "metadata": {},
   "source": [
    "# Produce training and test dataset from cleaned data\n",
    "\n",
    "ATT! One document from global goals is missing because premature end of loop (17 instead of 18)  \n",
    "Corrected version could be found as __2-produceTrainingSet_new.ipynb__"
   ]
  },
  {
   "cell_type": "code",
   "execution_count": null,
   "metadata": {},
   "outputs": [],
   "source": [
    "import sqlite3\n",
    "import numpy as np"
   ]
  },
  {
   "cell_type": "code",
   "execution_count": 2,
   "metadata": {},
   "outputs": [],
   "source": [
    "def fetchTrainingData(db, sqlCmd):\n",
    "    try:\n",
    "        conn = sqlite3.connect(db)\n",
    "        cursor = conn.cursor()\n",
    "        cursor.execute(sqlCmd)\n",
    "        result = cursor.fetchall()\n",
    "        conn.commit()\n",
    "        cursor.close()\n",
    "        return result\n",
    "\n",
    "    except sqlite3.Error as error:\n",
    "        print(\"Failed to run sqlite command\", error)\n",
    "    finally:\n",
    "        if (conn):\n",
    "            conn.close()"
   ]
  },
  {
   "cell_type": "code",
   "execution_count": 3,
   "metadata": {},
   "outputs": [],
   "source": [
    "db_path = 'db/categorised_swecris.sqlite'"
   ]
  },
  {
   "cell_type": "code",
   "execution_count": 28,
   "metadata": {},
   "outputs": [],
   "source": [
    "init = False\n",
    "for ix in range(2,18):\n",
    "    sqlCmd = f'''\n",
    "        SELECT abstract, Formas1 AS class FROM clean_swecris\n",
    "            WHERE class == '{ix}' ORDER BY RANDOM() LIMIT 99\n",
    "        '''\n",
    "    result = np.array(fetchTrainingData(db_path, sqlCmd))\n",
    "    if (not init and result.size > 0):\n",
    "        training_data_Formas = np.copy(result)\n",
    "        init = True\n",
    "    elif (result.size > 0):\n",
    "        training_data_Formas = np.vstack((training_data_Formas, result))"
   ]
  },
  {
   "cell_type": "code",
   "execution_count": 35,
   "metadata": {},
   "outputs": [],
   "source": [
    "init = False\n",
    "for ix in range(2,18):\n",
    "    sqlCmd = f'''\n",
    "        SELECT abstract, Self1 AS class FROM clean_swecris \n",
    "            WHERE Self1 == '{ix}' ORDER BY RANDOM()\n",
    "            LIMIT\n",
    "                CASE \n",
    "                    WHEN (99 - (SELECT count(Formas1) FROM clean_swecris WHERE Formas1 == '{ix}')) > 0\n",
    "                        THEN (SELECT 99 - count(Formas1) FROM clean_swecris WHERE Formas1 == '{ix}')\n",
    "                    ELSE 0\n",
    "                END;\n",
    "        '''\n",
    "    result = np.array(fetchTrainingData(db_path, sqlCmd))\n",
    "    if (not init and result.size > 0):\n",
    "        training_data_Vinnova = np.copy(result)\n",
    "        init = True\n",
    "    elif (result.size > 0):\n",
    "        training_data_Vinnova = np.vstack((training_data_Vinnova, result))"
   ]
  },
  {
   "cell_type": "code",
   "execution_count": 6,
   "metadata": {},
   "outputs": [],
   "source": [
    "init = False\n",
    "for ix in range(2,17):\n",
    "    sqlCmd = f'''\n",
    "        SELECT abstract, goals AS class FROM clean_goals\n",
    "            WHERE class == '{ix}';\n",
    "        '''\n",
    "    result = np.array(fetchTrainingData(db_path, sqlCmd))\n",
    "    if (not init and result.size > 0):\n",
    "        training_data_Goals = np.copy(result)\n",
    "        init = True\n",
    "    else:\n",
    "        training_data_Goals = np.vstack((training_data_Goals, result))"
   ]
  },
  {
   "cell_type": "code",
   "execution_count": 37,
   "metadata": {},
   "outputs": [],
   "source": [
    "training_data = np.vstack((training_data_Goals, training_data_Formas, training_data_Vinnova))"
   ]
  },
  {
   "cell_type": "code",
   "execution_count": 38,
   "metadata": {},
   "outputs": [],
   "source": [
    "import pandas as pd"
   ]
  },
  {
   "cell_type": "code",
   "execution_count": 39,
   "metadata": {},
   "outputs": [],
   "source": [
    "training_data_df = pd.DataFrame(data=training_data[:,:], columns=['abstract', 'class'])"
   ]
  },
  {
   "cell_type": "code",
   "execution_count": 40,
   "metadata": {},
   "outputs": [
    {
     "data": {
      "text/html": [
       "<div>\n",
       "<style scoped>\n",
       "    .dataframe tbody tr th:only-of-type {\n",
       "        vertical-align: middle;\n",
       "    }\n",
       "\n",
       "    .dataframe tbody tr th {\n",
       "        vertical-align: top;\n",
       "    }\n",
       "\n",
       "    .dataframe thead th {\n",
       "        text-align: right;\n",
       "    }\n",
       "</style>\n",
       "<table border=\"1\" class=\"dataframe\">\n",
       "  <thead>\n",
       "    <tr style=\"text-align: right;\">\n",
       "      <th></th>\n",
       "      <th>abstract</th>\n",
       "      <th>class</th>\n",
       "    </tr>\n",
       "  </thead>\n",
       "  <tbody>\n",
       "    <tr>\n",
       "      <th>0</th>\n",
       "      <td>ingen hung hung vara en främst dödsorsak i vär...</td>\n",
       "      <td>2</td>\n",
       "    </tr>\n",
       "    <tr>\n",
       "      <th>1</th>\n",
       "      <td>god hälsa och välbefinnande god hälsa vara en ...</td>\n",
       "      <td>3</td>\n",
       "    </tr>\n",
       "    <tr>\n",
       "      <th>2</th>\n",
       "      <td>god utbildning för alla utbildning vara en gru...</td>\n",
       "      <td>4</td>\n",
       "    </tr>\n",
       "    <tr>\n",
       "      <th>3</th>\n",
       "      <td>jämställdhet jämställdhet mellan kvinna och ma...</td>\n",
       "      <td>5</td>\n",
       "    </tr>\n",
       "    <tr>\n",
       "      <th>4</th>\n",
       "      <td>ren vatten och sanitet för alla vatten vara en...</td>\n",
       "      <td>6</td>\n",
       "    </tr>\n",
       "  </tbody>\n",
       "</table>\n",
       "</div>"
      ],
      "text/plain": [
       "                                            abstract class\n",
       "0  ingen hung hung vara en främst dödsorsak i vär...     2\n",
       "1  god hälsa och välbefinnande god hälsa vara en ...     3\n",
       "2  god utbildning för alla utbildning vara en gru...     4\n",
       "3  jämställdhet jämställdhet mellan kvinna och ma...     5\n",
       "4  ren vatten och sanitet för alla vatten vara en...     6"
      ]
     },
     "execution_count": 40,
     "metadata": {},
     "output_type": "execute_result"
    }
   ],
   "source": [
    "training_data_df.head()"
   ]
  },
  {
   "cell_type": "code",
   "execution_count": 45,
   "metadata": {},
   "outputs": [],
   "source": [
    "training_data_df['len'] = training_data_df['abstract'].apply(lambda s : len(s))"
   ]
  },
  {
   "cell_type": "code",
   "execution_count": 46,
   "metadata": {},
   "outputs": [
    {
     "data": {
      "text/plain": [
       "<AxesSubplot:ylabel='Frequency'>"
      ]
     },
     "execution_count": 46,
     "metadata": {},
     "output_type": "execute_result"
    },
    {
     "data": {
      "image/png": "[encoded data removed]",
      "text/plain": [
       "<Figure size 432x288 with 1 Axes>"
      ]
     },
     "metadata": {
      "needs_background": "light"
     },
     "output_type": "display_data"
    }
   ],
   "source": [
    "training_data_df['len'].plot.hist(bins=100)"
   ]
  },
  {
   "cell_type": "code",
   "execution_count": 47,
   "metadata": {},
   "outputs": [
    {
     "data": {
      "text/plain": [
       "1604.8"
      ]
     },
     "execution_count": 47,
     "metadata": {},
     "output_type": "execute_result"
    }
   ],
   "source": [
    "training_data_df.len.quantile(0.9)"
   ]
  },
  {
   "cell_type": "code",
   "execution_count": 23,
   "metadata": {},
   "outputs": [],
   "source": [
    "from sqlalchemy import create_engine\n",
    "table_name = 'Training_set'\n",
    "db_path = 'db/training.sqlite'\n",
    "db_path = 'sqlite:///' + db_path\n",
    "engine = create_engine(db_path, echo=True)"
   ]
  },
  {
   "cell_type": "code",
   "execution_count": 24,
   "metadata": {},
   "outputs": [
    {
     "name": "stdout",
     "output_type": "stream",
     "text": [
      "2020-12-16 02:08:31,445 INFO sqlalchemy.engine.base.Engine SELECT CAST('test plain returns' AS VARCHAR(60)) AS anon_1\n",
      "2020-12-16 02:08:31,446 INFO sqlalchemy.engine.base.Engine ()\n",
      "2020-12-16 02:08:31,448 INFO sqlalchemy.engine.base.Engine SELECT CAST('test unicode returns' AS VARCHAR(60)) AS anon_1\n",
      "2020-12-16 02:08:31,448 INFO sqlalchemy.engine.base.Engine ()\n",
      "2020-12-16 02:08:31,450 INFO sqlalchemy.engine.base.Engine PRAGMA main.table_info(\"Training_set\")\n",
      "2020-12-16 02:08:31,450 INFO sqlalchemy.engine.base.Engine ()\n",
      "2020-12-16 02:08:31,452 INFO sqlalchemy.engine.base.Engine PRAGMA temp.table_info(\"Training_set\")\n",
      "2020-12-16 02:08:31,453 INFO sqlalchemy.engine.base.Engine ()\n",
      "2020-12-16 02:08:31,455 INFO sqlalchemy.engine.base.Engine \n",
      "CREATE TABLE \"Training_set\" (\n",
      "\t\"index\" BIGINT, \n",
      "\tabstract TEXT, \n",
      "\tclass TEXT\n",
      ")\n",
      "\n",
      "\n",
      "2020-12-16 02:08:31,456 INFO sqlalchemy.engine.base.Engine ()\n",
      "2020-12-16 02:08:31,470 INFO sqlalchemy.engine.base.Engine COMMIT\n",
      "2020-12-16 02:08:31,471 INFO sqlalchemy.engine.base.Engine CREATE INDEX \"ix_Training_set_index\" ON \"Training_set\" (\"index\")\n",
      "2020-12-16 02:08:31,471 INFO sqlalchemy.engine.base.Engine ()\n",
      "2020-12-16 02:08:31,484 INFO sqlalchemy.engine.base.Engine COMMIT\n",
      "2020-12-16 02:08:31,487 INFO sqlalchemy.engine.base.Engine BEGIN (implicit)\n",
      "2020-12-16 02:08:31,498 INFO sqlalchemy.engine.base.Engine INSERT INTO \"Training_set\" (\"index\", abstract, class) VALUES (?, ?, ?)\n",
      "2020-12-16 02:08:31,499 INFO sqlalchemy.engine.base.Engine ((0, 'ingen hung hung vara en främst dödsorsak i värld och idag leva ungefär miljon människa i värld i hung brist på mat vara en mänsklig katastrof som ha  ... (5832 characters truncated) ... ksteknik kunna tillgång på mat säkerställa ha en påse med äpplen eller någon konservburk med mat i bil för att vara reda att ge till någon behövande ', '2'), (1, 'god hälsa och välbefinnande god hälsa vara en grundläggande förutsättning för människa möjlighet att nå sig full potential och att bidra till samhäll ... (5796 characters truncated) ...  och förorening som ha en negativ påverkan på människa hälsa bidra till att öka kunskap om mental ohälsa som depression drogmissbruk eller alzheimer ', '3'), (2, 'god utbildning för alla utbildning vara en grundläggande mänsklig rättighet trots den beräkna fortfarande miljon människa i värld inte kunna skriva o ... (6301 characters truncated) ...  i många land tvinga ung flicka lämna skola för att gifta sig belysa fråga starta en diskussion om barnäktenskap med et att hitta lösning på problem ', '4'), (3, 'jämställdhet jämställdhet mellan kvinna och man vara en förutsättning för en hållbar och fredlig utveckling jämställdhet handla om en rättvis fördeln ... (4070 characters truncated) ... vinna som dålig lite intelligent och inkompetent jämföra med man bli fard åt en utsätta flicka för att ge hon bra förutsättning att skapa en bra liv ', '5'), (4, 'ren vatten och sanitet för alla vatten vara en grundförutsättning för allt levande på jord och därmed också en förutsättning för människa hälsa och e ... (5578 characters truncated) ... e år passa på att använda dag och uppmärksamhet för att samla in pengar till en organisation som arbeta med att öka tillgång till vatten och sanitet ', '6'), (5, 'hållbar energi för alla tillgång till hållbar tillförlitlig och förnyba energi och rena bränsle vara en förutsättning för att kunna möta flera av en  ... (2980 characters truncated) ... a på idag utmana sedan du själv och du familj med att försöka sänka elräkning genom att slöa lite el håll koll på hur elräkning utveckla bli den bra ', '7'), (6, 'anständig arbetsvillkor och ekonomisk tillväxt idag befinna sig mycket än hälft av värld arbetstagare i osäker anställning ofta med dålig lön och beg ... (6885 characters truncated) ... r genom att ge mikrolån för att stötta de företagsdröm stötta internationell kampanj mot modern slaveri tvångsarbete trafficking och tvångsäktenskap ', '8'), (7, 'hållbar industri innovation och infrastruktur en fungera och stabil infrastruktur vara grund för alla framgångsrik samhälle för att möta framtida utm ... (4378 characters truncated) ...  passa på att öka kunskap om de runt en till en och en halv miljard människa på jord som inte ha tillgång till grundläggande kommunikationsmöjlighet ', '9')  ... displaying 10 of 1533 total bound parameter sets ...  (1531, '  ha utreda förutsättning för en testbädd i samverkan mellan försvarssektor och rise tillsammans med annan viktig aktör som kommunalräddningstjänst t ... (1260 characters truncated) ... vsdel denna pga av att metod lämpa sig för olik skala preliminär utvärderingskriterium ha ta fram såväl för arvsdel som för framtidsdel av projektet ', '17'), (1532, '  projekt primär vara att utifrån en verksamhetsutvecklande perspektiv underlätta arbete med att bygga en robus sammanhålle kvalitetssystem för en lä ... (775 characters truncated) ... partsdialog och värdering kunna utforma och hur resultat från denna kunna ta om hand i en kontinuerlig verksamhetsutveckling och kvalitetsperspektiv ', '17'))\n",
      "2020-12-16 02:08:31,524 INFO sqlalchemy.engine.base.Engine COMMIT\n",
      "2020-12-16 02:08:31,558 INFO sqlalchemy.engine.base.Engine SELECT name FROM sqlite_master WHERE type='table' ORDER BY name\n",
      "2020-12-16 02:08:31,559 INFO sqlalchemy.engine.base.Engine ()\n"
     ]
    }
   ],
   "source": [
    "training_data_df.to_sql(table_name, engine, if_exists='fail')"
   ]
  }
 ],
 "metadata": {
  "kernelspec": {
   "display_name": "Python 3",
   "language": "python",
   "name": "python3"
  },
  "language_info": {
   "codemirror_mode": {
    "name": "ipython",
    "version": 3
   },
   "file_extension": ".py",
   "mimetype": "text/x-python",
   "name": "python",
   "nbconvert_exporter": "python",
   "pygments_lexer": "ipython3",
   "version": "3.8.5"
  }
 },
 "nbformat": 4,
 "nbformat_minor": 4
}
