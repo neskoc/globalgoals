{
 "cells": [
  {
   "cell_type": "code",
   "execution_count": 12,
   "metadata": {},
   "outputs": [],
   "source": [
    "import sqlite3\n",
    "import numpy as np"
   ]
  },
  {
   "cell_type": "code",
   "execution_count": 13,
   "metadata": {},
   "outputs": [],
   "source": [
    "def fetchTrainingData(db, sqlCmd):\n",
    "    try:\n",
    "        conn = sqlite3.connect(db)\n",
    "        cursor = conn.cursor()\n",
    "        cursor.execute(sqlCmd)\n",
    "        result = cursor.fetchall()\n",
    "        conn.commit()\n",
    "        cursor.close()\n",
    "        return result\n",
    "\n",
    "    except sqlite3.Error as error:\n",
    "        print(\"Failed to run sqlite command\", error)\n",
    "    finally:\n",
    "        if (conn):\n",
    "            conn.close()"
   ]
  },
  {
   "cell_type": "code",
   "execution_count": 14,
   "metadata": {},
   "outputs": [],
   "source": [
    "db_path = 'db/categorised_swecris.sqlite'"
   ]
  },
  {
   "cell_type": "code",
   "execution_count": 15,
   "metadata": {},
   "outputs": [],
   "source": [
    "init = False\n",
    "for ix in range(2,18):\n",
    "    sqlCmd = f'''\n",
    "        SELECT abstract, Formas1 AS class FROM clean_swecris\n",
    "            WHERE class == '{ix}' ORDER BY RANDOM() LIMIT 99\n",
    "        '''\n",
    "    result = np.array(fetchTrainingData(db_path, sqlCmd))\n",
    "    if (not init and result.size > 0):\n",
    "        training_data_Formas = np.copy(result)\n",
    "        init = True\n",
    "    elif (result.size > 0):\n",
    "        training_data_Formas = np.vstack((training_data_Formas, result))"
   ]
  },
  {
   "cell_type": "code",
   "execution_count": 16,
   "metadata": {},
   "outputs": [
    {
     "name": "stdout",
     "output_type": "stream",
     "text": [
      "4\n",
      "5\n",
      "6\n",
      "7\n",
      "8\n",
      "9\n",
      "10\n",
      "11\n",
      "13\n",
      "14\n",
      "16\n",
      "17\n"
     ]
    }
   ],
   "source": [
    "init = False\n",
    "for ix in range(2,18):\n",
    "    sqlCmd = f'''\n",
    "        SELECT abstract, Self1 AS class FROM clean_swecris \n",
    "            WHERE Self1 == '{ix}' ORDER BY RANDOM()\n",
    "            LIMIT\n",
    "                CASE \n",
    "                    WHEN (99 - (SELECT count(Formas1) FROM clean_swecris WHERE Formas1 == '{ix}')) > 0\n",
    "                        THEN (SELECT 99 - count(Formas1) FROM clean_swecris WHERE Formas1 == '{ix}')\n",
    "                    ELSE 0\n",
    "                END;\n",
    "        '''\n",
    "    result = np.array(fetchTrainingData(db_path, sqlCmd))\n",
    "    if (not init and result.size > 0):\n",
    "        training_data_Vinnova = np.copy(result)\n",
    "        init = True\n",
    "    elif (result.size > 0):\n",
    "        training_data_Vinnova = np.vstack((training_data_Vinnova, result))\n",
    "        print(ix)"
   ]
  },
  {
   "cell_type": "code",
   "execution_count": 17,
   "metadata": {},
   "outputs": [],
   "source": [
    "init = False\n",
    "for ix in range(2,17):\n",
    "    sqlCmd = f'''\n",
    "        SELECT abstract, goals AS class FROM clean_goals\n",
    "            WHERE class == '{ix}';\n",
    "        '''\n",
    "    result = np.array(fetchTrainingData(db_path, sqlCmd))\n",
    "    if (not init and result.size > 0):\n",
    "        training_data_Goals = np.copy(result)\n",
    "        init = True\n",
    "    else:\n",
    "        training_data_Goals = np.vstack((training_data_Goals, result))"
   ]
  },
  {
   "cell_type": "code",
   "execution_count": 18,
   "metadata": {},
   "outputs": [],
   "source": [
    "training_data = np.vstack((training_data_Goals, training_data_Formas, training_data_Vinnova))"
   ]
  },
  {
   "cell_type": "code",
   "execution_count": 19,
   "metadata": {},
   "outputs": [],
   "source": [
    "import pandas as pd"
   ]
  },
  {
   "cell_type": "code",
   "execution_count": 20,
   "metadata": {},
   "outputs": [],
   "source": [
    "training_data_df = pd.DataFrame(data=training_data[:,:], columns=['abstract', 'class'])"
   ]
  },
  {
   "cell_type": "code",
   "execution_count": 21,
   "metadata": {},
   "outputs": [
    {
     "data": {
      "text/html": [
       "<div>\n",
       "<style scoped>\n",
       "    .dataframe tbody tr th:only-of-type {\n",
       "        vertical-align: middle;\n",
       "    }\n",
       "\n",
       "    .dataframe tbody tr th {\n",
       "        vertical-align: top;\n",
       "    }\n",
       "\n",
       "    .dataframe thead th {\n",
       "        text-align: right;\n",
       "    }\n",
       "</style>\n",
       "<table border=\"1\" class=\"dataframe\">\n",
       "  <thead>\n",
       "    <tr style=\"text-align: right;\">\n",
       "      <th></th>\n",
       "      <th>abstract</th>\n",
       "      <th>class</th>\n",
       "    </tr>\n",
       "  </thead>\n",
       "  <tbody>\n",
       "    <tr>\n",
       "      <th>0</th>\n",
       "      <td>ingen hung hung vara en främst dödsorsak i vär...</td>\n",
       "      <td>2</td>\n",
       "    </tr>\n",
       "    <tr>\n",
       "      <th>1</th>\n",
       "      <td>god hälsa och välbefinnande god hälsa vara en ...</td>\n",
       "      <td>3</td>\n",
       "    </tr>\n",
       "    <tr>\n",
       "      <th>2</th>\n",
       "      <td>god utbildning för alla utbildning vara en gru...</td>\n",
       "      <td>4</td>\n",
       "    </tr>\n",
       "    <tr>\n",
       "      <th>3</th>\n",
       "      <td>jämställdhet jämställdhet mellan kvinna och ma...</td>\n",
       "      <td>5</td>\n",
       "    </tr>\n",
       "    <tr>\n",
       "      <th>4</th>\n",
       "      <td>ren vatten och sanitet för alla vatten vara en...</td>\n",
       "      <td>6</td>\n",
       "    </tr>\n",
       "    <tr>\n",
       "      <th>...</th>\n",
       "      <td>...</td>\n",
       "      <td>...</td>\n",
       "    </tr>\n",
       "    <tr>\n",
       "      <th>1528</th>\n",
       "      <td>mcflairs vara en startup och vi få chans att...</td>\n",
       "      <td>17</td>\n",
       "    </tr>\n",
       "    <tr>\n",
       "      <th>1529</th>\n",
       "      <td>utveckla en hållbar och mobil tältplattform ...</td>\n",
       "      <td>17</td>\n",
       "    </tr>\n",
       "    <tr>\n",
       "      <th>1530</th>\n",
       "      <td>denna ansökan avse en delfinansiering av res...</td>\n",
       "      <td>17</td>\n",
       "    </tr>\n",
       "    <tr>\n",
       "      <th>1531</th>\n",
       "      <td>ha utreda förutsättning för en testbädd i sa...</td>\n",
       "      <td>17</td>\n",
       "    </tr>\n",
       "    <tr>\n",
       "      <th>1532</th>\n",
       "      <td>projekt primär vara att utifrån en verksamhe...</td>\n",
       "      <td>17</td>\n",
       "    </tr>\n",
       "  </tbody>\n",
       "</table>\n",
       "<p>1533 rows × 2 columns</p>\n",
       "</div>"
      ],
      "text/plain": [
       "                                               abstract class\n",
       "0     ingen hung hung vara en främst dödsorsak i vär...     2\n",
       "1     god hälsa och välbefinnande god hälsa vara en ...     3\n",
       "2     god utbildning för alla utbildning vara en gru...     4\n",
       "3     jämställdhet jämställdhet mellan kvinna och ma...     5\n",
       "4     ren vatten och sanitet för alla vatten vara en...     6\n",
       "...                                                 ...   ...\n",
       "1528    mcflairs vara en startup och vi få chans att...    17\n",
       "1529    utveckla en hållbar och mobil tältplattform ...    17\n",
       "1530    denna ansökan avse en delfinansiering av res...    17\n",
       "1531    ha utreda förutsättning för en testbädd i sa...    17\n",
       "1532    projekt primär vara att utifrån en verksamhe...    17\n",
       "\n",
       "[1533 rows x 2 columns]"
      ]
     },
     "execution_count": 21,
     "metadata": {},
     "output_type": "execute_result"
    }
   ],
   "source": [
    "training_data_df"
   ]
  },
  {
   "cell_type": "code",
   "execution_count": null,
   "metadata": {},
   "outputs": [],
   "source": []
  }
 ],
 "metadata": {
  "kernelspec": {
   "display_name": "Python 3",
   "language": "python",
   "name": "python3"
  },
  "language_info": {
   "codemirror_mode": {
    "name": "ipython",
    "version": 3
   },
   "file_extension": ".py",
   "mimetype": "text/x-python",
   "name": "python",
   "nbconvert_exporter": "python",
   "pygments_lexer": "ipython3",
   "version": "3.8.5"
  }
 },
 "nbformat": 4,
 "nbformat_minor": 4
}
